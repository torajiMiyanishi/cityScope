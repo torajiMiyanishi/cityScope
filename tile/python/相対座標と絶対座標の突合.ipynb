{
 "cells": [
  {
   "cell_type": "code",
   "execution_count": 9,
   "id": "initial_id",
   "metadata": {
    "collapsed": true,
    "ExecuteTime": {
     "end_time": "2024-10-10T06:41:44.541125500Z",
     "start_time": "2024-10-10T06:41:44.530287800Z"
    }
   },
   "outputs": [],
   "source": [
    "import pandas as pd\n",
    "from pandas import json_normalize\n",
    "import json"
   ]
  },
  {
   "cell_type": "code",
   "execution_count": 4,
   "outputs": [],
   "source": [
    "path_to_json = r\"C:\\Users\\tora2\\IdeaProjects\\cityScope\\visual\\realtime_scatter\\tile_data_4_6.json\""
   ],
   "metadata": {
    "collapsed": false,
    "ExecuteTime": {
     "end_time": "2024-10-10T06:40:24.530908300Z",
     "start_time": "2024-10-10T06:40:24.509821200Z"
    }
   },
   "id": "73792f3807f014d1"
  },
  {
   "cell_type": "code",
   "execution_count": 7,
   "outputs": [
    {
     "data": {
      "text/plain": "                 type                                           features\n0   FeatureCollection  {'id': '0', 'type': 'Feature', 'properties': {...\n1   FeatureCollection  {'id': '1', 'type': 'Feature', 'properties': {...\n2   FeatureCollection  {'id': '2', 'type': 'Feature', 'properties': {...\n3   FeatureCollection  {'id': '3', 'type': 'Feature', 'properties': {...\n4   FeatureCollection  {'id': '4', 'type': 'Feature', 'properties': {...\n5   FeatureCollection  {'id': '5', 'type': 'Feature', 'properties': {...\n6   FeatureCollection  {'id': '6', 'type': 'Feature', 'properties': {...\n7   FeatureCollection  {'id': '7', 'type': 'Feature', 'properties': {...\n8   FeatureCollection  {'id': '8', 'type': 'Feature', 'properties': {...\n9   FeatureCollection  {'id': '9', 'type': 'Feature', 'properties': {...\n10  FeatureCollection  {'id': '10', 'type': 'Feature', 'properties': ...\n11  FeatureCollection  {'id': '11', 'type': 'Feature', 'properties': ...\n12  FeatureCollection  {'id': '12', 'type': 'Feature', 'properties': ...\n13  FeatureCollection  {'id': '13', 'type': 'Feature', 'properties': ...\n14  FeatureCollection  {'id': '14', 'type': 'Feature', 'properties': ...\n15  FeatureCollection  {'id': '15', 'type': 'Feature', 'properties': ...\n16  FeatureCollection  {'id': '16', 'type': 'Feature', 'properties': ...\n17  FeatureCollection  {'id': '17', 'type': 'Feature', 'properties': ...\n18  FeatureCollection  {'id': '18', 'type': 'Feature', 'properties': ...\n19  FeatureCollection  {'id': '19', 'type': 'Feature', 'properties': ...\n20  FeatureCollection  {'id': '20', 'type': 'Feature', 'properties': ...\n21  FeatureCollection  {'id': '21', 'type': 'Feature', 'properties': ...\n22  FeatureCollection  {'id': '22', 'type': 'Feature', 'properties': ...\n23  FeatureCollection  {'id': '23', 'type': 'Feature', 'properties': ...\n24  FeatureCollection  {'id': '24', 'type': 'Feature', 'properties': ...\n25  FeatureCollection  {'id': '25', 'type': 'Feature', 'properties': ...\n26  FeatureCollection  {'id': '26', 'type': 'Feature', 'properties': ...\n27  FeatureCollection  {'id': '27', 'type': 'Feature', 'properties': ...\n28  FeatureCollection  {'id': '28', 'type': 'Feature', 'properties': ...\n29  FeatureCollection  {'id': '29', 'type': 'Feature', 'properties': ...\n30  FeatureCollection  {'id': '30', 'type': 'Feature', 'properties': ...\n31  FeatureCollection  {'id': '31', 'type': 'Feature', 'properties': ...\n32  FeatureCollection  {'id': '32', 'type': 'Feature', 'properties': ...\n33  FeatureCollection  {'id': '33', 'type': 'Feature', 'properties': ...\n34  FeatureCollection  {'id': '34', 'type': 'Feature', 'properties': ...",
      "text/html": "<div>\n<style scoped>\n    .dataframe tbody tr th:only-of-type {\n        vertical-align: middle;\n    }\n\n    .dataframe tbody tr th {\n        vertical-align: top;\n    }\n\n    .dataframe thead th {\n        text-align: right;\n    }\n</style>\n<table border=\"1\" class=\"dataframe\">\n  <thead>\n    <tr style=\"text-align: right;\">\n      <th></th>\n      <th>type</th>\n      <th>features</th>\n    </tr>\n  </thead>\n  <tbody>\n    <tr>\n      <th>0</th>\n      <td>FeatureCollection</td>\n      <td>{'id': '0', 'type': 'Feature', 'properties': {...</td>\n    </tr>\n    <tr>\n      <th>1</th>\n      <td>FeatureCollection</td>\n      <td>{'id': '1', 'type': 'Feature', 'properties': {...</td>\n    </tr>\n    <tr>\n      <th>2</th>\n      <td>FeatureCollection</td>\n      <td>{'id': '2', 'type': 'Feature', 'properties': {...</td>\n    </tr>\n    <tr>\n      <th>3</th>\n      <td>FeatureCollection</td>\n      <td>{'id': '3', 'type': 'Feature', 'properties': {...</td>\n    </tr>\n    <tr>\n      <th>4</th>\n      <td>FeatureCollection</td>\n      <td>{'id': '4', 'type': 'Feature', 'properties': {...</td>\n    </tr>\n    <tr>\n      <th>5</th>\n      <td>FeatureCollection</td>\n      <td>{'id': '5', 'type': 'Feature', 'properties': {...</td>\n    </tr>\n    <tr>\n      <th>6</th>\n      <td>FeatureCollection</td>\n      <td>{'id': '6', 'type': 'Feature', 'properties': {...</td>\n    </tr>\n    <tr>\n      <th>7</th>\n      <td>FeatureCollection</td>\n      <td>{'id': '7', 'type': 'Feature', 'properties': {...</td>\n    </tr>\n    <tr>\n      <th>8</th>\n      <td>FeatureCollection</td>\n      <td>{'id': '8', 'type': 'Feature', 'properties': {...</td>\n    </tr>\n    <tr>\n      <th>9</th>\n      <td>FeatureCollection</td>\n      <td>{'id': '9', 'type': 'Feature', 'properties': {...</td>\n    </tr>\n    <tr>\n      <th>10</th>\n      <td>FeatureCollection</td>\n      <td>{'id': '10', 'type': 'Feature', 'properties': ...</td>\n    </tr>\n    <tr>\n      <th>11</th>\n      <td>FeatureCollection</td>\n      <td>{'id': '11', 'type': 'Feature', 'properties': ...</td>\n    </tr>\n    <tr>\n      <th>12</th>\n      <td>FeatureCollection</td>\n      <td>{'id': '12', 'type': 'Feature', 'properties': ...</td>\n    </tr>\n    <tr>\n      <th>13</th>\n      <td>FeatureCollection</td>\n      <td>{'id': '13', 'type': 'Feature', 'properties': ...</td>\n    </tr>\n    <tr>\n      <th>14</th>\n      <td>FeatureCollection</td>\n      <td>{'id': '14', 'type': 'Feature', 'properties': ...</td>\n    </tr>\n    <tr>\n      <th>15</th>\n      <td>FeatureCollection</td>\n      <td>{'id': '15', 'type': 'Feature', 'properties': ...</td>\n    </tr>\n    <tr>\n      <th>16</th>\n      <td>FeatureCollection</td>\n      <td>{'id': '16', 'type': 'Feature', 'properties': ...</td>\n    </tr>\n    <tr>\n      <th>17</th>\n      <td>FeatureCollection</td>\n      <td>{'id': '17', 'type': 'Feature', 'properties': ...</td>\n    </tr>\n    <tr>\n      <th>18</th>\n      <td>FeatureCollection</td>\n      <td>{'id': '18', 'type': 'Feature', 'properties': ...</td>\n    </tr>\n    <tr>\n      <th>19</th>\n      <td>FeatureCollection</td>\n      <td>{'id': '19', 'type': 'Feature', 'properties': ...</td>\n    </tr>\n    <tr>\n      <th>20</th>\n      <td>FeatureCollection</td>\n      <td>{'id': '20', 'type': 'Feature', 'properties': ...</td>\n    </tr>\n    <tr>\n      <th>21</th>\n      <td>FeatureCollection</td>\n      <td>{'id': '21', 'type': 'Feature', 'properties': ...</td>\n    </tr>\n    <tr>\n      <th>22</th>\n      <td>FeatureCollection</td>\n      <td>{'id': '22', 'type': 'Feature', 'properties': ...</td>\n    </tr>\n    <tr>\n      <th>23</th>\n      <td>FeatureCollection</td>\n      <td>{'id': '23', 'type': 'Feature', 'properties': ...</td>\n    </tr>\n    <tr>\n      <th>24</th>\n      <td>FeatureCollection</td>\n      <td>{'id': '24', 'type': 'Feature', 'properties': ...</td>\n    </tr>\n    <tr>\n      <th>25</th>\n      <td>FeatureCollection</td>\n      <td>{'id': '25', 'type': 'Feature', 'properties': ...</td>\n    </tr>\n    <tr>\n      <th>26</th>\n      <td>FeatureCollection</td>\n      <td>{'id': '26', 'type': 'Feature', 'properties': ...</td>\n    </tr>\n    <tr>\n      <th>27</th>\n      <td>FeatureCollection</td>\n      <td>{'id': '27', 'type': 'Feature', 'properties': ...</td>\n    </tr>\n    <tr>\n      <th>28</th>\n      <td>FeatureCollection</td>\n      <td>{'id': '28', 'type': 'Feature', 'properties': ...</td>\n    </tr>\n    <tr>\n      <th>29</th>\n      <td>FeatureCollection</td>\n      <td>{'id': '29', 'type': 'Feature', 'properties': ...</td>\n    </tr>\n    <tr>\n      <th>30</th>\n      <td>FeatureCollection</td>\n      <td>{'id': '30', 'type': 'Feature', 'properties': ...</td>\n    </tr>\n    <tr>\n      <th>31</th>\n      <td>FeatureCollection</td>\n      <td>{'id': '31', 'type': 'Feature', 'properties': ...</td>\n    </tr>\n    <tr>\n      <th>32</th>\n      <td>FeatureCollection</td>\n      <td>{'id': '32', 'type': 'Feature', 'properties': ...</td>\n    </tr>\n    <tr>\n      <th>33</th>\n      <td>FeatureCollection</td>\n      <td>{'id': '33', 'type': 'Feature', 'properties': ...</td>\n    </tr>\n    <tr>\n      <th>34</th>\n      <td>FeatureCollection</td>\n      <td>{'id': '34', 'type': 'Feature', 'properties': ...</td>\n    </tr>\n  </tbody>\n</table>\n</div>"
     },
     "execution_count": 7,
     "metadata": {},
     "output_type": "execute_result"
    }
   ],
   "source": [
    "pd.read_json(path_to_json,orient=\"records\")"
   ],
   "metadata": {
    "collapsed": false,
    "ExecuteTime": {
     "end_time": "2024-10-10T06:41:02.509691100Z",
     "start_time": "2024-10-10T06:41:02.451989700Z"
    }
   },
   "id": "a598aa69ece1d216"
  },
  {
   "cell_type": "code",
   "execution_count": 11,
   "outputs": [
    {
     "data": {
      "text/plain": "                type                                           features\n0  FeatureCollection  [{'id': '0', 'type': 'Feature', 'properties': ...",
      "text/html": "<div>\n<style scoped>\n    .dataframe tbody tr th:only-of-type {\n        vertical-align: middle;\n    }\n\n    .dataframe tbody tr th {\n        vertical-align: top;\n    }\n\n    .dataframe thead th {\n        text-align: right;\n    }\n</style>\n<table border=\"1\" class=\"dataframe\">\n  <thead>\n    <tr style=\"text-align: right;\">\n      <th></th>\n      <th>type</th>\n      <th>features</th>\n    </tr>\n  </thead>\n  <tbody>\n    <tr>\n      <th>0</th>\n      <td>FeatureCollection</td>\n      <td>[{'id': '0', 'type': 'Feature', 'properties': ...</td>\n    </tr>\n  </tbody>\n</table>\n</div>"
     },
     "execution_count": 11,
     "metadata": {},
     "output_type": "execute_result"
    }
   ],
   "source": [
    "# JSONデータがネストされている場合\n",
    "with open(path_to_json, 'r') as file:\n",
    "    data = json.load(file)\n",
    "\n",
    "# ネストされたJSONをフラットに変換\n",
    "df = json_normalize(data)\n",
    "df"
   ],
   "metadata": {
    "collapsed": false,
    "ExecuteTime": {
     "end_time": "2024-10-10T06:41:56.252492300Z",
     "start_time": "2024-10-10T06:41:56.209179400Z"
    }
   },
   "id": "15af7921ed0ba60a"
  },
  {
   "cell_type": "code",
   "execution_count": null,
   "outputs": [],
   "source": [],
   "metadata": {
    "collapsed": false
   },
   "id": "e3601a0cf4e8640e"
  }
 ],
 "metadata": {
  "kernelspec": {
   "display_name": "Python 3",
   "language": "python",
   "name": "python3"
  },
  "language_info": {
   "codemirror_mode": {
    "name": "ipython",
    "version": 2
   },
   "file_extension": ".py",
   "mimetype": "text/x-python",
   "name": "python",
   "nbconvert_exporter": "python",
   "pygments_lexer": "ipython2",
   "version": "2.7.6"
  }
 },
 "nbformat": 4,
 "nbformat_minor": 5
}
