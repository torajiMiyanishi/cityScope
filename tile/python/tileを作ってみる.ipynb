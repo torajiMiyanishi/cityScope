{
 "cells": [
  {
   "cell_type": "code",
   "execution_count": 1,
   "outputs": [],
   "source": [
    "import math\n",
    "import geopandas as gpd\n",
    "from shapely.geometry import Polygon\n",
    "import folium\n",
    "import sqlite3"
   ],
   "metadata": {
    "collapsed": false,
    "ExecuteTime": {
     "end_time": "2024-10-29T10:35:39.642169700Z",
     "start_time": "2024-10-29T10:35:34.964877300Z"
    }
   },
   "id": "ea7518826be4645"
  },
  {
   "cell_type": "code",
   "execution_count": 2,
   "id": "initial_id",
   "metadata": {
    "collapsed": true,
    "ExecuteTime": {
     "end_time": "2024-10-29T10:35:39.653371600Z",
     "start_time": "2024-10-29T10:35:39.646400100Z"
    }
   },
   "outputs": [],
   "source": [
    "def tile_to_lat_lon(zoom, x, y):\n",
    "    n = 2 ** zoom\n",
    "    lon = x / n * 360.0 - 180.0\n",
    "    lat = math.degrees(math.atan(math.sinh(math.pi * (1 - 2 * y / n))))\n",
    "    return lat, lon\n",
    "\n",
    "def tile_to_polygon(zoom, x, y):\n",
    "    lat1, lon1 = tile_to_lat_lon(zoom, x, y)  # Top-left corner\n",
    "    lat2, lon2 = tile_to_lat_lon(zoom, x + 1, y + 1)  # Bottom-right corner\n",
    "    return Polygon([(lon1, lat1), (lon2, lat1), (lon2, lat2), (lon1, lat2)])\n",
    "\n",
    "def lat_lon_to_tile(lat, lon, zoom):\n",
    "    n = 2 ** zoom\n",
    "    x = int((lon + 180.0) / 360.0 * n)\n",
    "    y = int((1 - math.log(math.tan(math.radians(lat)) + 1 / math.cos(math.radians(lat))) / math.pi) / 2 * n)\n",
    "    return x, y\n",
    "\n",
    "def generate_tiles_from_top_left(lat, lon, zoom, n, m):\n",
    "    top_left_x, top_left_y = lat_lon_to_tile(lat, lon, zoom)\n",
    "\n",
    "    tiles = []\n",
    "    for i in range(m):\n",
    "        for j in range(n):\n",
    "            x = top_left_x + i\n",
    "            y = top_left_y + j\n",
    "            x_rel = i\n",
    "            y_rel = j\n",
    "            tiles.append((zoom, x, y, x_rel, y_rel))\n",
    "\n",
    "    return tiles\n",
    "\n",
    "def generate_geodataframe_for_tiles(tiles):\n",
    "    records = []\n",
    "    for zoom, x, y, x_rel, y_rel in tiles:\n",
    "        polygon = tile_to_polygon(zoom, x, y)\n",
    "        records.append({\n",
    "            'zoom': zoom,\n",
    "            'x': x,\n",
    "            'y': y,\n",
    "            'x_rel': x_rel,\n",
    "            'y_rel': y_rel,\n",
    "            'geometry': polygon\n",
    "        })\n",
    "\n",
    "    gdf = gpd.GeoDataFrame(records, crs=\"EPSG:4326\")\n",
    "    return gdf\n"
   ]
  },
  {
   "cell_type": "code",
   "execution_count": 3,
   "outputs": [],
   "source": [
    "ref_lat, ref_lon = 35.42514145560098, 139.58607122847198\n",
    "zoom = 17\n",
    "n,m = 4,5 # vertical, horizontal\n",
    "tiles = generate_tiles_from_top_left(ref_lat,ref_lon,zoom,n,m)\n",
    "gdf = generate_geodataframe_for_tiles(tiles)\n",
    "gdf[\"label\"] = 0 # ラベル用"
   ],
   "metadata": {
    "collapsed": false,
    "ExecuteTime": {
     "end_time": "2024-10-29T10:35:39.686791500Z",
     "start_time": "2024-10-29T10:35:39.655372500Z"
    }
   },
   "id": "e3f963e6fe7beaf4"
  },
  {
   "cell_type": "code",
   "execution_count": 4,
   "outputs": [
    {
     "data": {
      "text/plain": "<folium.folium.Map at 0x1ed8420ee40>",
      "text/html": "<div style=\"width:100%;\"><div style=\"position:relative;width:100%;height:0;padding-bottom:60%;\"><span style=\"color:#565656\">Make this Notebook Trusted to load map: File -> Trust Notebook</span><iframe srcdoc=\"&lt;!DOCTYPE html&gt;\n&lt;html&gt;\n&lt;head&gt;\n    \n    &lt;meta http-equiv=&quot;content-type&quot; content=&quot;text/html; charset=UTF-8&quot; /&gt;\n    \n        &lt;script&gt;\n            L_NO_TOUCH = false;\n            L_DISABLE_3D = false;\n        &lt;/script&gt;\n    \n    &lt;style&gt;html, body {width: 100%;height: 100%;margin: 0;padding: 0;}&lt;/style&gt;\n    &lt;style&gt;#map {position:absolute;top:0;bottom:0;right:0;left:0;}&lt;/style&gt;\n    &lt;script src=&quot;https://cdn.jsdelivr.net/npm/leaflet@1.9.3/dist/leaflet.js&quot;&gt;&lt;/script&gt;\n    &lt;script src=&quot;https://code.jquery.com/jquery-3.7.1.min.js&quot;&gt;&lt;/script&gt;\n    &lt;script src=&quot;https://cdn.jsdelivr.net/npm/bootstrap@5.2.2/dist/js/bootstrap.bundle.min.js&quot;&gt;&lt;/script&gt;\n    &lt;script src=&quot;https://cdnjs.cloudflare.com/ajax/libs/Leaflet.awesome-markers/2.0.2/leaflet.awesome-markers.js&quot;&gt;&lt;/script&gt;\n    &lt;link rel=&quot;stylesheet&quot; href=&quot;https://cdn.jsdelivr.net/npm/leaflet@1.9.3/dist/leaflet.css&quot;/&gt;\n    &lt;link rel=&quot;stylesheet&quot; href=&quot;https://cdn.jsdelivr.net/npm/bootstrap@5.2.2/dist/css/bootstrap.min.css&quot;/&gt;\n    &lt;link rel=&quot;stylesheet&quot; href=&quot;https://netdna.bootstrapcdn.com/bootstrap/3.0.0/css/bootstrap-glyphicons.css&quot;/&gt;\n    &lt;link rel=&quot;stylesheet&quot; href=&quot;https://cdn.jsdelivr.net/npm/@fortawesome/fontawesome-free@6.2.0/css/all.min.css&quot;/&gt;\n    &lt;link rel=&quot;stylesheet&quot; href=&quot;https://cdnjs.cloudflare.com/ajax/libs/Leaflet.awesome-markers/2.0.2/leaflet.awesome-markers.css&quot;/&gt;\n    &lt;link rel=&quot;stylesheet&quot; href=&quot;https://cdn.jsdelivr.net/gh/python-visualization/folium/folium/templates/leaflet.awesome.rotate.min.css&quot;/&gt;\n    \n            &lt;meta name=&quot;viewport&quot; content=&quot;width=device-width,\n                initial-scale=1.0, maximum-scale=1.0, user-scalable=no&quot; /&gt;\n            &lt;style&gt;\n                #map_ad2b652936850fe9878d6f223d6c9a6d {\n                    position: relative;\n                    width: 100.0%;\n                    height: 100.0%;\n                    left: 0.0%;\n                    top: 0.0%;\n                }\n                .leaflet-container { font-size: 1rem; }\n            &lt;/style&gt;\n        \n&lt;/head&gt;\n&lt;body&gt;\n    \n    \n            &lt;div class=&quot;folium-map&quot; id=&quot;map_ad2b652936850fe9878d6f223d6c9a6d&quot; &gt;&lt;/div&gt;\n        \n&lt;/body&gt;\n&lt;script&gt;\n    \n    \n            var map_ad2b652936850fe9878d6f223d6c9a6d = L.map(\n                &quot;map_ad2b652936850fe9878d6f223d6c9a6d&quot;,\n                {\n                    center: [35.42514145560098, 139.58607122847198],\n                    crs: L.CRS.EPSG3857,\n                    zoom: 14,\n                    zoomControl: true,\n                    preferCanvas: false,\n                }\n            );\n\n            \n\n        \n    \n            var tile_layer_c82c4d417c4de0018ba51eb1c47b08ad = L.tileLayer(\n                &quot;https://tile.openstreetmap.org/{z}/{x}/{y}.png&quot;,\n                {&quot;attribution&quot;: &quot;\\u0026copy; \\u003ca href=\\&quot;https://www.openstreetmap.org/copyright\\&quot;\\u003eOpenStreetMap\\u003c/a\\u003e contributors&quot;, &quot;detectRetina&quot;: false, &quot;maxNativeZoom&quot;: 19, &quot;maxZoom&quot;: 19, &quot;minZoom&quot;: 0, &quot;noWrap&quot;: false, &quot;opacity&quot;: 1, &quot;subdomains&quot;: &quot;abc&quot;, &quot;tms&quot;: false}\n            );\n        \n    \n            tile_layer_c82c4d417c4de0018ba51eb1c47b08ad.addTo(map_ad2b652936850fe9878d6f223d6c9a6d);\n        \n    \n        function geo_json_ff51172fe32e33c152da2e1c526023d0_styler(feature) {\n            switch(feature.id) {\n                default:\n                    return {&quot;color&quot;: &quot;blue&quot;, &quot;fillColor&quot;: &quot;blue&quot;, &quot;fillOpacity&quot;: 0.2, &quot;weight&quot;: 1};\n            }\n        }\n\n        function geo_json_ff51172fe32e33c152da2e1c526023d0_onEachFeature(feature, layer) {\n            layer.on({\n            });\n        };\n        var geo_json_ff51172fe32e33c152da2e1c526023d0 = L.geoJson(null, {\n                onEachFeature: geo_json_ff51172fe32e33c152da2e1c526023d0_onEachFeature,\n            \n                style: geo_json_ff51172fe32e33c152da2e1c526023d0_styler,\n        });\n\n        function geo_json_ff51172fe32e33c152da2e1c526023d0_add (data) {\n            geo_json_ff51172fe32e33c152da2e1c526023d0\n                .addData(data);\n        }\n            geo_json_ff51172fe32e33c152da2e1c526023d0_add({&quot;features&quot;: [{&quot;geometry&quot;: {&quot;coordinates&quot;: [[[139.58404541015625, 35.42710601280136], [139.5867919921875, 35.42710601280136], [139.5867919921875, 35.42486791930557], [139.58404541015625, 35.42486791930557], [139.58404541015625, 35.42710601280136]]], &quot;type&quot;: &quot;Polygon&quot;}, &quot;id&quot;: &quot;0&quot;, &quot;type&quot;: &quot;Feature&quot;}], &quot;type&quot;: &quot;FeatureCollection&quot;});\n\n        \n    \n            geo_json_ff51172fe32e33c152da2e1c526023d0.addTo(map_ad2b652936850fe9878d6f223d6c9a6d);\n        \n    \n        function geo_json_0c93d9563bf62bcbab9adf83d7a2bbc1_styler(feature) {\n            switch(feature.id) {\n                default:\n                    return {&quot;color&quot;: &quot;blue&quot;, &quot;fillColor&quot;: &quot;blue&quot;, &quot;fillOpacity&quot;: 0.2, &quot;weight&quot;: 1};\n            }\n        }\n\n        function geo_json_0c93d9563bf62bcbab9adf83d7a2bbc1_onEachFeature(feature, layer) {\n            layer.on({\n            });\n        };\n        var geo_json_0c93d9563bf62bcbab9adf83d7a2bbc1 = L.geoJson(null, {\n                onEachFeature: geo_json_0c93d9563bf62bcbab9adf83d7a2bbc1_onEachFeature,\n            \n                style: geo_json_0c93d9563bf62bcbab9adf83d7a2bbc1_styler,\n        });\n\n        function geo_json_0c93d9563bf62bcbab9adf83d7a2bbc1_add (data) {\n            geo_json_0c93d9563bf62bcbab9adf83d7a2bbc1\n                .addData(data);\n        }\n            geo_json_0c93d9563bf62bcbab9adf83d7a2bbc1_add({&quot;features&quot;: [{&quot;geometry&quot;: {&quot;coordinates&quot;: [[[139.58404541015625, 35.42486791930557], [139.5867919921875, 35.42486791930557], [139.5867919921875, 35.42262976362147], [139.58404541015625, 35.42262976362147], [139.58404541015625, 35.42486791930557]]], &quot;type&quot;: &quot;Polygon&quot;}, &quot;id&quot;: &quot;0&quot;, &quot;type&quot;: &quot;Feature&quot;}], &quot;type&quot;: &quot;FeatureCollection&quot;});\n\n        \n    \n            geo_json_0c93d9563bf62bcbab9adf83d7a2bbc1.addTo(map_ad2b652936850fe9878d6f223d6c9a6d);\n        \n    \n        function geo_json_c4f7d5ee10bbd399d47d98cde11855c0_styler(feature) {\n            switch(feature.id) {\n                default:\n                    return {&quot;color&quot;: &quot;blue&quot;, &quot;fillColor&quot;: &quot;blue&quot;, &quot;fillOpacity&quot;: 0.2, &quot;weight&quot;: 1};\n            }\n        }\n\n        function geo_json_c4f7d5ee10bbd399d47d98cde11855c0_onEachFeature(feature, layer) {\n            layer.on({\n            });\n        };\n        var geo_json_c4f7d5ee10bbd399d47d98cde11855c0 = L.geoJson(null, {\n                onEachFeature: geo_json_c4f7d5ee10bbd399d47d98cde11855c0_onEachFeature,\n            \n                style: geo_json_c4f7d5ee10bbd399d47d98cde11855c0_styler,\n        });\n\n        function geo_json_c4f7d5ee10bbd399d47d98cde11855c0_add (data) {\n            geo_json_c4f7d5ee10bbd399d47d98cde11855c0\n                .addData(data);\n        }\n            geo_json_c4f7d5ee10bbd399d47d98cde11855c0_add({&quot;features&quot;: [{&quot;geometry&quot;: {&quot;coordinates&quot;: [[[139.58404541015625, 35.42262976362147], [139.5867919921875, 35.42262976362147], [139.5867919921875, 35.42039154575076], [139.58404541015625, 35.42039154575076], [139.58404541015625, 35.42262976362147]]], &quot;type&quot;: &quot;Polygon&quot;}, &quot;id&quot;: &quot;0&quot;, &quot;type&quot;: &quot;Feature&quot;}], &quot;type&quot;: &quot;FeatureCollection&quot;});\n\n        \n    \n            geo_json_c4f7d5ee10bbd399d47d98cde11855c0.addTo(map_ad2b652936850fe9878d6f223d6c9a6d);\n        \n    \n        function geo_json_6447696609e80fb6e30234f480fc620b_styler(feature) {\n            switch(feature.id) {\n                default:\n                    return {&quot;color&quot;: &quot;blue&quot;, &quot;fillColor&quot;: &quot;blue&quot;, &quot;fillOpacity&quot;: 0.2, &quot;weight&quot;: 1};\n            }\n        }\n\n        function geo_json_6447696609e80fb6e30234f480fc620b_onEachFeature(feature, layer) {\n            layer.on({\n            });\n        };\n        var geo_json_6447696609e80fb6e30234f480fc620b = L.geoJson(null, {\n                onEachFeature: geo_json_6447696609e80fb6e30234f480fc620b_onEachFeature,\n            \n                style: geo_json_6447696609e80fb6e30234f480fc620b_styler,\n        });\n\n        function geo_json_6447696609e80fb6e30234f480fc620b_add (data) {\n            geo_json_6447696609e80fb6e30234f480fc620b\n                .addData(data);\n        }\n            geo_json_6447696609e80fb6e30234f480fc620b_add({&quot;features&quot;: [{&quot;geometry&quot;: {&quot;coordinates&quot;: [[[139.58404541015625, 35.42039154575076], [139.5867919921875, 35.42039154575076], [139.5867919921875, 35.41815326569511], [139.58404541015625, 35.41815326569511], [139.58404541015625, 35.42039154575076]]], &quot;type&quot;: &quot;Polygon&quot;}, &quot;id&quot;: &quot;0&quot;, &quot;type&quot;: &quot;Feature&quot;}], &quot;type&quot;: &quot;FeatureCollection&quot;});\n\n        \n    \n            geo_json_6447696609e80fb6e30234f480fc620b.addTo(map_ad2b652936850fe9878d6f223d6c9a6d);\n        \n    \n        function geo_json_07136fcbb21b6367976afdcb47ea5e13_styler(feature) {\n            switch(feature.id) {\n                default:\n                    return {&quot;color&quot;: &quot;blue&quot;, &quot;fillColor&quot;: &quot;blue&quot;, &quot;fillOpacity&quot;: 0.2, &quot;weight&quot;: 1};\n            }\n        }\n\n        function geo_json_07136fcbb21b6367976afdcb47ea5e13_onEachFeature(feature, layer) {\n            layer.on({\n            });\n        };\n        var geo_json_07136fcbb21b6367976afdcb47ea5e13 = L.geoJson(null, {\n                onEachFeature: geo_json_07136fcbb21b6367976afdcb47ea5e13_onEachFeature,\n            \n                style: geo_json_07136fcbb21b6367976afdcb47ea5e13_styler,\n        });\n\n        function geo_json_07136fcbb21b6367976afdcb47ea5e13_add (data) {\n            geo_json_07136fcbb21b6367976afdcb47ea5e13\n                .addData(data);\n        }\n            geo_json_07136fcbb21b6367976afdcb47ea5e13_add({&quot;features&quot;: [{&quot;geometry&quot;: {&quot;coordinates&quot;: [[[139.5867919921875, 35.42710601280136], [139.58953857421875, 35.42710601280136], [139.58953857421875, 35.42486791930557], [139.5867919921875, 35.42486791930557], [139.5867919921875, 35.42710601280136]]], &quot;type&quot;: &quot;Polygon&quot;}, &quot;id&quot;: &quot;0&quot;, &quot;type&quot;: &quot;Feature&quot;}], &quot;type&quot;: &quot;FeatureCollection&quot;});\n\n        \n    \n            geo_json_07136fcbb21b6367976afdcb47ea5e13.addTo(map_ad2b652936850fe9878d6f223d6c9a6d);\n        \n    \n        function geo_json_e305647721ac031f544bde6be0d665f9_styler(feature) {\n            switch(feature.id) {\n                default:\n                    return {&quot;color&quot;: &quot;blue&quot;, &quot;fillColor&quot;: &quot;blue&quot;, &quot;fillOpacity&quot;: 0.2, &quot;weight&quot;: 1};\n            }\n        }\n\n        function geo_json_e305647721ac031f544bde6be0d665f9_onEachFeature(feature, layer) {\n            layer.on({\n            });\n        };\n        var geo_json_e305647721ac031f544bde6be0d665f9 = L.geoJson(null, {\n                onEachFeature: geo_json_e305647721ac031f544bde6be0d665f9_onEachFeature,\n            \n                style: geo_json_e305647721ac031f544bde6be0d665f9_styler,\n        });\n\n        function geo_json_e305647721ac031f544bde6be0d665f9_add (data) {\n            geo_json_e305647721ac031f544bde6be0d665f9\n                .addData(data);\n        }\n            geo_json_e305647721ac031f544bde6be0d665f9_add({&quot;features&quot;: [{&quot;geometry&quot;: {&quot;coordinates&quot;: [[[139.5867919921875, 35.42486791930557], [139.58953857421875, 35.42486791930557], [139.58953857421875, 35.42262976362147], [139.5867919921875, 35.42262976362147], [139.5867919921875, 35.42486791930557]]], &quot;type&quot;: &quot;Polygon&quot;}, &quot;id&quot;: &quot;0&quot;, &quot;type&quot;: &quot;Feature&quot;}], &quot;type&quot;: &quot;FeatureCollection&quot;});\n\n        \n    \n            geo_json_e305647721ac031f544bde6be0d665f9.addTo(map_ad2b652936850fe9878d6f223d6c9a6d);\n        \n    \n        function geo_json_a6c75eb74621d887bc9d360a74b79538_styler(feature) {\n            switch(feature.id) {\n                default:\n                    return {&quot;color&quot;: &quot;blue&quot;, &quot;fillColor&quot;: &quot;blue&quot;, &quot;fillOpacity&quot;: 0.2, &quot;weight&quot;: 1};\n            }\n        }\n\n        function geo_json_a6c75eb74621d887bc9d360a74b79538_onEachFeature(feature, layer) {\n            layer.on({\n            });\n        };\n        var geo_json_a6c75eb74621d887bc9d360a74b79538 = L.geoJson(null, {\n                onEachFeature: geo_json_a6c75eb74621d887bc9d360a74b79538_onEachFeature,\n            \n                style: geo_json_a6c75eb74621d887bc9d360a74b79538_styler,\n        });\n\n        function geo_json_a6c75eb74621d887bc9d360a74b79538_add (data) {\n            geo_json_a6c75eb74621d887bc9d360a74b79538\n                .addData(data);\n        }\n            geo_json_a6c75eb74621d887bc9d360a74b79538_add({&quot;features&quot;: [{&quot;geometry&quot;: {&quot;coordinates&quot;: [[[139.5867919921875, 35.42262976362147], [139.58953857421875, 35.42262976362147], [139.58953857421875, 35.42039154575076], [139.5867919921875, 35.42039154575076], [139.5867919921875, 35.42262976362147]]], &quot;type&quot;: &quot;Polygon&quot;}, &quot;id&quot;: &quot;0&quot;, &quot;type&quot;: &quot;Feature&quot;}], &quot;type&quot;: &quot;FeatureCollection&quot;});\n\n        \n    \n            geo_json_a6c75eb74621d887bc9d360a74b79538.addTo(map_ad2b652936850fe9878d6f223d6c9a6d);\n        \n    \n        function geo_json_2db69ca1a84916bd48bc8a71d9e799ce_styler(feature) {\n            switch(feature.id) {\n                default:\n                    return {&quot;color&quot;: &quot;blue&quot;, &quot;fillColor&quot;: &quot;blue&quot;, &quot;fillOpacity&quot;: 0.2, &quot;weight&quot;: 1};\n            }\n        }\n\n        function geo_json_2db69ca1a84916bd48bc8a71d9e799ce_onEachFeature(feature, layer) {\n            layer.on({\n            });\n        };\n        var geo_json_2db69ca1a84916bd48bc8a71d9e799ce = L.geoJson(null, {\n                onEachFeature: geo_json_2db69ca1a84916bd48bc8a71d9e799ce_onEachFeature,\n            \n                style: geo_json_2db69ca1a84916bd48bc8a71d9e799ce_styler,\n        });\n\n        function geo_json_2db69ca1a84916bd48bc8a71d9e799ce_add (data) {\n            geo_json_2db69ca1a84916bd48bc8a71d9e799ce\n                .addData(data);\n        }\n            geo_json_2db69ca1a84916bd48bc8a71d9e799ce_add({&quot;features&quot;: [{&quot;geometry&quot;: {&quot;coordinates&quot;: [[[139.5867919921875, 35.42039154575076], [139.58953857421875, 35.42039154575076], [139.58953857421875, 35.41815326569511], [139.5867919921875, 35.41815326569511], [139.5867919921875, 35.42039154575076]]], &quot;type&quot;: &quot;Polygon&quot;}, &quot;id&quot;: &quot;0&quot;, &quot;type&quot;: &quot;Feature&quot;}], &quot;type&quot;: &quot;FeatureCollection&quot;});\n\n        \n    \n            geo_json_2db69ca1a84916bd48bc8a71d9e799ce.addTo(map_ad2b652936850fe9878d6f223d6c9a6d);\n        \n    \n        function geo_json_c5003834c33a64ae1e61529e7aaf63dd_styler(feature) {\n            switch(feature.id) {\n                default:\n                    return {&quot;color&quot;: &quot;blue&quot;, &quot;fillColor&quot;: &quot;blue&quot;, &quot;fillOpacity&quot;: 0.2, &quot;weight&quot;: 1};\n            }\n        }\n\n        function geo_json_c5003834c33a64ae1e61529e7aaf63dd_onEachFeature(feature, layer) {\n            layer.on({\n            });\n        };\n        var geo_json_c5003834c33a64ae1e61529e7aaf63dd = L.geoJson(null, {\n                onEachFeature: geo_json_c5003834c33a64ae1e61529e7aaf63dd_onEachFeature,\n            \n                style: geo_json_c5003834c33a64ae1e61529e7aaf63dd_styler,\n        });\n\n        function geo_json_c5003834c33a64ae1e61529e7aaf63dd_add (data) {\n            geo_json_c5003834c33a64ae1e61529e7aaf63dd\n                .addData(data);\n        }\n            geo_json_c5003834c33a64ae1e61529e7aaf63dd_add({&quot;features&quot;: [{&quot;geometry&quot;: {&quot;coordinates&quot;: [[[139.58953857421875, 35.42710601280136], [139.59228515625, 35.42710601280136], [139.59228515625, 35.42486791930557], [139.58953857421875, 35.42486791930557], [139.58953857421875, 35.42710601280136]]], &quot;type&quot;: &quot;Polygon&quot;}, &quot;id&quot;: &quot;0&quot;, &quot;type&quot;: &quot;Feature&quot;}], &quot;type&quot;: &quot;FeatureCollection&quot;});\n\n        \n    \n            geo_json_c5003834c33a64ae1e61529e7aaf63dd.addTo(map_ad2b652936850fe9878d6f223d6c9a6d);\n        \n    \n        function geo_json_4d232aad46459506aeda118b10cb7f0c_styler(feature) {\n            switch(feature.id) {\n                default:\n                    return {&quot;color&quot;: &quot;blue&quot;, &quot;fillColor&quot;: &quot;blue&quot;, &quot;fillOpacity&quot;: 0.2, &quot;weight&quot;: 1};\n            }\n        }\n\n        function geo_json_4d232aad46459506aeda118b10cb7f0c_onEachFeature(feature, layer) {\n            layer.on({\n            });\n        };\n        var geo_json_4d232aad46459506aeda118b10cb7f0c = L.geoJson(null, {\n                onEachFeature: geo_json_4d232aad46459506aeda118b10cb7f0c_onEachFeature,\n            \n                style: geo_json_4d232aad46459506aeda118b10cb7f0c_styler,\n        });\n\n        function geo_json_4d232aad46459506aeda118b10cb7f0c_add (data) {\n            geo_json_4d232aad46459506aeda118b10cb7f0c\n                .addData(data);\n        }\n            geo_json_4d232aad46459506aeda118b10cb7f0c_add({&quot;features&quot;: [{&quot;geometry&quot;: {&quot;coordinates&quot;: [[[139.58953857421875, 35.42486791930557], [139.59228515625, 35.42486791930557], [139.59228515625, 35.42262976362147], [139.58953857421875, 35.42262976362147], [139.58953857421875, 35.42486791930557]]], &quot;type&quot;: &quot;Polygon&quot;}, &quot;id&quot;: &quot;0&quot;, &quot;type&quot;: &quot;Feature&quot;}], &quot;type&quot;: &quot;FeatureCollection&quot;});\n\n        \n    \n            geo_json_4d232aad46459506aeda118b10cb7f0c.addTo(map_ad2b652936850fe9878d6f223d6c9a6d);\n        \n    \n        function geo_json_5e4831566b14e9da3661cd0f234ae478_styler(feature) {\n            switch(feature.id) {\n                default:\n                    return {&quot;color&quot;: &quot;blue&quot;, &quot;fillColor&quot;: &quot;blue&quot;, &quot;fillOpacity&quot;: 0.2, &quot;weight&quot;: 1};\n            }\n        }\n\n        function geo_json_5e4831566b14e9da3661cd0f234ae478_onEachFeature(feature, layer) {\n            layer.on({\n            });\n        };\n        var geo_json_5e4831566b14e9da3661cd0f234ae478 = L.geoJson(null, {\n                onEachFeature: geo_json_5e4831566b14e9da3661cd0f234ae478_onEachFeature,\n            \n                style: geo_json_5e4831566b14e9da3661cd0f234ae478_styler,\n        });\n\n        function geo_json_5e4831566b14e9da3661cd0f234ae478_add (data) {\n            geo_json_5e4831566b14e9da3661cd0f234ae478\n                .addData(data);\n        }\n            geo_json_5e4831566b14e9da3661cd0f234ae478_add({&quot;features&quot;: [{&quot;geometry&quot;: {&quot;coordinates&quot;: [[[139.58953857421875, 35.42262976362147], [139.59228515625, 35.42262976362147], [139.59228515625, 35.42039154575076], [139.58953857421875, 35.42039154575076], [139.58953857421875, 35.42262976362147]]], &quot;type&quot;: &quot;Polygon&quot;}, &quot;id&quot;: &quot;0&quot;, &quot;type&quot;: &quot;Feature&quot;}], &quot;type&quot;: &quot;FeatureCollection&quot;});\n\n        \n    \n            geo_json_5e4831566b14e9da3661cd0f234ae478.addTo(map_ad2b652936850fe9878d6f223d6c9a6d);\n        \n    \n        function geo_json_ee9388e4de69bae9d2747d9442b3dc3b_styler(feature) {\n            switch(feature.id) {\n                default:\n                    return {&quot;color&quot;: &quot;blue&quot;, &quot;fillColor&quot;: &quot;blue&quot;, &quot;fillOpacity&quot;: 0.2, &quot;weight&quot;: 1};\n            }\n        }\n\n        function geo_json_ee9388e4de69bae9d2747d9442b3dc3b_onEachFeature(feature, layer) {\n            layer.on({\n            });\n        };\n        var geo_json_ee9388e4de69bae9d2747d9442b3dc3b = L.geoJson(null, {\n                onEachFeature: geo_json_ee9388e4de69bae9d2747d9442b3dc3b_onEachFeature,\n            \n                style: geo_json_ee9388e4de69bae9d2747d9442b3dc3b_styler,\n        });\n\n        function geo_json_ee9388e4de69bae9d2747d9442b3dc3b_add (data) {\n            geo_json_ee9388e4de69bae9d2747d9442b3dc3b\n                .addData(data);\n        }\n            geo_json_ee9388e4de69bae9d2747d9442b3dc3b_add({&quot;features&quot;: [{&quot;geometry&quot;: {&quot;coordinates&quot;: [[[139.58953857421875, 35.42039154575076], [139.59228515625, 35.42039154575076], [139.59228515625, 35.41815326569511], [139.58953857421875, 35.41815326569511], [139.58953857421875, 35.42039154575076]]], &quot;type&quot;: &quot;Polygon&quot;}, &quot;id&quot;: &quot;0&quot;, &quot;type&quot;: &quot;Feature&quot;}], &quot;type&quot;: &quot;FeatureCollection&quot;});\n\n        \n    \n            geo_json_ee9388e4de69bae9d2747d9442b3dc3b.addTo(map_ad2b652936850fe9878d6f223d6c9a6d);\n        \n    \n        function geo_json_0d46a24f45e8e06f1df3bce81e5528db_styler(feature) {\n            switch(feature.id) {\n                default:\n                    return {&quot;color&quot;: &quot;blue&quot;, &quot;fillColor&quot;: &quot;blue&quot;, &quot;fillOpacity&quot;: 0.2, &quot;weight&quot;: 1};\n            }\n        }\n\n        function geo_json_0d46a24f45e8e06f1df3bce81e5528db_onEachFeature(feature, layer) {\n            layer.on({\n            });\n        };\n        var geo_json_0d46a24f45e8e06f1df3bce81e5528db = L.geoJson(null, {\n                onEachFeature: geo_json_0d46a24f45e8e06f1df3bce81e5528db_onEachFeature,\n            \n                style: geo_json_0d46a24f45e8e06f1df3bce81e5528db_styler,\n        });\n\n        function geo_json_0d46a24f45e8e06f1df3bce81e5528db_add (data) {\n            geo_json_0d46a24f45e8e06f1df3bce81e5528db\n                .addData(data);\n        }\n            geo_json_0d46a24f45e8e06f1df3bce81e5528db_add({&quot;features&quot;: [{&quot;geometry&quot;: {&quot;coordinates&quot;: [[[139.59228515625, 35.42710601280136], [139.59503173828125, 35.42710601280136], [139.59503173828125, 35.42486791930557], [139.59228515625, 35.42486791930557], [139.59228515625, 35.42710601280136]]], &quot;type&quot;: &quot;Polygon&quot;}, &quot;id&quot;: &quot;0&quot;, &quot;type&quot;: &quot;Feature&quot;}], &quot;type&quot;: &quot;FeatureCollection&quot;});\n\n        \n    \n            geo_json_0d46a24f45e8e06f1df3bce81e5528db.addTo(map_ad2b652936850fe9878d6f223d6c9a6d);\n        \n    \n        function geo_json_8ec6f1063bfc1eb6453ce5b71bd9b4bd_styler(feature) {\n            switch(feature.id) {\n                default:\n                    return {&quot;color&quot;: &quot;blue&quot;, &quot;fillColor&quot;: &quot;blue&quot;, &quot;fillOpacity&quot;: 0.2, &quot;weight&quot;: 1};\n            }\n        }\n\n        function geo_json_8ec6f1063bfc1eb6453ce5b71bd9b4bd_onEachFeature(feature, layer) {\n            layer.on({\n            });\n        };\n        var geo_json_8ec6f1063bfc1eb6453ce5b71bd9b4bd = L.geoJson(null, {\n                onEachFeature: geo_json_8ec6f1063bfc1eb6453ce5b71bd9b4bd_onEachFeature,\n            \n                style: geo_json_8ec6f1063bfc1eb6453ce5b71bd9b4bd_styler,\n        });\n\n        function geo_json_8ec6f1063bfc1eb6453ce5b71bd9b4bd_add (data) {\n            geo_json_8ec6f1063bfc1eb6453ce5b71bd9b4bd\n                .addData(data);\n        }\n            geo_json_8ec6f1063bfc1eb6453ce5b71bd9b4bd_add({&quot;features&quot;: [{&quot;geometry&quot;: {&quot;coordinates&quot;: [[[139.59228515625, 35.42486791930557], [139.59503173828125, 35.42486791930557], [139.59503173828125, 35.42262976362147], [139.59228515625, 35.42262976362147], [139.59228515625, 35.42486791930557]]], &quot;type&quot;: &quot;Polygon&quot;}, &quot;id&quot;: &quot;0&quot;, &quot;type&quot;: &quot;Feature&quot;}], &quot;type&quot;: &quot;FeatureCollection&quot;});\n\n        \n    \n            geo_json_8ec6f1063bfc1eb6453ce5b71bd9b4bd.addTo(map_ad2b652936850fe9878d6f223d6c9a6d);\n        \n    \n        function geo_json_c6638c9dba223c57966443fc3165e1b8_styler(feature) {\n            switch(feature.id) {\n                default:\n                    return {&quot;color&quot;: &quot;blue&quot;, &quot;fillColor&quot;: &quot;blue&quot;, &quot;fillOpacity&quot;: 0.2, &quot;weight&quot;: 1};\n            }\n        }\n\n        function geo_json_c6638c9dba223c57966443fc3165e1b8_onEachFeature(feature, layer) {\n            layer.on({\n            });\n        };\n        var geo_json_c6638c9dba223c57966443fc3165e1b8 = L.geoJson(null, {\n                onEachFeature: geo_json_c6638c9dba223c57966443fc3165e1b8_onEachFeature,\n            \n                style: geo_json_c6638c9dba223c57966443fc3165e1b8_styler,\n        });\n\n        function geo_json_c6638c9dba223c57966443fc3165e1b8_add (data) {\n            geo_json_c6638c9dba223c57966443fc3165e1b8\n                .addData(data);\n        }\n            geo_json_c6638c9dba223c57966443fc3165e1b8_add({&quot;features&quot;: [{&quot;geometry&quot;: {&quot;coordinates&quot;: [[[139.59228515625, 35.42262976362147], [139.59503173828125, 35.42262976362147], [139.59503173828125, 35.42039154575076], [139.59228515625, 35.42039154575076], [139.59228515625, 35.42262976362147]]], &quot;type&quot;: &quot;Polygon&quot;}, &quot;id&quot;: &quot;0&quot;, &quot;type&quot;: &quot;Feature&quot;}], &quot;type&quot;: &quot;FeatureCollection&quot;});\n\n        \n    \n            geo_json_c6638c9dba223c57966443fc3165e1b8.addTo(map_ad2b652936850fe9878d6f223d6c9a6d);\n        \n    \n        function geo_json_d21c3da032207281fe39239b75735d53_styler(feature) {\n            switch(feature.id) {\n                default:\n                    return {&quot;color&quot;: &quot;blue&quot;, &quot;fillColor&quot;: &quot;blue&quot;, &quot;fillOpacity&quot;: 0.2, &quot;weight&quot;: 1};\n            }\n        }\n\n        function geo_json_d21c3da032207281fe39239b75735d53_onEachFeature(feature, layer) {\n            layer.on({\n            });\n        };\n        var geo_json_d21c3da032207281fe39239b75735d53 = L.geoJson(null, {\n                onEachFeature: geo_json_d21c3da032207281fe39239b75735d53_onEachFeature,\n            \n                style: geo_json_d21c3da032207281fe39239b75735d53_styler,\n        });\n\n        function geo_json_d21c3da032207281fe39239b75735d53_add (data) {\n            geo_json_d21c3da032207281fe39239b75735d53\n                .addData(data);\n        }\n            geo_json_d21c3da032207281fe39239b75735d53_add({&quot;features&quot;: [{&quot;geometry&quot;: {&quot;coordinates&quot;: [[[139.59228515625, 35.42039154575076], [139.59503173828125, 35.42039154575076], [139.59503173828125, 35.41815326569511], [139.59228515625, 35.41815326569511], [139.59228515625, 35.42039154575076]]], &quot;type&quot;: &quot;Polygon&quot;}, &quot;id&quot;: &quot;0&quot;, &quot;type&quot;: &quot;Feature&quot;}], &quot;type&quot;: &quot;FeatureCollection&quot;});\n\n        \n    \n            geo_json_d21c3da032207281fe39239b75735d53.addTo(map_ad2b652936850fe9878d6f223d6c9a6d);\n        \n    \n        function geo_json_35ca9d3fa60c9d072832042c29412c9c_styler(feature) {\n            switch(feature.id) {\n                default:\n                    return {&quot;color&quot;: &quot;blue&quot;, &quot;fillColor&quot;: &quot;blue&quot;, &quot;fillOpacity&quot;: 0.2, &quot;weight&quot;: 1};\n            }\n        }\n\n        function geo_json_35ca9d3fa60c9d072832042c29412c9c_onEachFeature(feature, layer) {\n            layer.on({\n            });\n        };\n        var geo_json_35ca9d3fa60c9d072832042c29412c9c = L.geoJson(null, {\n                onEachFeature: geo_json_35ca9d3fa60c9d072832042c29412c9c_onEachFeature,\n            \n                style: geo_json_35ca9d3fa60c9d072832042c29412c9c_styler,\n        });\n\n        function geo_json_35ca9d3fa60c9d072832042c29412c9c_add (data) {\n            geo_json_35ca9d3fa60c9d072832042c29412c9c\n                .addData(data);\n        }\n            geo_json_35ca9d3fa60c9d072832042c29412c9c_add({&quot;features&quot;: [{&quot;geometry&quot;: {&quot;coordinates&quot;: [[[139.59503173828125, 35.42710601280136], [139.5977783203125, 35.42710601280136], [139.5977783203125, 35.42486791930557], [139.59503173828125, 35.42486791930557], [139.59503173828125, 35.42710601280136]]], &quot;type&quot;: &quot;Polygon&quot;}, &quot;id&quot;: &quot;0&quot;, &quot;type&quot;: &quot;Feature&quot;}], &quot;type&quot;: &quot;FeatureCollection&quot;});\n\n        \n    \n            geo_json_35ca9d3fa60c9d072832042c29412c9c.addTo(map_ad2b652936850fe9878d6f223d6c9a6d);\n        \n    \n        function geo_json_20f5f11c34a8af5721f1489d8646c218_styler(feature) {\n            switch(feature.id) {\n                default:\n                    return {&quot;color&quot;: &quot;blue&quot;, &quot;fillColor&quot;: &quot;blue&quot;, &quot;fillOpacity&quot;: 0.2, &quot;weight&quot;: 1};\n            }\n        }\n\n        function geo_json_20f5f11c34a8af5721f1489d8646c218_onEachFeature(feature, layer) {\n            layer.on({\n            });\n        };\n        var geo_json_20f5f11c34a8af5721f1489d8646c218 = L.geoJson(null, {\n                onEachFeature: geo_json_20f5f11c34a8af5721f1489d8646c218_onEachFeature,\n            \n                style: geo_json_20f5f11c34a8af5721f1489d8646c218_styler,\n        });\n\n        function geo_json_20f5f11c34a8af5721f1489d8646c218_add (data) {\n            geo_json_20f5f11c34a8af5721f1489d8646c218\n                .addData(data);\n        }\n            geo_json_20f5f11c34a8af5721f1489d8646c218_add({&quot;features&quot;: [{&quot;geometry&quot;: {&quot;coordinates&quot;: [[[139.59503173828125, 35.42486791930557], [139.5977783203125, 35.42486791930557], [139.5977783203125, 35.42262976362147], [139.59503173828125, 35.42262976362147], [139.59503173828125, 35.42486791930557]]], &quot;type&quot;: &quot;Polygon&quot;}, &quot;id&quot;: &quot;0&quot;, &quot;type&quot;: &quot;Feature&quot;}], &quot;type&quot;: &quot;FeatureCollection&quot;});\n\n        \n    \n            geo_json_20f5f11c34a8af5721f1489d8646c218.addTo(map_ad2b652936850fe9878d6f223d6c9a6d);\n        \n    \n        function geo_json_37686278942b43a0b899d6ebbab91d75_styler(feature) {\n            switch(feature.id) {\n                default:\n                    return {&quot;color&quot;: &quot;blue&quot;, &quot;fillColor&quot;: &quot;blue&quot;, &quot;fillOpacity&quot;: 0.2, &quot;weight&quot;: 1};\n            }\n        }\n\n        function geo_json_37686278942b43a0b899d6ebbab91d75_onEachFeature(feature, layer) {\n            layer.on({\n            });\n        };\n        var geo_json_37686278942b43a0b899d6ebbab91d75 = L.geoJson(null, {\n                onEachFeature: geo_json_37686278942b43a0b899d6ebbab91d75_onEachFeature,\n            \n                style: geo_json_37686278942b43a0b899d6ebbab91d75_styler,\n        });\n\n        function geo_json_37686278942b43a0b899d6ebbab91d75_add (data) {\n            geo_json_37686278942b43a0b899d6ebbab91d75\n                .addData(data);\n        }\n            geo_json_37686278942b43a0b899d6ebbab91d75_add({&quot;features&quot;: [{&quot;geometry&quot;: {&quot;coordinates&quot;: [[[139.59503173828125, 35.42262976362147], [139.5977783203125, 35.42262976362147], [139.5977783203125, 35.42039154575076], [139.59503173828125, 35.42039154575076], [139.59503173828125, 35.42262976362147]]], &quot;type&quot;: &quot;Polygon&quot;}, &quot;id&quot;: &quot;0&quot;, &quot;type&quot;: &quot;Feature&quot;}], &quot;type&quot;: &quot;FeatureCollection&quot;});\n\n        \n    \n            geo_json_37686278942b43a0b899d6ebbab91d75.addTo(map_ad2b652936850fe9878d6f223d6c9a6d);\n        \n    \n        function geo_json_982d2ef5cbcfa8f77b7b6697854576de_styler(feature) {\n            switch(feature.id) {\n                default:\n                    return {&quot;color&quot;: &quot;blue&quot;, &quot;fillColor&quot;: &quot;blue&quot;, &quot;fillOpacity&quot;: 0.2, &quot;weight&quot;: 1};\n            }\n        }\n\n        function geo_json_982d2ef5cbcfa8f77b7b6697854576de_onEachFeature(feature, layer) {\n            layer.on({\n            });\n        };\n        var geo_json_982d2ef5cbcfa8f77b7b6697854576de = L.geoJson(null, {\n                onEachFeature: geo_json_982d2ef5cbcfa8f77b7b6697854576de_onEachFeature,\n            \n                style: geo_json_982d2ef5cbcfa8f77b7b6697854576de_styler,\n        });\n\n        function geo_json_982d2ef5cbcfa8f77b7b6697854576de_add (data) {\n            geo_json_982d2ef5cbcfa8f77b7b6697854576de\n                .addData(data);\n        }\n            geo_json_982d2ef5cbcfa8f77b7b6697854576de_add({&quot;features&quot;: [{&quot;geometry&quot;: {&quot;coordinates&quot;: [[[139.59503173828125, 35.42039154575076], [139.5977783203125, 35.42039154575076], [139.5977783203125, 35.41815326569511], [139.59503173828125, 35.41815326569511], [139.59503173828125, 35.42039154575076]]], &quot;type&quot;: &quot;Polygon&quot;}, &quot;id&quot;: &quot;0&quot;, &quot;type&quot;: &quot;Feature&quot;}], &quot;type&quot;: &quot;FeatureCollection&quot;});\n\n        \n    \n            geo_json_982d2ef5cbcfa8f77b7b6697854576de.addTo(map_ad2b652936850fe9878d6f223d6c9a6d);\n        \n&lt;/script&gt;\n&lt;/html&gt;\" style=\"position:absolute;width:100%;height:100%;left:0;top:0;border:none !important;\" allowfullscreen webkitallowfullscreen mozallowfullscreen></iframe></div></div>"
     },
     "execution_count": 4,
     "metadata": {},
     "output_type": "execute_result"
    }
   ],
   "source": [
    "# Create a Folium map centered on the specified coordinates\n",
    "\n",
    "m = folium.Map(location=[ref_lat, ref_lon], zoom_start=14)\n",
    "\n",
    "# Add GeoDataFrame polygons to the map\n",
    "for _, row in gdf.iterrows():\n",
    "    # Extract the polygon and convert it to a format that folium understands (GeoJSON)\n",
    "    folium.GeoJson(row['geometry'],\n",
    "                   style_function=lambda x: {\n",
    "                       'fillColor': 'blue',\n",
    "                       'color': 'blue',\n",
    "                       'weight': 1,\n",
    "                       'fillOpacity': 0.2\n",
    "                   }).add_to(m)\n",
    "\n",
    "# Display the map\n",
    "m\n"
   ],
   "metadata": {
    "collapsed": false,
    "ExecuteTime": {
     "end_time": "2024-10-29T10:35:41.015837400Z",
     "start_time": "2024-10-29T10:35:40.928224100Z"
    }
   },
   "id": "5d7e77795ca7f707"
  },
  {
   "cell_type": "code",
   "execution_count": 4,
   "outputs": [
    {
     "data": {
      "text/plain": "    zoom       x      y  x_rel  y_rel  \\\n0     17  116358  51733      0      0   \n1     17  116358  51734      0      1   \n2     17  116358  51735      0      2   \n3     17  116358  51736      0      3   \n4     17  116359  51733      1      0   \n5     17  116359  51734      1      1   \n6     17  116359  51735      1      2   \n7     17  116359  51736      1      3   \n8     17  116360  51733      2      0   \n9     17  116360  51734      2      1   \n10    17  116360  51735      2      2   \n11    17  116360  51736      2      3   \n12    17  116361  51733      3      0   \n13    17  116361  51734      3      1   \n14    17  116361  51735      3      2   \n15    17  116361  51736      3      3   \n16    17  116362  51733      4      0   \n17    17  116362  51734      4      1   \n18    17  116362  51735      4      2   \n19    17  116362  51736      4      3   \n20    17  116363  51733      5      0   \n21    17  116363  51734      5      1   \n22    17  116363  51735      5      2   \n23    17  116363  51736      5      3   \n\n                                             geometry  label  \n0   POLYGON ((139.58679 35.41368, 139.58954 35.413...      0  \n1   POLYGON ((139.58679 35.41144, 139.58954 35.411...      0  \n2   POLYGON ((139.58679 35.4092, 139.58954 35.4092...      0  \n3   POLYGON ((139.58679 35.40696, 139.58954 35.406...      0  \n4   POLYGON ((139.58954 35.41368, 139.59229 35.413...      0  \n5   POLYGON ((139.58954 35.41144, 139.59229 35.411...      0  \n6   POLYGON ((139.58954 35.4092, 139.59229 35.4092...      0  \n7   POLYGON ((139.58954 35.40696, 139.59229 35.406...      0  \n8   POLYGON ((139.59229 35.41368, 139.59503 35.413...      0  \n9   POLYGON ((139.59229 35.41144, 139.59503 35.411...      0  \n10  POLYGON ((139.59229 35.4092, 139.59503 35.4092...      0  \n11  POLYGON ((139.59229 35.40696, 139.59503 35.406...      0  \n12  POLYGON ((139.59503 35.41368, 139.59778 35.413...      0  \n13  POLYGON ((139.59503 35.41144, 139.59778 35.411...      0  \n14  POLYGON ((139.59503 35.4092, 139.59778 35.4092...      0  \n15  POLYGON ((139.59503 35.40696, 139.59778 35.406...      0  \n16  POLYGON ((139.59778 35.41368, 139.60052 35.413...      0  \n17  POLYGON ((139.59778 35.41144, 139.60052 35.411...      0  \n18  POLYGON ((139.59778 35.4092, 139.60052 35.4092...      0  \n19  POLYGON ((139.59778 35.40696, 139.60052 35.406...      0  \n20  POLYGON ((139.60052 35.41368, 139.60327 35.413...      0  \n21  POLYGON ((139.60052 35.41144, 139.60327 35.411...      0  \n22  POLYGON ((139.60052 35.4092, 139.60327 35.4092...      0  \n23  POLYGON ((139.60052 35.40696, 139.60327 35.406...      0  ",
      "text/html": "<div>\n<style scoped>\n    .dataframe tbody tr th:only-of-type {\n        vertical-align: middle;\n    }\n\n    .dataframe tbody tr th {\n        vertical-align: top;\n    }\n\n    .dataframe thead th {\n        text-align: right;\n    }\n</style>\n<table border=\"1\" class=\"dataframe\">\n  <thead>\n    <tr style=\"text-align: right;\">\n      <th></th>\n      <th>zoom</th>\n      <th>x</th>\n      <th>y</th>\n      <th>x_rel</th>\n      <th>y_rel</th>\n      <th>geometry</th>\n      <th>label</th>\n    </tr>\n  </thead>\n  <tbody>\n    <tr>\n      <th>0</th>\n      <td>17</td>\n      <td>116358</td>\n      <td>51733</td>\n      <td>0</td>\n      <td>0</td>\n      <td>POLYGON ((139.58679 35.41368, 139.58954 35.413...</td>\n      <td>0</td>\n    </tr>\n    <tr>\n      <th>1</th>\n      <td>17</td>\n      <td>116358</td>\n      <td>51734</td>\n      <td>0</td>\n      <td>1</td>\n      <td>POLYGON ((139.58679 35.41144, 139.58954 35.411...</td>\n      <td>0</td>\n    </tr>\n    <tr>\n      <th>2</th>\n      <td>17</td>\n      <td>116358</td>\n      <td>51735</td>\n      <td>0</td>\n      <td>2</td>\n      <td>POLYGON ((139.58679 35.4092, 139.58954 35.4092...</td>\n      <td>0</td>\n    </tr>\n    <tr>\n      <th>3</th>\n      <td>17</td>\n      <td>116358</td>\n      <td>51736</td>\n      <td>0</td>\n      <td>3</td>\n      <td>POLYGON ((139.58679 35.40696, 139.58954 35.406...</td>\n      <td>0</td>\n    </tr>\n    <tr>\n      <th>4</th>\n      <td>17</td>\n      <td>116359</td>\n      <td>51733</td>\n      <td>1</td>\n      <td>0</td>\n      <td>POLYGON ((139.58954 35.41368, 139.59229 35.413...</td>\n      <td>0</td>\n    </tr>\n    <tr>\n      <th>5</th>\n      <td>17</td>\n      <td>116359</td>\n      <td>51734</td>\n      <td>1</td>\n      <td>1</td>\n      <td>POLYGON ((139.58954 35.41144, 139.59229 35.411...</td>\n      <td>0</td>\n    </tr>\n    <tr>\n      <th>6</th>\n      <td>17</td>\n      <td>116359</td>\n      <td>51735</td>\n      <td>1</td>\n      <td>2</td>\n      <td>POLYGON ((139.58954 35.4092, 139.59229 35.4092...</td>\n      <td>0</td>\n    </tr>\n    <tr>\n      <th>7</th>\n      <td>17</td>\n      <td>116359</td>\n      <td>51736</td>\n      <td>1</td>\n      <td>3</td>\n      <td>POLYGON ((139.58954 35.40696, 139.59229 35.406...</td>\n      <td>0</td>\n    </tr>\n    <tr>\n      <th>8</th>\n      <td>17</td>\n      <td>116360</td>\n      <td>51733</td>\n      <td>2</td>\n      <td>0</td>\n      <td>POLYGON ((139.59229 35.41368, 139.59503 35.413...</td>\n      <td>0</td>\n    </tr>\n    <tr>\n      <th>9</th>\n      <td>17</td>\n      <td>116360</td>\n      <td>51734</td>\n      <td>2</td>\n      <td>1</td>\n      <td>POLYGON ((139.59229 35.41144, 139.59503 35.411...</td>\n      <td>0</td>\n    </tr>\n    <tr>\n      <th>10</th>\n      <td>17</td>\n      <td>116360</td>\n      <td>51735</td>\n      <td>2</td>\n      <td>2</td>\n      <td>POLYGON ((139.59229 35.4092, 139.59503 35.4092...</td>\n      <td>0</td>\n    </tr>\n    <tr>\n      <th>11</th>\n      <td>17</td>\n      <td>116360</td>\n      <td>51736</td>\n      <td>2</td>\n      <td>3</td>\n      <td>POLYGON ((139.59229 35.40696, 139.59503 35.406...</td>\n      <td>0</td>\n    </tr>\n    <tr>\n      <th>12</th>\n      <td>17</td>\n      <td>116361</td>\n      <td>51733</td>\n      <td>3</td>\n      <td>0</td>\n      <td>POLYGON ((139.59503 35.41368, 139.59778 35.413...</td>\n      <td>0</td>\n    </tr>\n    <tr>\n      <th>13</th>\n      <td>17</td>\n      <td>116361</td>\n      <td>51734</td>\n      <td>3</td>\n      <td>1</td>\n      <td>POLYGON ((139.59503 35.41144, 139.59778 35.411...</td>\n      <td>0</td>\n    </tr>\n    <tr>\n      <th>14</th>\n      <td>17</td>\n      <td>116361</td>\n      <td>51735</td>\n      <td>3</td>\n      <td>2</td>\n      <td>POLYGON ((139.59503 35.4092, 139.59778 35.4092...</td>\n      <td>0</td>\n    </tr>\n    <tr>\n      <th>15</th>\n      <td>17</td>\n      <td>116361</td>\n      <td>51736</td>\n      <td>3</td>\n      <td>3</td>\n      <td>POLYGON ((139.59503 35.40696, 139.59778 35.406...</td>\n      <td>0</td>\n    </tr>\n    <tr>\n      <th>16</th>\n      <td>17</td>\n      <td>116362</td>\n      <td>51733</td>\n      <td>4</td>\n      <td>0</td>\n      <td>POLYGON ((139.59778 35.41368, 139.60052 35.413...</td>\n      <td>0</td>\n    </tr>\n    <tr>\n      <th>17</th>\n      <td>17</td>\n      <td>116362</td>\n      <td>51734</td>\n      <td>4</td>\n      <td>1</td>\n      <td>POLYGON ((139.59778 35.41144, 139.60052 35.411...</td>\n      <td>0</td>\n    </tr>\n    <tr>\n      <th>18</th>\n      <td>17</td>\n      <td>116362</td>\n      <td>51735</td>\n      <td>4</td>\n      <td>2</td>\n      <td>POLYGON ((139.59778 35.4092, 139.60052 35.4092...</td>\n      <td>0</td>\n    </tr>\n    <tr>\n      <th>19</th>\n      <td>17</td>\n      <td>116362</td>\n      <td>51736</td>\n      <td>4</td>\n      <td>3</td>\n      <td>POLYGON ((139.59778 35.40696, 139.60052 35.406...</td>\n      <td>0</td>\n    </tr>\n    <tr>\n      <th>20</th>\n      <td>17</td>\n      <td>116363</td>\n      <td>51733</td>\n      <td>5</td>\n      <td>0</td>\n      <td>POLYGON ((139.60052 35.41368, 139.60327 35.413...</td>\n      <td>0</td>\n    </tr>\n    <tr>\n      <th>21</th>\n      <td>17</td>\n      <td>116363</td>\n      <td>51734</td>\n      <td>5</td>\n      <td>1</td>\n      <td>POLYGON ((139.60052 35.41144, 139.60327 35.411...</td>\n      <td>0</td>\n    </tr>\n    <tr>\n      <th>22</th>\n      <td>17</td>\n      <td>116363</td>\n      <td>51735</td>\n      <td>5</td>\n      <td>2</td>\n      <td>POLYGON ((139.60052 35.4092, 139.60327 35.4092...</td>\n      <td>0</td>\n    </tr>\n    <tr>\n      <th>23</th>\n      <td>17</td>\n      <td>116363</td>\n      <td>51736</td>\n      <td>5</td>\n      <td>3</td>\n      <td>POLYGON ((139.60052 35.40696, 139.60327 35.406...</td>\n      <td>0</td>\n    </tr>\n  </tbody>\n</table>\n</div>"
     },
     "execution_count": 4,
     "metadata": {},
     "output_type": "execute_result"
    }
   ],
   "source": [
    "gdf"
   ],
   "metadata": {
    "collapsed": false,
    "ExecuteTime": {
     "end_time": "2024-10-14T06:42:26.832071300Z",
     "start_time": "2024-10-14T06:42:26.787005900Z"
    }
   },
   "id": "5e443e959760be9a"
  },
  {
   "cell_type": "code",
   "execution_count": 5,
   "outputs": [],
   "source": [
    "path_to_db = f\"C:\\\\Users\\\\tora2\\\\IdeaProjects\\\\cityScope\\\\visual\\\\tangible_ui_01\\\\tile.db\""
   ],
   "metadata": {
    "collapsed": false,
    "ExecuteTime": {
     "end_time": "2024-10-29T10:36:09.118021800Z",
     "start_time": "2024-10-29T10:36:09.097635200Z"
    }
   },
   "id": "88927628d6ba1483"
  },
  {
   "cell_type": "code",
   "execution_count": 6,
   "outputs": [
    {
     "name": "stderr",
     "output_type": "stream",
     "text": [
      "C:\\Users\\tora2\\AppData\\Local\\Temp\\ipykernel_12344\\3189415618.py:5: UserWarning: Geometry column does not contain geometry.\n",
      "  df[\"geometry\"] = df[\"geometry\"].astype(str)\n"
     ]
    }
   ],
   "source": [
    "conn = sqlite3.connect(path_to_db)\n",
    "cursor = conn.cursor()\n",
    "cursor.execute(\"DROP TABLE tile\")\n",
    "df = gdf.copy()\n",
    "df[\"geometry\"] = df[\"geometry\"].astype(str)\n",
    "df.to_sql('tile', conn, if_exists='replace', index=False)\n",
    "conn.commit()\n",
    "conn.close()"
   ],
   "metadata": {
    "collapsed": false,
    "ExecuteTime": {
     "end_time": "2024-10-29T10:36:10.049426700Z",
     "start_time": "2024-10-29T10:36:10.014243100Z"
    }
   },
   "id": "ccb0bb2345a2edbe"
  },
  {
   "cell_type": "code",
   "execution_count": 7,
   "outputs": [
    {
     "name": "stdout",
     "output_type": "stream",
     "text": [
      "(17, 116357, 51727, 0, 0, 'POLYGON ((139.584045 35.427106, 139.586792 35.427106, 139.586792 35.424868, 139.584045 35.424868, 139.584045 35.427106))', 0)\n",
      "(17, 116357, 51728, 0, 1, 'POLYGON ((139.584045 35.424868, 139.586792 35.424868, 139.586792 35.42263, 139.584045 35.42263, 139.584045 35.424868))', 0)\n",
      "(17, 116357, 51729, 0, 2, 'POLYGON ((139.584045 35.42263, 139.586792 35.42263, 139.586792 35.420392, 139.584045 35.420392, 139.584045 35.42263))', 0)\n",
      "(17, 116357, 51730, 0, 3, 'POLYGON ((139.584045 35.420392, 139.586792 35.420392, 139.586792 35.418153, 139.584045 35.418153, 139.584045 35.420392))', 0)\n",
      "(17, 116358, 51727, 1, 0, 'POLYGON ((139.586792 35.427106, 139.589539 35.427106, 139.589539 35.424868, 139.586792 35.424868, 139.586792 35.427106))', 0)\n",
      "(17, 116358, 51728, 1, 1, 'POLYGON ((139.586792 35.424868, 139.589539 35.424868, 139.589539 35.42263, 139.586792 35.42263, 139.586792 35.424868))', 0)\n",
      "(17, 116358, 51729, 1, 2, 'POLYGON ((139.586792 35.42263, 139.589539 35.42263, 139.589539 35.420392, 139.586792 35.420392, 139.586792 35.42263))', 0)\n",
      "(17, 116358, 51730, 1, 3, 'POLYGON ((139.586792 35.420392, 139.589539 35.420392, 139.589539 35.418153, 139.586792 35.418153, 139.586792 35.420392))', 0)\n",
      "(17, 116359, 51727, 2, 0, 'POLYGON ((139.589539 35.427106, 139.592285 35.427106, 139.592285 35.424868, 139.589539 35.424868, 139.589539 35.427106))', 0)\n",
      "(17, 116359, 51728, 2, 1, 'POLYGON ((139.589539 35.424868, 139.592285 35.424868, 139.592285 35.42263, 139.589539 35.42263, 139.589539 35.424868))', 0)\n",
      "(17, 116359, 51729, 2, 2, 'POLYGON ((139.589539 35.42263, 139.592285 35.42263, 139.592285 35.420392, 139.589539 35.420392, 139.589539 35.42263))', 0)\n",
      "(17, 116359, 51730, 2, 3, 'POLYGON ((139.589539 35.420392, 139.592285 35.420392, 139.592285 35.418153, 139.589539 35.418153, 139.589539 35.420392))', 0)\n",
      "(17, 116360, 51727, 3, 0, 'POLYGON ((139.592285 35.427106, 139.595032 35.427106, 139.595032 35.424868, 139.592285 35.424868, 139.592285 35.427106))', 0)\n",
      "(17, 116360, 51728, 3, 1, 'POLYGON ((139.592285 35.424868, 139.595032 35.424868, 139.595032 35.42263, 139.592285 35.42263, 139.592285 35.424868))', 0)\n",
      "(17, 116360, 51729, 3, 2, 'POLYGON ((139.592285 35.42263, 139.595032 35.42263, 139.595032 35.420392, 139.592285 35.420392, 139.592285 35.42263))', 0)\n",
      "(17, 116360, 51730, 3, 3, 'POLYGON ((139.592285 35.420392, 139.595032 35.420392, 139.595032 35.418153, 139.592285 35.418153, 139.592285 35.420392))', 0)\n",
      "(17, 116361, 51727, 4, 0, 'POLYGON ((139.595032 35.427106, 139.597778 35.427106, 139.597778 35.424868, 139.595032 35.424868, 139.595032 35.427106))', 0)\n",
      "(17, 116361, 51728, 4, 1, 'POLYGON ((139.595032 35.424868, 139.597778 35.424868, 139.597778 35.42263, 139.595032 35.42263, 139.595032 35.424868))', 0)\n",
      "(17, 116361, 51729, 4, 2, 'POLYGON ((139.595032 35.42263, 139.597778 35.42263, 139.597778 35.420392, 139.595032 35.420392, 139.595032 35.42263))', 0)\n",
      "(17, 116361, 51730, 4, 3, 'POLYGON ((139.595032 35.420392, 139.597778 35.420392, 139.597778 35.418153, 139.595032 35.418153, 139.595032 35.420392))', 0)\n"
     ]
    }
   ],
   "source": [
    "conn = sqlite3.connect(path_to_db)\n",
    "cursor = conn.cursor()\n",
    "cursor.execute(\"SELECT * FROM tile\")\n",
    "for r in cursor.fetchall():\n",
    "    print(r)\n",
    "conn.close()"
   ],
   "metadata": {
    "collapsed": false,
    "ExecuteTime": {
     "end_time": "2024-10-29T10:36:14.946350800Z",
     "start_time": "2024-10-29T10:36:14.927278900Z"
    }
   },
   "id": "26879428435be53c"
  },
  {
   "cell_type": "code",
   "execution_count": null,
   "outputs": [],
   "source": [],
   "metadata": {
    "collapsed": false
   },
   "id": "4bdac5f5afedb925"
  }
 ],
 "metadata": {
  "kernelspec": {
   "display_name": "Python 3",
   "language": "python",
   "name": "python3"
  },
  "language_info": {
   "codemirror_mode": {
    "name": "ipython",
    "version": 2
   },
   "file_extension": ".py",
   "mimetype": "text/x-python",
   "name": "python",
   "nbconvert_exporter": "python",
   "pygments_lexer": "ipython2",
   "version": "2.7.6"
  }
 },
 "nbformat": 4,
 "nbformat_minor": 5
}
