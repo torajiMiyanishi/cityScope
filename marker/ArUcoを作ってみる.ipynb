{
 "cells": [
  {
   "cell_type": "code",
   "execution_count": 10,
   "outputs": [],
   "source": [
    "import cv2\n",
    "import numpy as np\n",
    "from cv2 import aruco\n",
    "import os"
   ],
   "metadata": {
    "collapsed": false,
    "ExecuteTime": {
     "end_time": "2024-11-02T12:27:28.653178800Z",
     "start_time": "2024-11-02T12:27:28.627437100Z"
    }
   },
   "id": "33e4a9e23dd2e3ae"
  },
  {
   "cell_type": "code",
   "execution_count": 16,
   "id": "initial_id",
   "metadata": {
    "collapsed": true,
    "ExecuteTime": {
     "end_time": "2024-11-02T16:30:06.253126700Z",
     "start_time": "2024-11-02T16:30:06.110887700Z"
    }
   },
   "outputs": [],
   "source": [
    "# サイズとオフセット値\n",
    "size = 150\n",
    "offset = 10\n",
    "x_offset = y_offset = offset // 2\n",
    "\n",
    "# マーカーの個数\n",
    "num_markers = 10\n",
    "grid_size = int(np.ceil(np.sqrt(num_markers)))\n",
    "\n",
    "# 辞書を取得して画像を生成\n",
    "dictionary = aruco.getPredefinedDictionary(aruco.DICT_4X4_50)\n",
    "\n",
    "# 白い画像を作成（すべてのマーカーを収めるために適切なサイズにする）\n",
    "img_size = grid_size * (size + offset)\n",
    "img = np.zeros((img_size, img_size), dtype=np.uint8)\n",
    "img += 255\n",
    "\n",
    "# マーカーを生成して画像に重ねる\n",
    "for marker_id in range(num_markers):\n",
    "    ar_img = aruco.generateImageMarker(dictionary, marker_id, size)\n",
    "    # row = marker_id // grid_size\n",
    "    # col = marker_id % grid_size\n",
    "    # y_start = row * (size + offset) + y_offset\n",
    "    # x_start = col * (size + offset) + x_offset\n",
    "    # img[y_start:y_start + ar_img.shape[0], x_start:x_start + ar_img.shape[1]] = ar_img\n",
    "\n",
    "    cv2.imwrite(f\"C:/Users/tora2/downloads/ArUco_4x4_{marker_id}.png\", ar_img)"
   ]
  },
  {
   "cell_type": "code",
   "execution_count": 11,
   "outputs": [
    {
     "name": "stdout",
     "output_type": "stream",
     "text": [
      "[[1]\n",
      " [2]\n",
      " [0]\n",
      " [5]\n",
      " [3]\n",
      " [4]]\n"
     ]
    },
    {
     "data": {
      "text/plain": "True"
     },
     "execution_count": 11,
     "metadata": {},
     "output_type": "execute_result"
    }
   ],
   "source": [
    "# readのテスト\n",
    "\n",
    "# get dictionary and parameters\n",
    "dictionary = aruco.getPredefinedDictionary(aruco.DICT_4X4_50)\n",
    "parameters = aruco.DetectorParameters()\n",
    "\n",
    "# Create ArucoDetector object\n",
    "detector = aruco.ArucoDetector(dictionary, parameters)\n",
    "\n",
    "# read from image\n",
    "input_file = \"markers_0_to_5.png\"\n",
    "output_file = input_file.split(\".\")[0] + \"_detected.png\"\n",
    "input_img = cv2.imread(input_file)\n",
    "\n",
    "# detect and draw marker's information\n",
    "corners, ids, rejectedCandidates = detector.detectMarkers(input_img)\n",
    "print(ids)\n",
    "ar_image = aruco.drawDetectedMarkers(input_img, corners, ids)\n",
    "\n",
    "cv2.imwrite(output_file, ar_image)"
   ],
   "metadata": {
    "collapsed": false,
    "ExecuteTime": {
     "end_time": "2024-11-02T12:28:03.631436500Z",
     "start_time": "2024-11-02T12:28:03.576069Z"
    }
   },
   "id": "90a6f616d8093d8c"
  },
  {
   "cell_type": "code",
   "execution_count": 29,
   "outputs": [
    {
     "name": "stdout",
     "output_type": "stream",
     "text": [
      "(0, 41.12665461670178, -74.03361278028083, 41.12665461670178, -73.37945610271419, 40.584596611786154, -74.03361278028083, 40.584596611786154, -73.37945610271419)\n"
     ]
    }
   ],
   "source": [
    "# チェック用\n",
    "import sqlite3\n",
    "conn = sqlite3.connect(r\"C:\\Users\\tora2\\IdeaProjects\\cityScope\\visual\\screen_grid\\MARKER_POSITION.db\")\n",
    "cursor = conn.cursor()\n",
    "cursor.execute(\"SELECT * FROM map_bounds\")\n",
    "for r in cursor.fetchall():\n",
    "    print(r)\n",
    "conn.close()"
   ],
   "metadata": {
    "collapsed": false,
    "ExecuteTime": {
     "end_time": "2024-11-02T19:16:52.083600Z",
     "start_time": "2024-11-02T19:16:52.043087500Z"
    }
   },
   "id": "1f35dc3985986cbe"
  },
  {
   "cell_type": "code",
   "execution_count": null,
   "outputs": [],
   "source": [],
   "metadata": {
    "collapsed": false
   },
   "id": "d31a32ec8e23905b"
  }
 ],
 "metadata": {
  "kernelspec": {
   "display_name": "Python 3",
   "language": "python",
   "name": "python3"
  },
  "language_info": {
   "codemirror_mode": {
    "name": "ipython",
    "version": 2
   },
   "file_extension": ".py",
   "mimetype": "text/x-python",
   "name": "python",
   "nbconvert_exporter": "python",
   "pygments_lexer": "ipython2",
   "version": "2.7.6"
  }
 },
 "nbformat": 4,
 "nbformat_minor": 5
}
