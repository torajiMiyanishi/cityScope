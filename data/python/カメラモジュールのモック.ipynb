{
 "cells": [
  {
   "cell_type": "code",
   "execution_count": 13,
   "id": "initial_id",
   "metadata": {
    "collapsed": true,
    "ExecuteTime": {
     "end_time": "2024-10-07T00:07:07.251091Z",
     "start_time": "2024-10-07T00:07:07.235132700Z"
    }
   },
   "outputs": [],
   "source": [
    "import pandas as pd\n",
    "import sqlite3\n",
    "import uuid\n",
    "import time\n",
    "import random"
   ]
  },
  {
   "cell_type": "code",
   "execution_count": 14,
   "outputs": [],
   "source": [
    "PATH_TO_DATABASE = \"C:\\\\Users\\\\tora2\\\\IdeaProjects\\\\cityScope\\\\data\\\\database\\\\yokosuka_test.db\""
   ],
   "metadata": {
    "collapsed": false,
    "ExecuteTime": {
     "end_time": "2024-10-07T00:07:07.687875800Z",
     "start_time": "2024-10-07T00:07:07.676631600Z"
    }
   },
   "id": "77cef6b3199b910d"
  },
  {
   "cell_type": "code",
   "execution_count": 24,
   "outputs": [
    {
     "name": "stdout",
     "output_type": "stream",
     "text": [
      "(1728259664819, 'be24202d-ec36-4e71-b91c-50c50fe567c6', None, None, 35.35104166666667, 139.1328125, None, '53391418', None, None, None, 1)\n",
      "(1728259675871, 'be24202d-ec36-4e71-b91c-50c50fe567c6', None, None, 35.35104166666667, 139.1328125, None, '53391415', None, None, None, 0)\n"
     ]
    }
   ],
   "source": [
    "conn = sqlite3.connect(PATH_TO_DATABASE)\n",
    "cursor = conn.cursor()\n",
    "cursor.execute(\"SELECT * FROM poi_intervened\")\n",
    "for r in cursor.fetchall():\n",
    "    print(r)\n",
    "conn.close()"
   ],
   "metadata": {
    "collapsed": false,
    "ExecuteTime": {
     "end_time": "2024-10-07T00:08:00.106085500Z",
     "start_time": "2024-10-07T00:08:00.094465300Z"
    }
   },
   "id": "f8890a2796a2874f"
  },
  {
   "cell_type": "code",
   "execution_count": 25,
   "outputs": [
    {
     "name": "stdout",
     "output_type": "stream",
     "text": [
      "(1728259675871,)\n"
     ]
    }
   ],
   "source": [
    "conn = sqlite3.connect(PATH_TO_DATABASE)\n",
    "cursor = conn.cursor()\n",
    "cursor.execute(\"SELECT * FROM read_progress\")\n",
    "for r in cursor.fetchall():\n",
    "    print(r)\n",
    "conn.close()"
   ],
   "metadata": {
    "collapsed": false,
    "ExecuteTime": {
     "end_time": "2024-10-07T00:08:00.778657800Z",
     "start_time": "2024-10-07T00:08:00.756059700Z"
    }
   },
   "id": "a0a3e17f5f86e229"
  },
  {
   "cell_type": "code",
   "execution_count": 17,
   "outputs": [],
   "source": [
    "# テーブル初期化\n",
    "conn = sqlite3.connect(PATH_TO_DATABASE)\n",
    "cursor = conn.cursor()\n",
    "cursor.execute(\"\"\"DROP TABLE IF EXISTS poi_intervened\"\"\")\n",
    "cursor.execute(\"\"\"CREATE TABLE poi_intervened(\n",
    "                time_stamp INTEGER ,\n",
    "                poi_id TEXT, \n",
    "                genre TEXT, \n",
    "                area REAL, \n",
    "                latitude REAL, \n",
    "                longitude REAL, \n",
    "                address TEXT, \n",
    "                mesh_code TEXT, \n",
    "                industry_type TEXT, \n",
    "                behavior_type TEXT, \n",
    "                abs_attract_score INTEGER,\n",
    "                is_generated INTEGER\n",
    "                )\"\"\")\n",
    "cursor.execute(\"\"\"DROP TABLE IF EXISTS read_progress\"\"\")\n",
    "cursor.execute(\"\"\"CREATE TABLE read_progress(\n",
    "                time_stamp INTEGER\n",
    "                )\"\"\")\n",
    "conn.commit()\n",
    "conn.close()"
   ],
   "metadata": {
    "collapsed": false,
    "ExecuteTime": {
     "end_time": "2024-10-07T00:07:11.612575500Z",
     "start_time": "2024-10-07T00:07:11.572205500Z"
    }
   },
   "id": "67e0a6f1aa40ac61"
  },
  {
   "cell_type": "code",
   "execution_count": 18,
   "outputs": [],
   "source": [
    "def mock_intervened(poi_id=None, genre=None, area=None, latitude=None, longitude=None,\n",
    "                    address=None, mesh_code=None, industry_type=None, behavior_type=None, is_generated=True):\n",
    "    # デフォルト値の設定\n",
    "    if poi_id is None:\n",
    "        poi_id = str(uuid.uuid4())  # uuidを自動生成\n",
    "\n",
    "    # 現在のUNIXエポックからの経過時間をミリ秒単位で取得\n",
    "    time_stamp = int(time.time() * 1000)  # UNIXタイムスタンプをミリ秒に変換\n",
    "    \n",
    "    # sqlite用のbooleanに変換\n",
    "    is_generated_for_sql = 1 if is_generated else 0\n",
    "    \n",
    "\n",
    "    # SQLiteデータベースに接続\n",
    "    conn = sqlite3.connect(PATH_TO_DATABASE)\n",
    "    cursor = conn.cursor()\n",
    "\n",
    "    # モック用の挿入クエリ\n",
    "    insert_query = \"\"\"\n",
    "    INSERT INTO poi_intervened (time_stamp, poi_id, genre, area, latitude, longitude, address, mesh_code, industry_type, behavior_type, is_generated)\n",
    "    VALUES (?, ?, ?, ?, ?, ?, ?, ?, ?, ?, ?);\n",
    "    \"\"\"\n",
    "\n",
    "    # バインドするパラメータ\n",
    "    parameters = (\n",
    "        time_stamp,    # UNIXエポックのミリ秒\n",
    "        poi_id,\n",
    "        genre,\n",
    "        area,\n",
    "        latitude,\n",
    "        longitude,\n",
    "        address,\n",
    "        mesh_code,\n",
    "        industry_type,\n",
    "        behavior_type,\n",
    "        is_generated_for_sql\n",
    "    )\n",
    "    \n",
    "    # クエリにパラメータをバインドして実行\n",
    "    cursor.execute(insert_query, parameters)\n",
    "\n",
    "    # コミットして接続を閉じる\n",
    "    conn.commit()\n",
    "    conn.close()\n",
    "\n",
    "    # 実行されたSQLクエリの内容を確認用に表示\n",
    "    formatted_query = insert_query.replace('?', '{}').format(*parameters)\n",
    "    print(\"Executed SQL query:\")\n",
    "    print(formatted_query)\n",
    "\n",
    "def mesh_code_to_center_lat_lon(mesh_code):\n",
    "    # メッシュコードの文字列が正しい長さかチェック\n",
    "    if len(mesh_code) < 7:\n",
    "        raise ValueError(\"メッシュコードが短すぎます。7桁以上である必要があります。\")\n",
    "\n",
    "    # メッシュコードの各桁を取得\n",
    "    mesh1_lat = int(mesh_code[:2])  # 1次メッシュ緯度\n",
    "    mesh1_lon = int(mesh_code[2:4])  # 1次メッシュ経度\n",
    "    mesh2 = int(mesh_code[4])  # 2次メッシュ\n",
    "    mesh3 = int(mesh_code[5])  # 3次メッシュ\n",
    "    mesh4 = int(mesh_code[6])  # 250mメッシュ\n",
    "\n",
    "    # 基本座標を設定（1次メッシュ単位の大きさ）\n",
    "    lat_base = mesh1_lat * 2 / 3  # 1次メッシュは緯度80km（約0.66666度）\n",
    "    lon_base = mesh1_lon + 100  # 経度は東経100度基準\n",
    "\n",
    "    # 2次メッシュ（10km単位）の緯度経度オフセット\n",
    "    lat_offset_2 = (mesh2 // 2) * (1 / 12)  # 10kmメッシュ = 0.08333度 (1/12)\n",
    "    lon_offset_2 = (mesh2 % 2) * (1 / 8)    # 10kmメッシュ = 0.125度 (1/8)\n",
    "\n",
    "    # 3次メッシュ（1km単位）の緯度経度オフセット\n",
    "    lat_offset_3 = (mesh3 // 2) * (1 / 120)  # 1kmメッシュ = 0.008333度 (1/120)\n",
    "    lon_offset_3 = (mesh3 % 2) * (1 / 80)    # 1kmメッシュ = 0.0125度 (1/80)\n",
    "\n",
    "    # 250mメッシュのオフセット\n",
    "    lat_offset_4 = (mesh4 // 2) * (1 / 240)  # 250mメッシュ = 0.004166度 (1/240)\n",
    "    lon_offset_4 = (mesh4 % 2) * (1 / 160)   # 250mメッシュ = 0.00625度 (1/160)\n",
    "\n",
    "    # メッシュ中心の緯度経度計算\n",
    "    lat_center = lat_base + lat_offset_2 + lat_offset_3 + lat_offset_4 + (1 / 480) / 2  # メッシュ中心のため、半分のサイズを追加\n",
    "    lon_center = lon_base + lon_offset_2 + lon_offset_3 + lon_offset_4 + (1 / 320) / 2\n",
    "\n",
    "    return lat_center, lon_center"
   ],
   "metadata": {
    "collapsed": false,
    "ExecuteTime": {
     "end_time": "2024-10-07T00:07:15.649678300Z",
     "start_time": "2024-10-07T00:07:15.637584200Z"
    }
   },
   "id": "f4f722779204bcbf"
  },
  {
   "cell_type": "code",
   "execution_count": 19,
   "outputs": [],
   "source": [
    "target_mesh = ['53391415', '53391416', '53391417', '53391418',\n",
    "               '53391405', '53391406', '53391407', '53391408',\n",
    "               '53390495', '53390496', '53390497', '53390498',\n",
    "               '53390485', '53390486', '53390487', '53390488']\n",
    "genre = \"3001\""
   ],
   "metadata": {
    "collapsed": false,
    "ExecuteTime": {
     "end_time": "2024-10-07T00:07:16.964179700Z",
     "start_time": "2024-10-07T00:07:16.955614200Z"
    }
   },
   "id": "bcc56622def2dfac"
  },
  {
   "cell_type": "code",
   "execution_count": 23,
   "outputs": [
    {
     "name": "stdout",
     "output_type": "stream",
     "text": [
      "Executed SQL query:\n",
      "\n",
      "    INSERT INTO poi_intervened (time_stamp, poi_id, genre, area, latitude, longitude, address, mesh_code, industry_type, behavior_type, is_generated)\n",
      "    VALUES (1728259675871, be24202d-ec36-4e71-b91c-50c50fe567c6, None, None, 35.35104166666667, 139.1328125, None, 53391415, None, None, 0);\n",
      "    \n"
     ]
    }
   ],
   "source": [
    "chosen_mesh = random.choice(target_mesh)\n",
    "lat, lon = mesh_code_to_center_lat_lon(chosen_mesh)\n",
    "mock_intervened(poi_id=\"be24202d-ec36-4e71-b91c-50c50fe567c6\", mesh_code=chosen_mesh, latitude=lat, longitude=lon, is_generated=False)"
   ],
   "metadata": {
    "collapsed": false,
    "ExecuteTime": {
     "end_time": "2024-10-07T00:07:55.884799Z",
     "start_time": "2024-10-07T00:07:55.871539100Z"
    }
   },
   "id": "f75b1c43c9e5e783"
  },
  {
   "cell_type": "code",
   "execution_count": null,
   "outputs": [],
   "source": [],
   "metadata": {
    "collapsed": false
   },
   "id": "e228acc7b1560822"
  }
 ],
 "metadata": {
  "kernelspec": {
   "display_name": "Python 3",
   "language": "python",
   "name": "python3"
  },
  "language_info": {
   "codemirror_mode": {
    "name": "ipython",
    "version": 2
   },
   "file_extension": ".py",
   "mimetype": "text/x-python",
   "name": "python",
   "nbconvert_exporter": "python",
   "pygments_lexer": "ipython2",
   "version": "2.7.6"
  }
 },
 "nbformat": 4,
 "nbformat_minor": 5
}
