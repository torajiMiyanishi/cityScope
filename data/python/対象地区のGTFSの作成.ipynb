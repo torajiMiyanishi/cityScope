{
 "cells": [
  {
   "cell_type": "code",
   "execution_count": 1,
   "id": "initial_id",
   "metadata": {
    "collapsed": true,
    "ExecuteTime": {
     "end_time": "2024-10-16T11:46:22.500646300Z",
     "start_time": "2024-10-16T11:46:22.080294600Z"
    }
   },
   "outputs": [
    {
     "ename": "ModuleNotFoundError",
     "evalue": "No module named 'tqdm'",
     "output_type": "error",
     "traceback": [
      "\u001B[1;31m---------------------------------------------------------------------------\u001B[0m",
      "\u001B[1;31mModuleNotFoundError\u001B[0m                       Traceback (most recent call last)",
      "Cell \u001B[1;32mIn[1], line 4\u001B[0m\n\u001B[0;32m      2\u001B[0m \u001B[38;5;28;01mimport\u001B[39;00m \u001B[38;5;21;01mos\u001B[39;00m\n\u001B[0;32m      3\u001B[0m \u001B[38;5;28;01mimport\u001B[39;00m \u001B[38;5;21;01mshutil\u001B[39;00m\n\u001B[1;32m----> 4\u001B[0m \u001B[38;5;28;01mfrom\u001B[39;00m \u001B[38;5;21;01mtqdm\u001B[39;00m \u001B[38;5;28;01mimport\u001B[39;00m tqdm\n",
      "\u001B[1;31mModuleNotFoundError\u001B[0m: No module named 'tqdm'"
     ]
    }
   ],
   "source": [
    "import glob\n",
    "import os\n",
    "import shutil\n",
    "from tqdm import tqdm"
   ]
  },
  {
   "cell_type": "markdown",
   "source": [
    "GTFS（バスの処理）"
   ],
   "metadata": {
    "collapsed": false
   },
   "id": "54d3b7f579893bb2"
  },
  {
   "cell_type": "code",
   "execution_count": null,
   "outputs": [],
   "source": [
    "target_jcodes = [\n",
    "\"14101\",\n",
    "\"14102\",\n",
    "\"14103\",\n",
    "\"14104\",\n",
    "\"14105\",\n",
    "\"14106\",\n",
    "\"14107\",\n",
    "\"14108\",\n",
    "\"14109\",\n",
    "\"14110\",\n",
    "\"14111\",\n",
    "\"14112\",\n",
    "\"14113\",\n",
    "\"14114\",\n",
    "\"14115\",\n",
    "\"14116\",\n",
    "\"14117\",\n",
    "\"14118\"\n",
    "]\n",
    "target_jcode = \"14100\""
   ],
   "metadata": {
    "collapsed": false,
    "ExecuteTime": {
     "start_time": "2024-10-16T11:46:22.444059100Z"
    }
   },
   "id": "aa0a6029dd8d8a52"
  },
  {
   "cell_type": "code",
   "execution_count": 5,
   "outputs": [],
   "source": [
    "target_paths = []\n",
    "for path in glob.glob(\"Y:/GTFS/Bus_Japan_Gov/*\"):\n",
    "    if path.split(\"\\\\\")[-1] in target_jcodes:\n",
    "        target_paths.append(path)"
   ],
   "metadata": {
    "collapsed": false,
    "ExecuteTime": {
     "end_time": "2024-10-03T06:02:27.122110400Z",
     "start_time": "2024-10-03T06:02:27.070197Z"
    }
   },
   "id": "efb1756395ecb58a"
  },
  {
   "cell_type": "code",
   "execution_count": 6,
   "outputs": [
    {
     "data": {
      "text/plain": "['Y:/GTFS/Bus_Japan_Gov\\\\14101',\n 'Y:/GTFS/Bus_Japan_Gov\\\\14102',\n 'Y:/GTFS/Bus_Japan_Gov\\\\14103',\n 'Y:/GTFS/Bus_Japan_Gov\\\\14104',\n 'Y:/GTFS/Bus_Japan_Gov\\\\14105',\n 'Y:/GTFS/Bus_Japan_Gov\\\\14106',\n 'Y:/GTFS/Bus_Japan_Gov\\\\14107',\n 'Y:/GTFS/Bus_Japan_Gov\\\\14108',\n 'Y:/GTFS/Bus_Japan_Gov\\\\14109',\n 'Y:/GTFS/Bus_Japan_Gov\\\\14110',\n 'Y:/GTFS/Bus_Japan_Gov\\\\14111',\n 'Y:/GTFS/Bus_Japan_Gov\\\\14112',\n 'Y:/GTFS/Bus_Japan_Gov\\\\14113',\n 'Y:/GTFS/Bus_Japan_Gov\\\\14114',\n 'Y:/GTFS/Bus_Japan_Gov\\\\14115',\n 'Y:/GTFS/Bus_Japan_Gov\\\\14116',\n 'Y:/GTFS/Bus_Japan_Gov\\\\14117',\n 'Y:/GTFS/Bus_Japan_Gov\\\\14118']"
     },
     "execution_count": 6,
     "metadata": {},
     "output_type": "execute_result"
    }
   ],
   "source": [
    "target_paths"
   ],
   "metadata": {
    "collapsed": false,
    "ExecuteTime": {
     "end_time": "2024-10-03T06:02:32.026548100Z",
     "start_time": "2024-10-03T06:02:31.991947100Z"
    }
   },
   "id": "a58e285529a10855"
  },
  {
   "cell_type": "code",
   "execution_count": 12,
   "outputs": [
    {
     "name": "stderr",
     "output_type": "stream",
     "text": [
      "100%|██████████| 18/18 [00:57<00:00,  3.18s/it]\n"
     ]
    }
   ],
   "source": [
    "# 保存先ディレクトリ\n",
    "output_dir = f'Y:/GTFS/Bus_Japan_Gov/additional/{target_jcode}'\n",
    "\n",
    "# 保存先フォルダが存在しない場合、作成する\n",
    "if not os.path.exists(output_dir):\n",
    "    os.makedirs(output_dir)\n",
    "\n",
    "# 保存済みのファイル名を格納するセット\n",
    "seen_files = set()\n",
    "\n",
    "# 各ディレクトリを巡回し、.zipファイルを探す\n",
    "for dir_path in tqdm(target_paths):\n",
    "    if os.path.exists(dir_path):\n",
    "        for file_name in os.listdir(dir_path):\n",
    "            if file_name.endswith('.zip'):\n",
    "                # ファイル名が重複していないか確認\n",
    "                if file_name not in seen_files:\n",
    "                    # 新しいファイルの場合、セットに追加してコピー\n",
    "                    seen_files.add(file_name)\n",
    "                    full_path = os.path.join(dir_path, file_name)\n",
    "                    shutil.copy(full_path, os.path.join(output_dir, file_name))"
   ],
   "metadata": {
    "collapsed": false,
    "ExecuteTime": {
     "end_time": "2024-10-03T06:53:18.981451500Z",
     "start_time": "2024-10-03T06:52:21.603892800Z"
    }
   },
   "id": "d03a4ffe1fc28d6f"
  },
  {
   "cell_type": "markdown",
   "source": [
    "GTFS（鉄道）の処理"
   ],
   "metadata": {
    "collapsed": false
   },
   "id": "d5339c6812cf26b8"
  },
  {
   "cell_type": "code",
   "execution_count": 16,
   "outputs": [],
   "source": [
    "import pandas as pd\n",
    "import geopandas as gpd\n",
    "import sqlite3\n",
    "from tqdm import tqdm\n",
    "import numpy as np\n",
    "\n",
    "import os\n",
    "import zipfile\n",
    "\n",
    "def zip_text_files(directory_path, output_zip_file):\n",
    "    # 新しいZIPファイルを作成\n",
    "    with zipfile.ZipFile(output_zip_file, 'w') as zipf:\n",
    "        # 指定ディレクトリのファイルをループ\n",
    "        for foldername, subfolders, filenames in os.walk(directory_path):\n",
    "            for filename in filenames:\n",
    "                if filename.endswith('.txt'):\n",
    "                    # ファイルパスを取得\n",
    "                    file_path = os.path.join(foldername, filename)\n",
    "                    # ZIPファイルにファイルを追加\n",
    "                    zipf.write(file_path, arcname=filename)\n",
    "                    # print(f'Added {filename} to {output_zip_file}')"
   ],
   "metadata": {
    "collapsed": false,
    "ExecuteTime": {
     "end_time": "2024-10-03T06:59:23.088606700Z",
     "start_time": "2024-10-03T06:59:23.075599400Z"
    }
   },
   "id": "94d78a55cd975738"
  },
  {
   "cell_type": "code",
   "execution_count": 14,
   "outputs": [],
   "source": [
    "DIR_RAILWAY_JP = \"Z:/lab/accessibility/Railway_Japan/\"\n",
    "TARGET_JCODE = \"14100\""
   ],
   "metadata": {
    "collapsed": false,
    "ExecuteTime": {
     "end_time": "2024-10-03T06:59:13.995873700Z",
     "start_time": "2024-10-03T06:59:13.987741Z"
    }
   },
   "id": "f0e4d22cd814ccb6"
  },
  {
   "cell_type": "code",
   "execution_count": 22,
   "outputs": [],
   "source": [
    "conn = sqlite3.connect(DIR_RAILWAY_JP + \"StationPortDatabase.db\")\n",
    "# station = pd.read_sql_query(sql=\"select * from stationHasGeom\",con=conn)\n",
    "cursor = conn.cursor()\n",
    "cursor.execute(f\"select * from stationHasGoverment WHERE jcode IN {tuple(target_jcodes)}\")\n",
    "Station_Ids = []\n",
    "for r in cursor.fetchall():\n",
    "    Station_Ids.append(r[0])\n",
    "\n",
    "cursor.execute(f\"select * from stationHasGeom\")\n",
    "station_jp = cursor.fetchall()\n",
    "\n",
    "conn.close()"
   ],
   "metadata": {
    "collapsed": false,
    "ExecuteTime": {
     "end_time": "2024-10-03T07:01:16.238287200Z",
     "start_time": "2024-10-03T07:01:16.194801300Z"
    }
   },
   "id": "3335befb7809bbb4"
  },
  {
   "cell_type": "code",
   "execution_count": 24,
   "outputs": [],
   "source": [
    "conn = sqlite3.connect(\"C:/lab/accessibility/Railway_Japan/TripDataAllJapanRail.db\")\n",
    "# station = pd.read_sql_query(sql=\"select * from stationHasGeom\",con=conn)\n",
    "cursor = conn.cursor()\n",
    "\n",
    "# cursor.execute(f\"select * from sqlite_master\")\n",
    "# for r in cursor.fetchall():\n",
    "#     print(r)\n",
    "\n",
    "cursor.execute(f\"select * from stop_times\")\n",
    "stop_times = cursor.fetchall()\n",
    "cursor.execute(f\"select * from routes\")\n",
    "routes = cursor.fetchall()\n",
    "cursor.execute(f\"select * from trips\")\n",
    "trips = cursor.fetchall()\n",
    "# station_yawata = pd.read_sql_query(sql=f\"select station_id,station_name from stationHasGoverment WHERE jcode = {YAWATA_JCODE}\",con = conn)\n",
    "conn.close()"
   ],
   "metadata": {
    "collapsed": false,
    "ExecuteTime": {
     "end_time": "2024-10-03T07:02:43.140447200Z",
     "start_time": "2024-10-03T07:02:27.474231800Z"
    }
   },
   "id": "5b9ed5ad13267511"
  },
  {
   "cell_type": "code",
   "execution_count": 25,
   "outputs": [
    {
     "name": "stderr",
     "output_type": "stream",
     "text": [
      "100%|██████████| 5710504/5710504 [00:10<00:00, 531505.43it/s]\n",
      "100%|██████████| 5710504/5710504 [00:02<00:00, 2719455.08it/s]\n",
      "100%|██████████| 5710504/5710504 [00:01<00:00, 4747815.51it/s]\n"
     ]
    }
   ],
   "source": [
    "Target_Trip_Ids = []\n",
    "for stop_time in tqdm(stop_times):\n",
    "    if stop_time[3] in Station_Ids:\n",
    "        Target_Trip_Ids.append(stop_time[0])\n",
    "Target_Trip_Ids = set(Target_Trip_Ids)\n",
    "\n",
    "STOP_TIMES = []\n",
    "for stop_time in tqdm(stop_times):\n",
    "    if stop_time[0] in Target_Trip_Ids:\n",
    "        stop_time = list(stop_time)\n",
    "        if stop_time[1] != \"\":\n",
    "            stop_time[1] = stop_time[1]+\":00\"\n",
    "        if stop_time[2] != \"\":\n",
    "            stop_time[2] = stop_time[2]+\":00\"\n",
    "        stop_time = tuple(stop_time)\n",
    "        STOP_TIMES.append(stop_time)\n",
    "\n",
    "TRIPS = []\n",
    "for trip in trips:\n",
    "    if trip[0] in Target_Trip_Ids:\n",
    "        TRIPS.append(trip)\n",
    "\n",
    "Route_Ids = []\n",
    "for trip in trips:\n",
    "    if trip[0] in Target_Trip_Ids:\n",
    "        Route_Ids.append(trip[1])\n",
    "Route_Ids = set(Route_Ids)\n",
    "ROUTES = []\n",
    "for route in routes:\n",
    "    if route[0] in Route_Ids:\n",
    "        ROUTES.append(route)\n",
    "\n",
    "Stop_Ids = []\n",
    "for stop_time in tqdm(stop_times):\n",
    "    if stop_time[0] in Target_Trip_Ids:\n",
    "        Stop_Ids.append(stop_time[3])\n",
    "Stop_Ids = set(Stop_Ids)\n",
    "\n",
    "STOPS = []\n",
    "for stops in station_jp:\n",
    "    if stops[0] in Stop_Ids:\n",
    "        STOPS.append(stops)"
   ],
   "metadata": {
    "collapsed": false,
    "ExecuteTime": {
     "end_time": "2024-10-03T07:03:04.002348500Z",
     "start_time": "2024-10-03T07:02:49.798359700Z"
    }
   },
   "id": "55282080748f12ab"
  },
  {
   "cell_type": "code",
   "execution_count": 26,
   "outputs": [],
   "source": [
    "# GTFSデータの作成\n",
    "DIR_OUT_GTFS = \"Z:\\\\lab\\\\accessibility\\\\Railway_Japan\\\\regional\\\\\"\n",
    "\n",
    "Agency_id       = TARGET_JCODE +\"-RAIL\"\n",
    "os.makedirs(DIR_OUT_GTFS+f\"{Agency_id}.gtfs\",exist_ok=True) # ディレクトリ作成\n",
    "Agency_name     = \"__\"\n",
    "Agency_url      = \"https:/hoge/\"\n",
    "Agency_timezone = \"Asia/Tokyo\"\n",
    "Agency_lang     = \"ja\"\n",
    "pd.DataFrame({\"agency_id\":[Agency_id],\"agency_name\":[Agency_name],\"agency_url\":[Agency_url],\"agency_timezone\":[Agency_timezone],\"agency_lang\":[Agency_lang]}).to_csv(DIR_OUT_GTFS+f\"{Agency_id}.gtfs/agency.txt\",index=False,sep=\",\")\n",
    "\n",
    "\"\"\"calendar.txt\"\"\"\n",
    "Start_date = 20240401\n",
    "End_date = 20250401\n",
    "calendar_txt = {\n",
    "    \"service_id\":[\"Weekday\",\"Saturday\",\"Holiday\"],\n",
    "    \"monday\":[1,0,0],\n",
    "    \"tuesday\":[1,0,0],\n",
    "    \"wednesday\":[1,0,0],\n",
    "    \"thursday\":[1,0,0],\n",
    "    \"friday\":[1,0,0],\n",
    "    \"saturday\":[0,1,0],\n",
    "    \"sunday\":[0,0,1],\n",
    "    \"start_date\":[Start_date,Start_date,Start_date],\n",
    "    \"end_date\":[End_date,End_date,End_date]\n",
    "}\n",
    "pd.DataFrame(calendar_txt).to_csv(DIR_OUT_GTFS+f\"/{Agency_id}.gtfs/calendar.txt\",index=False,sep=\",\")\n",
    "\n",
    "\"\"\"stops.txt\"\"\"\n",
    "pd.DataFrame(np.array(STOPS)[:,[0,1,3,4]],columns=[\"stop_id\",\"stop_name\",\"stop_lat\",\"stop_lon\"]).to_csv(DIR_OUT_GTFS+f\"/{Agency_id}.gtfs/stops.txt\",index=False,sep=\",\")\n",
    "\n",
    "\"\"\"routes.txt\"\"\"\n",
    "pd.DataFrame(ROUTES,columns=[\"route_id\",\"route_short_name\",\"route_type\"]).to_csv(DIR_OUT_GTFS+f\"/{Agency_id}.gtfs/routes.txt\",index=False,sep=\",\")\n",
    "\n",
    "\"\"\"trips.txt\"\"\"\n",
    "pd.DataFrame(TRIPS,columns=[\"trip_id\",\"route_id\",\"service_id\",\"trip_short_name\"]).to_csv(DIR_OUT_GTFS+f\"/{Agency_id}.gtfs/trips.txt\",index=False,sep=\",\")\n",
    "\n",
    "\"\"\"stop_times.txt\"\"\"\n",
    "pd.DataFrame(STOP_TIMES,columns=[\"trip_id\",\"arrival_time\",\"departure_time\",\"stop_id\",\"stop_sequence\"]).to_csv(DIR_OUT_GTFS+f\"/{Agency_id}.gtfs/stop_times.txt\",index=False,sep=\",\")\n",
    "\n",
    "\"\"\"zip化\"\"\"\n",
    "# ディレクトリパスと出力するZIPファイルの名前\n",
    "directory_path  = DIR_OUT_GTFS+f\"/{Agency_id}.gtfs\"\n",
    "output_zip_file = DIR_OUT_GTFS+f\"/{Agency_id}.gtfs.zip\"\n",
    "# 関数を呼び出してZIP圧縮を実行\n",
    "zip_text_files(directory_path, output_zip_file)"
   ],
   "metadata": {
    "collapsed": false,
    "ExecuteTime": {
     "end_time": "2024-10-03T07:04:33.812425400Z",
     "start_time": "2024-10-03T07:03:11.912918200Z"
    }
   },
   "id": "52c05470bfcef983"
  },
  {
   "cell_type": "code",
   "execution_count": null,
   "outputs": [],
   "source": [],
   "metadata": {
    "collapsed": false
   },
   "id": "cf6bf61fd3a3acf3"
  }
 ],
 "metadata": {
  "kernelspec": {
   "display_name": "Python 3",
   "language": "python",
   "name": "python3"
  },
  "language_info": {
   "codemirror_mode": {
    "name": "ipython",
    "version": 2
   },
   "file_extension": ".py",
   "mimetype": "text/x-python",
   "name": "python",
   "nbconvert_exporter": "python",
   "pygments_lexer": "ipython2",
   "version": "2.7.6"
  }
 },
 "nbformat": 4,
 "nbformat_minor": 5
}
