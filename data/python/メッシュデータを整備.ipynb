{
 "cells": [
  {
   "cell_type": "code",
   "execution_count": 7,
   "id": "initial_id",
   "metadata": {
    "collapsed": true,
    "ExecuteTime": {
     "end_time": "2024-10-03T10:34:08.591839300Z",
     "start_time": "2024-10-03T10:34:08.555043700Z"
    }
   },
   "outputs": [],
   "source": [
    "import geopandas as gpd\n",
    "import pandas as pd\n",
    "from tqdm import tqdm"
   ]
  },
  {
   "cell_type": "code",
   "execution_count": 8,
   "outputs": [],
   "source": [
    "target_mesh = ['53391415', '53391416', '53391417', '53391418',\n",
    " '53391405', '53391406', '53391407', '53391408',\n",
    " '53390495', '53390496', '53390497', '53390498',\n",
    " '53390485', '53390486', '53390487', '53390488']"
   ],
   "metadata": {
    "collapsed": false,
    "ExecuteTime": {
     "end_time": "2024-10-03T10:34:09.278284100Z",
     "start_time": "2024-10-03T10:34:09.254683300Z"
    }
   },
   "id": "47eec7a606127bc6"
  },
  {
   "cell_type": "code",
   "execution_count": 2,
   "outputs": [],
   "source": [
    "gdf = gpd.read_file(\"C:\\\\Users\\\\tora2\\\\IdeaProjects\\\\cityScope\\\\data\\\\QDDSWQ5339\\\\MESH05339.shp\")"
   ],
   "metadata": {
    "collapsed": false,
    "ExecuteTime": {
     "end_time": "2024-10-03T10:23:34.330780900Z",
     "start_time": "2024-10-03T10:23:17.910136Z"
    }
   },
   "id": "12e87e672e6cff63"
  },
  {
   "cell_type": "code",
   "execution_count": 14,
   "outputs": [
    {
     "name": "stderr",
     "output_type": "stream",
     "text": [
      "100%|██████████| 16/16 [00:00<00:00, 68.13it/s]\n"
     ]
    }
   ],
   "source": [
    "dfs = []\n",
    "for mesh in tqdm(target_mesh):\n",
    "    MESH1_ID = mesh[0:4]\n",
    "    MESH2_ID = mesh[4:6]\n",
    "    MESH3_ID = mesh[6:8]\n",
    "    dfs.append(gdf.query(\"MESH1_ID == @MESH1_ID and MESH2_ID == @MESH2_ID and MESH3_ID == @MESH3_ID\"))\n",
    "dfs = pd.concat(dfs).filter(items=[\"KEY_CODE\",\"geometry\"]).set_axis([\"mesh_code\",\"geometry\"],axis=1)\n",
    "targets = gpd.GeoDataFrame(dfs,geometry=\"geometry\")"
   ],
   "metadata": {
    "collapsed": false,
    "ExecuteTime": {
     "end_time": "2024-10-03T10:36:10.978903400Z",
     "start_time": "2024-10-03T10:36:10.729674800Z"
    }
   },
   "id": "f8b9aad649d13cda"
  },
  {
   "cell_type": "code",
   "execution_count": 17,
   "outputs": [],
   "source": [
    "targets.to_file(\"C:\\\\Users\\\\tora2\\\\IdeaProjects\\\\cityScope\\\\data\\\\mesh\\\\mesh_geom.shp\")"
   ],
   "metadata": {
    "collapsed": false,
    "ExecuteTime": {
     "end_time": "2024-10-03T10:37:05.843191900Z",
     "start_time": "2024-10-03T10:37:05.742115400Z"
    }
   },
   "id": "c46565ee94a0ca05"
  },
  {
   "cell_type": "code",
   "execution_count": null,
   "outputs": [],
   "source": [],
   "metadata": {
    "collapsed": false
   },
   "id": "84dc86910ea83dda"
  }
 ],
 "metadata": {
  "kernelspec": {
   "display_name": "Python 3",
   "language": "python",
   "name": "python3"
  },
  "language_info": {
   "codemirror_mode": {
    "name": "ipython",
    "version": 2
   },
   "file_extension": ".py",
   "mimetype": "text/x-python",
   "name": "python",
   "nbconvert_exporter": "python",
   "pygments_lexer": "ipython2",
   "version": "2.7.6"
  }
 },
 "nbformat": 4,
 "nbformat_minor": 5
}
