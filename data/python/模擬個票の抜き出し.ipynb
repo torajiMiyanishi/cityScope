{
 "cells": [
  {
   "cell_type": "code",
   "execution_count": 40,
   "id": "initial_id",
   "metadata": {
    "collapsed": true,
    "ExecuteTime": {
     "end_time": "2024-10-03T14:55:44.489325600Z",
     "start_time": "2024-10-03T14:55:44.063407400Z"
    }
   },
   "outputs": [],
   "source": [
    "import sqlite3\n",
    "import geopandas as gpd\n",
    "import pandas as pd"
   ]
  },
  {
   "cell_type": "code",
   "execution_count": 41,
   "outputs": [],
   "source": [
    "def latlonTable2GDF(table: pd.DataFrame, colName_lat: str, colName_lon: str):\n",
    "    return gpd.GeoDataFrame(table, geometry=gpd.points_from_xy(table[colName_lon], table[colName_lat])).set_crs(6668)"
   ],
   "metadata": {
    "collapsed": false,
    "ExecuteTime": {
     "end_time": "2024-10-03T14:55:44.513807900Z",
     "start_time": "2024-10-03T14:55:44.503810500Z"
    }
   },
   "id": "336c45bc92b4ba7d"
  },
  {
   "cell_type": "code",
   "execution_count": 5,
   "outputs": [],
   "source": [
    "# 対象地区（横浜市）\n",
    "target_jcodes = [\n",
    "    \"14101\",\n",
    "    \"14102\",\n",
    "    \"14103\",\n",
    "    \"14104\",\n",
    "    \"14105\",\n",
    "    \"14106\",\n",
    "    \"14107\",\n",
    "    \"14108\",\n",
    "    \"14109\",\n",
    "    \"14110\",\n",
    "    \"14111\",\n",
    "    \"14112\",\n",
    "    \"14113\",\n",
    "    \"14114\",\n",
    "    \"14115\",\n",
    "    \"14116\",\n",
    "    \"14117\",\n",
    "    \"14118\"\n",
    "]"
   ],
   "metadata": {
    "collapsed": false,
    "ExecuteTime": {
     "end_time": "2024-10-03T07:42:44.027383200Z",
     "start_time": "2024-10-03T07:42:44.003082600Z"
    }
   },
   "id": "1c9a4dd5a80ecced"
  },
  {
   "cell_type": "code",
   "execution_count": 75,
   "outputs": [],
   "source": [
    "# target_jcodesをカンマ区切りの文字列に変換\n",
    "# SQL IN 句では、リストのように扱える\n",
    "placeholders = ','.join('?' for _ in target_jcodes)\n",
    "\n",
    "# データベース接続\n",
    "conn = sqlite3.connect(\"C:\\\\Users\\\\tora2\\\\IdeaProjects\\\\cityScope\\\\data\\\\2015_1_vJHPCN2019.sqlite3\")\n",
    "cursor = conn.cursor()\n",
    "# SQL クエリを実行して town_code が target_jcodes に含まれるレコードを抽出\n",
    "query = f\"\"\"\n",
    "WITH filtered_household AS (\n",
    "    SELECT *\n",
    "    FROM household\n",
    "    WHERE SUBSTR(town_code, 1, 5) IN ({placeholders})\n",
    "), filtered_person AS (\n",
    "    SELECT\n",
    "        person.age,\n",
    "        person.sex_id,\n",
    "        person.role_household_type_id,\n",
    "        building.latitude,\n",
    "        building.longitude,\n",
    "        worker.employment_type_id,\n",
    "        worker.company_id,\n",
    "        person.household_id\n",
    "    FROM\n",
    "        person\n",
    "    JOIN \n",
    "        filtered_household ON person.household_id = filtered_household.household_id\n",
    "    JOIN \n",
    "        building ON filtered_household.building_id = building.building_id\n",
    "    LEFT JOIN \n",
    "        worker ON person.person_id = worker.person_id\n",
    ")\n",
    "\n",
    "SELECT\n",
    "    filtered_person.age,\n",
    "    filtered_person.sex_id,\n",
    "    filtered_person.role_household_type_id,\n",
    "    filtered_person.latitude,\n",
    "    filtered_person.longitude,\n",
    "    filtered_person.employment_type_id,\n",
    "    filtered_person.company_id,\n",
    "    company.industry_type_id,\n",
    "    filtered_person.household_id\n",
    "FROM \n",
    "    filtered_person\n",
    "LEFT JOIN \n",
    "    company ON filtered_person.company_id = company.company_id\n",
    "\"\"\"\n",
    "\n",
    "cursor.execute(query, target_jcodes)\n",
    "result = cursor.fetchall()\n",
    "conn.close()"
   ],
   "metadata": {
    "collapsed": false,
    "ExecuteTime": {
     "end_time": "2024-10-04T00:23:54.221423900Z",
     "start_time": "2024-10-04T00:20:03.657577300Z"
    }
   },
   "id": "4b56a02e189bcfa8"
  },
  {
   "cell_type": "code",
   "execution_count": 76,
   "outputs": [
    {
     "data": {
      "text/plain": "3495691"
     },
     "execution_count": 76,
     "metadata": {},
     "output_type": "execute_result"
    }
   ],
   "source": [
    "len(list(result))"
   ],
   "metadata": {
    "collapsed": false,
    "ExecuteTime": {
     "end_time": "2024-10-04T00:23:54.362084Z",
     "start_time": "2024-10-04T00:23:54.224522300Z"
    }
   },
   "id": "6b15071221ed44c5"
  },
  {
   "cell_type": "code",
   "execution_count": 77,
   "outputs": [],
   "source": [
    "yokohama = pd.DataFrame(result,columns=[\"age\",\"sex_id\",\"role_household_type_id\",\"latitude\",\"longitude\",\"employment_type_id\",\"company_id\",\"industry_type_id\",\"household_id\"])"
   ],
   "metadata": {
    "collapsed": false,
    "ExecuteTime": {
     "end_time": "2024-10-04T00:23:58.202197800Z",
     "start_time": "2024-10-04T00:23:54.356303Z"
    }
   },
   "id": "f5257372d7611d25"
  },
  {
   "cell_type": "code",
   "execution_count": 78,
   "outputs": [],
   "source": [
    "# yokohama.to_csv(\"C:\\\\Users\\\\tora2\\\\IdeaProjects\\\\cityScope\\\\data\\\\sp_data_14100.csv\")\n",
    "yokohama = pd.read_csv(\"C:\\\\Users\\\\tora2\\\\IdeaProjects\\\\cityScope\\\\data\\\\sp_data_14100.csv\")"
   ],
   "metadata": {
    "collapsed": false,
    "ExecuteTime": {
     "end_time": "2024-10-04T00:24:09.723476300Z",
     "start_time": "2024-10-04T00:23:58.204211700Z"
    }
   },
   "id": "3e688e7433a8b642"
  },
  {
   "cell_type": "markdown",
   "source": [
    "対象範囲にclip"
   ],
   "metadata": {
    "collapsed": false
   },
   "id": "3cfbb3f6e1519b5a"
  },
  {
   "cell_type": "code",
   "execution_count": 79,
   "outputs": [
    {
     "data": {
      "text/plain": "         age  sex_id  role_household_type_id   latitude   longitude  \\\n0         15       0                       0  35.536595  139.657303   \n1         15       0                       0  35.492273  139.661276   \n2         15       0                       0  35.529866  139.670720   \n3         15       0                       0  35.519671  139.682110   \n4         15       0                       0  35.503321  139.672198   \n...      ...     ...                     ...        ...         ...   \n3495686   26       0                      20  35.527540  139.587707   \n3495687   21       1                      21  35.527540  139.587707   \n3495688   26       0                      20  35.527540  139.587707   \n3495689   30       0                      20  35.527540  139.587707   \n3495690   87       1                      31  35.527540  139.587707   \n\n         employment_type_id  company_id  industry_type_id  household_id  \n0                       NaN         NaN               NaN      19438213  \n1                       NaN         NaN               NaN      19438214  \n2                       NaN         NaN               NaN      19438215  \n3                       NaN         NaN               NaN      19438216  \n4                       NaN         NaN               NaN      19438217  \n...                     ...         ...               ...           ...  \n3495686                10.0        63.0             180.0      21007197  \n3495687                 NaN         NaN               NaN      21007197  \n3495688                10.0        13.0              50.0      21007197  \n3495689                 NaN         NaN               NaN      21007197  \n3495690                 NaN         NaN               NaN      21007197  \n\n[3495691 rows x 9 columns]",
      "text/html": "<div>\n<style scoped>\n    .dataframe tbody tr th:only-of-type {\n        vertical-align: middle;\n    }\n\n    .dataframe tbody tr th {\n        vertical-align: top;\n    }\n\n    .dataframe thead th {\n        text-align: right;\n    }\n</style>\n<table border=\"1\" class=\"dataframe\">\n  <thead>\n    <tr style=\"text-align: right;\">\n      <th></th>\n      <th>age</th>\n      <th>sex_id</th>\n      <th>role_household_type_id</th>\n      <th>latitude</th>\n      <th>longitude</th>\n      <th>employment_type_id</th>\n      <th>company_id</th>\n      <th>industry_type_id</th>\n      <th>household_id</th>\n    </tr>\n  </thead>\n  <tbody>\n    <tr>\n      <th>0</th>\n      <td>15</td>\n      <td>0</td>\n      <td>0</td>\n      <td>35.536595</td>\n      <td>139.657303</td>\n      <td>NaN</td>\n      <td>NaN</td>\n      <td>NaN</td>\n      <td>19438213</td>\n    </tr>\n    <tr>\n      <th>1</th>\n      <td>15</td>\n      <td>0</td>\n      <td>0</td>\n      <td>35.492273</td>\n      <td>139.661276</td>\n      <td>NaN</td>\n      <td>NaN</td>\n      <td>NaN</td>\n      <td>19438214</td>\n    </tr>\n    <tr>\n      <th>2</th>\n      <td>15</td>\n      <td>0</td>\n      <td>0</td>\n      <td>35.529866</td>\n      <td>139.670720</td>\n      <td>NaN</td>\n      <td>NaN</td>\n      <td>NaN</td>\n      <td>19438215</td>\n    </tr>\n    <tr>\n      <th>3</th>\n      <td>15</td>\n      <td>0</td>\n      <td>0</td>\n      <td>35.519671</td>\n      <td>139.682110</td>\n      <td>NaN</td>\n      <td>NaN</td>\n      <td>NaN</td>\n      <td>19438216</td>\n    </tr>\n    <tr>\n      <th>4</th>\n      <td>15</td>\n      <td>0</td>\n      <td>0</td>\n      <td>35.503321</td>\n      <td>139.672198</td>\n      <td>NaN</td>\n      <td>NaN</td>\n      <td>NaN</td>\n      <td>19438217</td>\n    </tr>\n    <tr>\n      <th>...</th>\n      <td>...</td>\n      <td>...</td>\n      <td>...</td>\n      <td>...</td>\n      <td>...</td>\n      <td>...</td>\n      <td>...</td>\n      <td>...</td>\n      <td>...</td>\n    </tr>\n    <tr>\n      <th>3495686</th>\n      <td>26</td>\n      <td>0</td>\n      <td>20</td>\n      <td>35.527540</td>\n      <td>139.587707</td>\n      <td>10.0</td>\n      <td>63.0</td>\n      <td>180.0</td>\n      <td>21007197</td>\n    </tr>\n    <tr>\n      <th>3495687</th>\n      <td>21</td>\n      <td>1</td>\n      <td>21</td>\n      <td>35.527540</td>\n      <td>139.587707</td>\n      <td>NaN</td>\n      <td>NaN</td>\n      <td>NaN</td>\n      <td>21007197</td>\n    </tr>\n    <tr>\n      <th>3495688</th>\n      <td>26</td>\n      <td>0</td>\n      <td>20</td>\n      <td>35.527540</td>\n      <td>139.587707</td>\n      <td>10.0</td>\n      <td>13.0</td>\n      <td>50.0</td>\n      <td>21007197</td>\n    </tr>\n    <tr>\n      <th>3495689</th>\n      <td>30</td>\n      <td>0</td>\n      <td>20</td>\n      <td>35.527540</td>\n      <td>139.587707</td>\n      <td>NaN</td>\n      <td>NaN</td>\n      <td>NaN</td>\n      <td>21007197</td>\n    </tr>\n    <tr>\n      <th>3495690</th>\n      <td>87</td>\n      <td>1</td>\n      <td>31</td>\n      <td>35.527540</td>\n      <td>139.587707</td>\n      <td>NaN</td>\n      <td>NaN</td>\n      <td>NaN</td>\n      <td>21007197</td>\n    </tr>\n  </tbody>\n</table>\n<p>3495691 rows × 9 columns</p>\n</div>"
     },
     "execution_count": 79,
     "metadata": {},
     "output_type": "execute_result"
    }
   ],
   "source": [
    "yokohama"
   ],
   "metadata": {
    "collapsed": false,
    "ExecuteTime": {
     "end_time": "2024-10-04T00:24:14.993044400Z",
     "start_time": "2024-10-04T00:24:14.976576400Z"
    }
   },
   "id": "b26f8565d6bddba"
  },
  {
   "cell_type": "code",
   "execution_count": 80,
   "outputs": [],
   "source": [
    "mesh_poly = gpd.read_file(\"C:\\\\Users\\\\tora2\\\\IdeaProjects\\\\cityScope\\\\data\\\\mesh\\\\mesh_geom.shp\")"
   ],
   "metadata": {
    "collapsed": false,
    "ExecuteTime": {
     "end_time": "2024-10-04T00:24:28.227335400Z",
     "start_time": "2024-10-04T00:24:28.168392200Z"
    }
   },
   "id": "89911932c6be2b35"
  },
  {
   "cell_type": "code",
   "execution_count": 81,
   "outputs": [],
   "source": [
    "sjoined = latlonTable2GDF(yokohama,\"latitude\",\"longitude\").sjoin(mesh_poly.to_crs(6668),how=\"left\",predicate=\"intersects\").filter(\n",
    "    items=[\"age\",\"sex_id\",\"role_household_type_id\",\"employment_type_id\",\"industry_type_id\",\"latitude\",\"longitude\",\n",
    "    \"household_id\",\"mesh_code\"])"
   ],
   "metadata": {
    "collapsed": false,
    "ExecuteTime": {
     "end_time": "2024-10-04T00:24:35.935850900Z",
     "start_time": "2024-10-04T00:24:28.632044700Z"
    }
   },
   "id": "7864b6a8b8387c21"
  },
  {
   "cell_type": "code",
   "execution_count": 82,
   "outputs": [],
   "source": [
    "sjoined.query(\"mesh_code == mesh_code\").to_csv(\"C:\\\\Users\\\\tora2\\\\IdeaProjects\\\\cityScope\\\\data\\\\pop\\\\spdata.csv\",index=False)"
   ],
   "metadata": {
    "collapsed": false,
    "ExecuteTime": {
     "end_time": "2024-10-04T00:24:36.754913100Z",
     "start_time": "2024-10-04T00:24:35.935850900Z"
    }
   },
   "id": "408a19cbd0296ec1"
  },
  {
   "cell_type": "code",
   "execution_count": 83,
   "outputs": [
    {
     "data": {
      "text/plain": "         age  sex_id  role_household_type_id  employment_type_id  \\\n0         15       0                       0                 NaN   \n1         15       0                       0                 NaN   \n2         15       0                       0                 NaN   \n3         15       0                       0                 NaN   \n4         15       0                       0                 NaN   \n...      ...     ...                     ...                 ...   \n3495686   26       0                      20                10.0   \n3495687   21       1                      21                 NaN   \n3495688   26       0                      20                10.0   \n3495689   30       0                      20                 NaN   \n3495690   87       1                      31                 NaN   \n\n         industry_type_id   latitude   longitude  household_id mesh_code  \n0                     NaN  35.536595  139.657303      19438213       NaN  \n1                     NaN  35.492273  139.661276      19438214       NaN  \n2                     NaN  35.529866  139.670720      19438215       NaN  \n3                     NaN  35.519671  139.682110      19438216       NaN  \n4                     NaN  35.503321  139.672198      19438217       NaN  \n...                   ...        ...         ...           ...       ...  \n3495686             180.0  35.527540  139.587707      21007197       NaN  \n3495687               NaN  35.527540  139.587707      21007197       NaN  \n3495688              50.0  35.527540  139.587707      21007197       NaN  \n3495689               NaN  35.527540  139.587707      21007197       NaN  \n3495690               NaN  35.527540  139.587707      21007197       NaN  \n\n[3495799 rows x 9 columns]",
      "text/html": "<div>\n<style scoped>\n    .dataframe tbody tr th:only-of-type {\n        vertical-align: middle;\n    }\n\n    .dataframe tbody tr th {\n        vertical-align: top;\n    }\n\n    .dataframe thead th {\n        text-align: right;\n    }\n</style>\n<table border=\"1\" class=\"dataframe\">\n  <thead>\n    <tr style=\"text-align: right;\">\n      <th></th>\n      <th>age</th>\n      <th>sex_id</th>\n      <th>role_household_type_id</th>\n      <th>employment_type_id</th>\n      <th>industry_type_id</th>\n      <th>latitude</th>\n      <th>longitude</th>\n      <th>household_id</th>\n      <th>mesh_code</th>\n    </tr>\n  </thead>\n  <tbody>\n    <tr>\n      <th>0</th>\n      <td>15</td>\n      <td>0</td>\n      <td>0</td>\n      <td>NaN</td>\n      <td>NaN</td>\n      <td>35.536595</td>\n      <td>139.657303</td>\n      <td>19438213</td>\n      <td>NaN</td>\n    </tr>\n    <tr>\n      <th>1</th>\n      <td>15</td>\n      <td>0</td>\n      <td>0</td>\n      <td>NaN</td>\n      <td>NaN</td>\n      <td>35.492273</td>\n      <td>139.661276</td>\n      <td>19438214</td>\n      <td>NaN</td>\n    </tr>\n    <tr>\n      <th>2</th>\n      <td>15</td>\n      <td>0</td>\n      <td>0</td>\n      <td>NaN</td>\n      <td>NaN</td>\n      <td>35.529866</td>\n      <td>139.670720</td>\n      <td>19438215</td>\n      <td>NaN</td>\n    </tr>\n    <tr>\n      <th>3</th>\n      <td>15</td>\n      <td>0</td>\n      <td>0</td>\n      <td>NaN</td>\n      <td>NaN</td>\n      <td>35.519671</td>\n      <td>139.682110</td>\n      <td>19438216</td>\n      <td>NaN</td>\n    </tr>\n    <tr>\n      <th>4</th>\n      <td>15</td>\n      <td>0</td>\n      <td>0</td>\n      <td>NaN</td>\n      <td>NaN</td>\n      <td>35.503321</td>\n      <td>139.672198</td>\n      <td>19438217</td>\n      <td>NaN</td>\n    </tr>\n    <tr>\n      <th>...</th>\n      <td>...</td>\n      <td>...</td>\n      <td>...</td>\n      <td>...</td>\n      <td>...</td>\n      <td>...</td>\n      <td>...</td>\n      <td>...</td>\n      <td>...</td>\n    </tr>\n    <tr>\n      <th>3495686</th>\n      <td>26</td>\n      <td>0</td>\n      <td>20</td>\n      <td>10.0</td>\n      <td>180.0</td>\n      <td>35.527540</td>\n      <td>139.587707</td>\n      <td>21007197</td>\n      <td>NaN</td>\n    </tr>\n    <tr>\n      <th>3495687</th>\n      <td>21</td>\n      <td>1</td>\n      <td>21</td>\n      <td>NaN</td>\n      <td>NaN</td>\n      <td>35.527540</td>\n      <td>139.587707</td>\n      <td>21007197</td>\n      <td>NaN</td>\n    </tr>\n    <tr>\n      <th>3495688</th>\n      <td>26</td>\n      <td>0</td>\n      <td>20</td>\n      <td>10.0</td>\n      <td>50.0</td>\n      <td>35.527540</td>\n      <td>139.587707</td>\n      <td>21007197</td>\n      <td>NaN</td>\n    </tr>\n    <tr>\n      <th>3495689</th>\n      <td>30</td>\n      <td>0</td>\n      <td>20</td>\n      <td>NaN</td>\n      <td>NaN</td>\n      <td>35.527540</td>\n      <td>139.587707</td>\n      <td>21007197</td>\n      <td>NaN</td>\n    </tr>\n    <tr>\n      <th>3495690</th>\n      <td>87</td>\n      <td>1</td>\n      <td>31</td>\n      <td>NaN</td>\n      <td>NaN</td>\n      <td>35.527540</td>\n      <td>139.587707</td>\n      <td>21007197</td>\n      <td>NaN</td>\n    </tr>\n  </tbody>\n</table>\n<p>3495799 rows × 9 columns</p>\n</div>"
     },
     "execution_count": 83,
     "metadata": {},
     "output_type": "execute_result"
    }
   ],
   "source": [
    "sjoined"
   ],
   "metadata": {
    "collapsed": false,
    "ExecuteTime": {
     "end_time": "2024-10-04T00:24:36.775381700Z",
     "start_time": "2024-10-04T00:24:36.757125800Z"
    }
   },
   "id": "8d5aaa44ace20a1f"
  },
  {
   "cell_type": "markdown",
   "source": [
    "模擬個票人口の調整"
   ],
   "metadata": {
    "collapsed": false
   },
   "id": "9626e4b8a2b60f98"
  },
  {
   "cell_type": "code",
   "execution_count": 84,
   "outputs": [
    {
     "data": {
      "text/plain": "        age  sex_id  role_household_type_id  employment_type_id  \\\n0        15       0                       0                 NaN   \n1        15       0                       0                 NaN   \n2        15       0                       0                 NaN   \n3        15       0                       0                 NaN   \n4        15       0                       0                 NaN   \n...     ...     ...                     ...                 ...   \n225754   24       0                      20                10.0   \n225755   14       1                      21                 NaN   \n225756   26       1                      21                 NaN   \n225757   19       0                      20                 NaN   \n225758   82       0                      30                 NaN   \n\n        industry_type_id   latitude   longitude  household_id   mesh_code  \n0                    NaN  35.412949  139.583328      19794381  5339049641  \n1                    NaN  35.425309  139.604004      19794383  5339141812  \n2                    NaN  35.428369  139.578979      19794386  5339141614  \n3                    NaN  35.423831  139.601588      19794388  5339140833  \n4                    NaN  35.424840  139.604145      19794390  5339140834  \n...                  ...        ...         ...           ...         ...  \n225754              90.0  35.405697  139.592515      20482501  5339048732  \n225755               NaN  35.405697  139.592515      20482501  5339048732  \n225756               NaN  35.405697  139.592515      20482501  5339048732  \n225757               NaN  35.405697  139.592515      20482501  5339048732  \n225758               NaN  35.405697  139.592515      20482501  5339048732  \n\n[225759 rows x 9 columns]",
      "text/html": "<div>\n<style scoped>\n    .dataframe tbody tr th:only-of-type {\n        vertical-align: middle;\n    }\n\n    .dataframe tbody tr th {\n        vertical-align: top;\n    }\n\n    .dataframe thead th {\n        text-align: right;\n    }\n</style>\n<table border=\"1\" class=\"dataframe\">\n  <thead>\n    <tr style=\"text-align: right;\">\n      <th></th>\n      <th>age</th>\n      <th>sex_id</th>\n      <th>role_household_type_id</th>\n      <th>employment_type_id</th>\n      <th>industry_type_id</th>\n      <th>latitude</th>\n      <th>longitude</th>\n      <th>household_id</th>\n      <th>mesh_code</th>\n    </tr>\n  </thead>\n  <tbody>\n    <tr>\n      <th>0</th>\n      <td>15</td>\n      <td>0</td>\n      <td>0</td>\n      <td>NaN</td>\n      <td>NaN</td>\n      <td>35.412949</td>\n      <td>139.583328</td>\n      <td>19794381</td>\n      <td>5339049641</td>\n    </tr>\n    <tr>\n      <th>1</th>\n      <td>15</td>\n      <td>0</td>\n      <td>0</td>\n      <td>NaN</td>\n      <td>NaN</td>\n      <td>35.425309</td>\n      <td>139.604004</td>\n      <td>19794383</td>\n      <td>5339141812</td>\n    </tr>\n    <tr>\n      <th>2</th>\n      <td>15</td>\n      <td>0</td>\n      <td>0</td>\n      <td>NaN</td>\n      <td>NaN</td>\n      <td>35.428369</td>\n      <td>139.578979</td>\n      <td>19794386</td>\n      <td>5339141614</td>\n    </tr>\n    <tr>\n      <th>3</th>\n      <td>15</td>\n      <td>0</td>\n      <td>0</td>\n      <td>NaN</td>\n      <td>NaN</td>\n      <td>35.423831</td>\n      <td>139.601588</td>\n      <td>19794388</td>\n      <td>5339140833</td>\n    </tr>\n    <tr>\n      <th>4</th>\n      <td>15</td>\n      <td>0</td>\n      <td>0</td>\n      <td>NaN</td>\n      <td>NaN</td>\n      <td>35.424840</td>\n      <td>139.604145</td>\n      <td>19794390</td>\n      <td>5339140834</td>\n    </tr>\n    <tr>\n      <th>...</th>\n      <td>...</td>\n      <td>...</td>\n      <td>...</td>\n      <td>...</td>\n      <td>...</td>\n      <td>...</td>\n      <td>...</td>\n      <td>...</td>\n      <td>...</td>\n    </tr>\n    <tr>\n      <th>225754</th>\n      <td>24</td>\n      <td>0</td>\n      <td>20</td>\n      <td>10.0</td>\n      <td>90.0</td>\n      <td>35.405697</td>\n      <td>139.592515</td>\n      <td>20482501</td>\n      <td>5339048732</td>\n    </tr>\n    <tr>\n      <th>225755</th>\n      <td>14</td>\n      <td>1</td>\n      <td>21</td>\n      <td>NaN</td>\n      <td>NaN</td>\n      <td>35.405697</td>\n      <td>139.592515</td>\n      <td>20482501</td>\n      <td>5339048732</td>\n    </tr>\n    <tr>\n      <th>225756</th>\n      <td>26</td>\n      <td>1</td>\n      <td>21</td>\n      <td>NaN</td>\n      <td>NaN</td>\n      <td>35.405697</td>\n      <td>139.592515</td>\n      <td>20482501</td>\n      <td>5339048732</td>\n    </tr>\n    <tr>\n      <th>225757</th>\n      <td>19</td>\n      <td>0</td>\n      <td>20</td>\n      <td>NaN</td>\n      <td>NaN</td>\n      <td>35.405697</td>\n      <td>139.592515</td>\n      <td>20482501</td>\n      <td>5339048732</td>\n    </tr>\n    <tr>\n      <th>225758</th>\n      <td>82</td>\n      <td>0</td>\n      <td>30</td>\n      <td>NaN</td>\n      <td>NaN</td>\n      <td>35.405697</td>\n      <td>139.592515</td>\n      <td>20482501</td>\n      <td>5339048732</td>\n    </tr>\n  </tbody>\n</table>\n<p>225759 rows × 9 columns</p>\n</div>"
     },
     "execution_count": 84,
     "metadata": {},
     "output_type": "execute_result"
    }
   ],
   "source": [
    "target = pd.read_csv(\"C:\\\\Users\\\\tora2\\\\IdeaProjects\\\\cityScope\\\\data\\\\pop\\\\spdata.csv\")\n",
    "target"
   ],
   "metadata": {
    "collapsed": false,
    "ExecuteTime": {
     "end_time": "2024-10-04T00:24:53.732545600Z",
     "start_time": "2024-10-04T00:24:53.583857900Z"
    }
   },
   "id": "fb28dd7d888c16d5"
  },
  {
   "cell_type": "code",
   "execution_count": 93,
   "outputs": [],
   "source": [
    "n = 1\n",
    "target.sample(n=n).to_csv(f\"C:\\\\Users\\\\tora2\\\\IdeaProjects\\\\cityScope\\\\data\\\\pop\\\\spdata_{n}.csv\",index=False)"
   ],
   "metadata": {
    "collapsed": false,
    "ExecuteTime": {
     "end_time": "2024-10-04T02:22:55.079028300Z",
     "start_time": "2024-10-04T02:22:55.026121100Z"
    }
   },
   "id": "2e5af0938e3a49e1"
  },
  {
   "cell_type": "code",
   "execution_count": 89,
   "outputs": [
    {
     "data": {
      "text/plain": "        age  sex_id  role_household_type_id  employment_type_id  \\\n0        15       0                       0                 NaN   \n1        15       0                       0                 NaN   \n2        15       0                       0                 NaN   \n3        15       0                       0                 NaN   \n4        15       0                       0                 NaN   \n...     ...     ...                     ...                 ...   \n225754   24       0                      20                10.0   \n225755   14       1                      21                 NaN   \n225756   26       1                      21                 NaN   \n225757   19       0                      20                 NaN   \n225758   82       0                      30                 NaN   \n\n        industry_type_id   latitude   longitude  household_id   mesh_code  \n0                    NaN  35.412949  139.583328      19794381  5339049641  \n1                    NaN  35.425309  139.604004      19794383  5339141812  \n2                    NaN  35.428369  139.578979      19794386  5339141614  \n3                    NaN  35.423831  139.601588      19794388  5339140833  \n4                    NaN  35.424840  139.604145      19794390  5339140834  \n...                  ...        ...         ...           ...         ...  \n225754              90.0  35.405697  139.592515      20482501  5339048732  \n225755               NaN  35.405697  139.592515      20482501  5339048732  \n225756               NaN  35.405697  139.592515      20482501  5339048732  \n225757               NaN  35.405697  139.592515      20482501  5339048732  \n225758               NaN  35.405697  139.592515      20482501  5339048732  \n\n[225759 rows x 9 columns]",
      "text/html": "<div>\n<style scoped>\n    .dataframe tbody tr th:only-of-type {\n        vertical-align: middle;\n    }\n\n    .dataframe tbody tr th {\n        vertical-align: top;\n    }\n\n    .dataframe thead th {\n        text-align: right;\n    }\n</style>\n<table border=\"1\" class=\"dataframe\">\n  <thead>\n    <tr style=\"text-align: right;\">\n      <th></th>\n      <th>age</th>\n      <th>sex_id</th>\n      <th>role_household_type_id</th>\n      <th>employment_type_id</th>\n      <th>industry_type_id</th>\n      <th>latitude</th>\n      <th>longitude</th>\n      <th>household_id</th>\n      <th>mesh_code</th>\n    </tr>\n  </thead>\n  <tbody>\n    <tr>\n      <th>0</th>\n      <td>15</td>\n      <td>0</td>\n      <td>0</td>\n      <td>NaN</td>\n      <td>NaN</td>\n      <td>35.412949</td>\n      <td>139.583328</td>\n      <td>19794381</td>\n      <td>5339049641</td>\n    </tr>\n    <tr>\n      <th>1</th>\n      <td>15</td>\n      <td>0</td>\n      <td>0</td>\n      <td>NaN</td>\n      <td>NaN</td>\n      <td>35.425309</td>\n      <td>139.604004</td>\n      <td>19794383</td>\n      <td>5339141812</td>\n    </tr>\n    <tr>\n      <th>2</th>\n      <td>15</td>\n      <td>0</td>\n      <td>0</td>\n      <td>NaN</td>\n      <td>NaN</td>\n      <td>35.428369</td>\n      <td>139.578979</td>\n      <td>19794386</td>\n      <td>5339141614</td>\n    </tr>\n    <tr>\n      <th>3</th>\n      <td>15</td>\n      <td>0</td>\n      <td>0</td>\n      <td>NaN</td>\n      <td>NaN</td>\n      <td>35.423831</td>\n      <td>139.601588</td>\n      <td>19794388</td>\n      <td>5339140833</td>\n    </tr>\n    <tr>\n      <th>4</th>\n      <td>15</td>\n      <td>0</td>\n      <td>0</td>\n      <td>NaN</td>\n      <td>NaN</td>\n      <td>35.424840</td>\n      <td>139.604145</td>\n      <td>19794390</td>\n      <td>5339140834</td>\n    </tr>\n    <tr>\n      <th>...</th>\n      <td>...</td>\n      <td>...</td>\n      <td>...</td>\n      <td>...</td>\n      <td>...</td>\n      <td>...</td>\n      <td>...</td>\n      <td>...</td>\n      <td>...</td>\n    </tr>\n    <tr>\n      <th>225754</th>\n      <td>24</td>\n      <td>0</td>\n      <td>20</td>\n      <td>10.0</td>\n      <td>90.0</td>\n      <td>35.405697</td>\n      <td>139.592515</td>\n      <td>20482501</td>\n      <td>5339048732</td>\n    </tr>\n    <tr>\n      <th>225755</th>\n      <td>14</td>\n      <td>1</td>\n      <td>21</td>\n      <td>NaN</td>\n      <td>NaN</td>\n      <td>35.405697</td>\n      <td>139.592515</td>\n      <td>20482501</td>\n      <td>5339048732</td>\n    </tr>\n    <tr>\n      <th>225756</th>\n      <td>26</td>\n      <td>1</td>\n      <td>21</td>\n      <td>NaN</td>\n      <td>NaN</td>\n      <td>35.405697</td>\n      <td>139.592515</td>\n      <td>20482501</td>\n      <td>5339048732</td>\n    </tr>\n    <tr>\n      <th>225757</th>\n      <td>19</td>\n      <td>0</td>\n      <td>20</td>\n      <td>NaN</td>\n      <td>NaN</td>\n      <td>35.405697</td>\n      <td>139.592515</td>\n      <td>20482501</td>\n      <td>5339048732</td>\n    </tr>\n    <tr>\n      <th>225758</th>\n      <td>82</td>\n      <td>0</td>\n      <td>30</td>\n      <td>NaN</td>\n      <td>NaN</td>\n      <td>35.405697</td>\n      <td>139.592515</td>\n      <td>20482501</td>\n      <td>5339048732</td>\n    </tr>\n  </tbody>\n</table>\n<p>225759 rows × 9 columns</p>\n</div>"
     },
     "execution_count": 89,
     "metadata": {},
     "output_type": "execute_result"
    }
   ],
   "source": [
    "target"
   ],
   "metadata": {
    "collapsed": false,
    "ExecuteTime": {
     "end_time": "2024-10-04T00:25:07.708789100Z",
     "start_time": "2024-10-04T00:25:07.687177700Z"
    }
   },
   "id": "8a179920d2a02c69"
  },
  {
   "cell_type": "code",
   "execution_count": null,
   "outputs": [],
   "source": [],
   "metadata": {
    "collapsed": false
   },
   "id": "60e3272fef419eb5"
  }
 ],
 "metadata": {
  "kernelspec": {
   "display_name": "Python 3",
   "language": "python",
   "name": "python3"
  },
  "language_info": {
   "codemirror_mode": {
    "name": "ipython",
    "version": 2
   },
   "file_extension": ".py",
   "mimetype": "text/x-python",
   "name": "python",
   "nbconvert_exporter": "python",
   "pygments_lexer": "ipython2",
   "version": "2.7.6"
  }
 },
 "nbformat": 4,
 "nbformat_minor": 5
}
