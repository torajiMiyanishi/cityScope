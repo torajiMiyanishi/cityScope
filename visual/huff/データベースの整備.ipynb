{
 "cells": [
  {
   "cell_type": "code",
   "execution_count": 62,
   "id": "initial_id",
   "metadata": {
    "collapsed": true,
    "ExecuteTime": {
     "end_time": "2024-10-29T08:48:39.872008700Z",
     "start_time": "2024-10-29T08:48:38.185417400Z"
    }
   },
   "outputs": [],
   "source": [
    "import sqlite3\n",
    "import random\n",
    "import pandas as pd\n",
    "import glob\n",
    "import os\n",
    "import geopandas as gpd\n",
    "from shapely.geometry import Polygon\n",
    "from shapely import wkt\n",
    "import folium"
   ]
  },
  {
   "cell_type": "code",
   "execution_count": 47,
   "outputs": [],
   "source": [
    "def latlonTable2GDF(table: pd.DataFrame, colName_lat: str, colName_lon: str):\n",
    "    return gpd.GeoDataFrame(table, geometry=gpd.points_from_xy(table[colName_lon], table[colName_lat])).set_crs(6668)"
   ],
   "metadata": {
    "collapsed": false,
    "ExecuteTime": {
     "end_time": "2024-10-29T08:07:13.670614900Z",
     "start_time": "2024-10-29T08:07:13.649582Z"
    }
   },
   "id": "ddd16668a9f63582"
  },
  {
   "cell_type": "code",
   "execution_count": 22,
   "outputs": [],
   "source": [
    "path_to_db = \"./CityData.db\"\n",
    "path_to_pop_data = \"../../../cityScope/data/sp_data_14100.csv\""
   ],
   "metadata": {
    "collapsed": false,
    "ExecuteTime": {
     "end_time": "2024-10-29T07:39:21.943499900Z",
     "start_time": "2024-10-29T07:39:21.909469500Z"
    }
   },
   "id": "69db5c3af0f0e241"
  },
  {
   "cell_type": "code",
   "execution_count": 3,
   "outputs": [],
   "source": [
    "conn = sqlite3.connect(path_to_db)\n",
    "cursor = conn.cursor()\n",
    "# cursor.execute(\"DROP TABLE IF EXISTS agent_locations\")\n",
    "cursor.execute(\"\"\"CREATE TABLE IF NOT EXISTS agent_locations ( \n",
    "                timestamp INTEGER,\n",
    "                person_name TEXT,\n",
    "                gender TEXT,\n",
    "                age INTEGER,\n",
    "                latitude REAL,\n",
    "                longitude REAL\n",
    "                )\"\"\")\n",
    "conn.commit()\n",
    "conn.close()"
   ],
   "metadata": {
    "collapsed": false,
    "ExecuteTime": {
     "end_time": "2024-10-29T07:12:54.281567700Z",
     "start_time": "2024-10-29T07:12:54.262965700Z"
    }
   },
   "id": "7a265b45e3eb41b8"
  },
  {
   "cell_type": "code",
   "execution_count": 68,
   "outputs": [],
   "source": [
    "conn = sqlite3.connect(path_to_db)\n",
    "data.to_sql(name=\"agent_locations\",con=conn,if_exists=\"append\",index=False)\n",
    "conn.commit()\n",
    "conn.close()"
   ],
   "metadata": {
    "collapsed": false
   },
   "id": "dc7ad60cf78cdf2b"
  },
  {
   "cell_type": "code",
   "execution_count": 79,
   "outputs": [],
   "source": [
    "conn = sqlite3.connect(path_to_db)\n",
    "cursor = conn.cursor()\n",
    "cursor.execute(\"SELECT * FROM agent_locations\")\n",
    "for r in cursor.fetchall():\n",
    "    print(r)\n",
    "conn.close()"
   ],
   "metadata": {
    "collapsed": false,
    "ExecuteTime": {
     "end_time": "2024-10-16T12:07:04.042676600Z",
     "start_time": "2024-10-16T12:07:04.031443100Z"
    }
   },
   "id": "9221dbbc0f1d3bae"
  },
  {
   "cell_type": "code",
   "execution_count": 23,
   "outputs": [],
   "source": [
    "df = pd.read_csv(path_to_pop_data)"
   ],
   "metadata": {
    "collapsed": false,
    "ExecuteTime": {
     "end_time": "2024-10-29T07:39:27.676829600Z",
     "start_time": "2024-10-29T07:39:24.342648700Z"
    }
   },
   "id": "3de6a833da271c61"
  },
  {
   "cell_type": "code",
   "execution_count": 24,
   "outputs": [
    {
     "data": {
      "text/plain": "         Unnamed: 0  age  sex_id  role_household_type_id   latitude  \\\n0                 0   15       0                       0  35.536595   \n1                 1   15       0                       0  35.492273   \n2                 2   15       0                       0  35.529866   \n3                 3   15       0                       0  35.519671   \n4                 4   15       0                       0  35.503321   \n...             ...  ...     ...                     ...        ...   \n3495686     3495686   26       0                      20  35.527540   \n3495687     3495687   21       1                      21  35.527540   \n3495688     3495688   26       0                      20  35.527540   \n3495689     3495689   30       0                      20  35.527540   \n3495690     3495690   87       1                      31  35.527540   \n\n          longitude  employment_type_id  company_id  industry_type_id  \\\n0        139.657303                 NaN         NaN               NaN   \n1        139.661276                 NaN         NaN               NaN   \n2        139.670720                 NaN         NaN               NaN   \n3        139.682110                 NaN         NaN               NaN   \n4        139.672198                 NaN         NaN               NaN   \n...             ...                 ...         ...               ...   \n3495686  139.587707                10.0        63.0             180.0   \n3495687  139.587707                 NaN         NaN               NaN   \n3495688  139.587707                10.0        13.0              50.0   \n3495689  139.587707                 NaN         NaN               NaN   \n3495690  139.587707                 NaN         NaN               NaN   \n\n         household_id  \n0            19438213  \n1            19438214  \n2            19438215  \n3            19438216  \n4            19438217  \n...               ...  \n3495686      21007197  \n3495687      21007197  \n3495688      21007197  \n3495689      21007197  \n3495690      21007197  \n\n[3495691 rows x 10 columns]",
      "text/html": "<div>\n<style scoped>\n    .dataframe tbody tr th:only-of-type {\n        vertical-align: middle;\n    }\n\n    .dataframe tbody tr th {\n        vertical-align: top;\n    }\n\n    .dataframe thead th {\n        text-align: right;\n    }\n</style>\n<table border=\"1\" class=\"dataframe\">\n  <thead>\n    <tr style=\"text-align: right;\">\n      <th></th>\n      <th>Unnamed: 0</th>\n      <th>age</th>\n      <th>sex_id</th>\n      <th>role_household_type_id</th>\n      <th>latitude</th>\n      <th>longitude</th>\n      <th>employment_type_id</th>\n      <th>company_id</th>\n      <th>industry_type_id</th>\n      <th>household_id</th>\n    </tr>\n  </thead>\n  <tbody>\n    <tr>\n      <th>0</th>\n      <td>0</td>\n      <td>15</td>\n      <td>0</td>\n      <td>0</td>\n      <td>35.536595</td>\n      <td>139.657303</td>\n      <td>NaN</td>\n      <td>NaN</td>\n      <td>NaN</td>\n      <td>19438213</td>\n    </tr>\n    <tr>\n      <th>1</th>\n      <td>1</td>\n      <td>15</td>\n      <td>0</td>\n      <td>0</td>\n      <td>35.492273</td>\n      <td>139.661276</td>\n      <td>NaN</td>\n      <td>NaN</td>\n      <td>NaN</td>\n      <td>19438214</td>\n    </tr>\n    <tr>\n      <th>2</th>\n      <td>2</td>\n      <td>15</td>\n      <td>0</td>\n      <td>0</td>\n      <td>35.529866</td>\n      <td>139.670720</td>\n      <td>NaN</td>\n      <td>NaN</td>\n      <td>NaN</td>\n      <td>19438215</td>\n    </tr>\n    <tr>\n      <th>3</th>\n      <td>3</td>\n      <td>15</td>\n      <td>0</td>\n      <td>0</td>\n      <td>35.519671</td>\n      <td>139.682110</td>\n      <td>NaN</td>\n      <td>NaN</td>\n      <td>NaN</td>\n      <td>19438216</td>\n    </tr>\n    <tr>\n      <th>4</th>\n      <td>4</td>\n      <td>15</td>\n      <td>0</td>\n      <td>0</td>\n      <td>35.503321</td>\n      <td>139.672198</td>\n      <td>NaN</td>\n      <td>NaN</td>\n      <td>NaN</td>\n      <td>19438217</td>\n    </tr>\n    <tr>\n      <th>...</th>\n      <td>...</td>\n      <td>...</td>\n      <td>...</td>\n      <td>...</td>\n      <td>...</td>\n      <td>...</td>\n      <td>...</td>\n      <td>...</td>\n      <td>...</td>\n      <td>...</td>\n    </tr>\n    <tr>\n      <th>3495686</th>\n      <td>3495686</td>\n      <td>26</td>\n      <td>0</td>\n      <td>20</td>\n      <td>35.527540</td>\n      <td>139.587707</td>\n      <td>10.0</td>\n      <td>63.0</td>\n      <td>180.0</td>\n      <td>21007197</td>\n    </tr>\n    <tr>\n      <th>3495687</th>\n      <td>3495687</td>\n      <td>21</td>\n      <td>1</td>\n      <td>21</td>\n      <td>35.527540</td>\n      <td>139.587707</td>\n      <td>NaN</td>\n      <td>NaN</td>\n      <td>NaN</td>\n      <td>21007197</td>\n    </tr>\n    <tr>\n      <th>3495688</th>\n      <td>3495688</td>\n      <td>26</td>\n      <td>0</td>\n      <td>20</td>\n      <td>35.527540</td>\n      <td>139.587707</td>\n      <td>10.0</td>\n      <td>13.0</td>\n      <td>50.0</td>\n      <td>21007197</td>\n    </tr>\n    <tr>\n      <th>3495689</th>\n      <td>3495689</td>\n      <td>30</td>\n      <td>0</td>\n      <td>20</td>\n      <td>35.527540</td>\n      <td>139.587707</td>\n      <td>NaN</td>\n      <td>NaN</td>\n      <td>NaN</td>\n      <td>21007197</td>\n    </tr>\n    <tr>\n      <th>3495690</th>\n      <td>3495690</td>\n      <td>87</td>\n      <td>1</td>\n      <td>31</td>\n      <td>35.527540</td>\n      <td>139.587707</td>\n      <td>NaN</td>\n      <td>NaN</td>\n      <td>NaN</td>\n      <td>21007197</td>\n    </tr>\n  </tbody>\n</table>\n<p>3495691 rows × 10 columns</p>\n</div>"
     },
     "execution_count": 24,
     "metadata": {},
     "output_type": "execute_result"
    }
   ],
   "source": [
    "df"
   ],
   "metadata": {
    "collapsed": false,
    "ExecuteTime": {
     "end_time": "2024-10-29T07:39:27.696609800Z",
     "start_time": "2024-10-29T07:39:27.678344900Z"
    }
   },
   "id": "f71dc78b01a9438e"
  },
  {
   "cell_type": "markdown",
   "source": [
    "基本単位区データの取得"
   ],
   "metadata": {
    "collapsed": false
   },
   "id": "b301d2310b326ba6"
  },
  {
   "cell_type": "code",
   "execution_count": 28,
   "outputs": [],
   "source": [
    "# 対象地区（横浜市）\n",
    "target_jcodes = [\n",
    "    \"14101\",\n",
    "    \"14102\",\n",
    "    \"14103\",\n",
    "    \"14104\",\n",
    "    \"14105\",\n",
    "    \"14106\",\n",
    "    \"14107\",\n",
    "    \"14108\",\n",
    "    \"14109\",\n",
    "    \"14110\",\n",
    "    \"14111\",\n",
    "    \"14112\",\n",
    "    \"14113\",\n",
    "    \"14114\",\n",
    "    \"14115\",\n",
    "    \"14116\",\n",
    "    \"14117\",\n",
    "    \"14118\"\n",
    "]"
   ],
   "metadata": {
    "collapsed": false,
    "ExecuteTime": {
     "end_time": "2024-10-29T07:48:21.038657500Z",
     "start_time": "2024-10-29T07:48:20.998620800Z"
    }
   },
   "id": "fa1881c41aff706a"
  },
  {
   "cell_type": "code",
   "execution_count": 50,
   "outputs": [],
   "source": [
    "dirs = []\n",
    "for dir in glob.glob(\"Z:/lab/accessibility/基本単位区/*.csv\"):\n",
    "    if os.path.basename(dir).split(\".\")[0] in target_jcodes:\n",
    "        dirs.append(dir)\n",
    "dfs = []\n",
    "for path in dirs:\n",
    "    dfs.append(pd.read_csv(path,usecols=[\"jcode\",\"jinko\",\"latitude\",\"longitude\"]))\n",
    "df_pop = pd.concat(dfs,axis=0)"
   ],
   "metadata": {
    "collapsed": false,
    "ExecuteTime": {
     "end_time": "2024-10-29T08:26:41.071539700Z",
     "start_time": "2024-10-29T08:26:39.977955400Z"
    }
   },
   "id": "e71f421168d580cc"
  },
  {
   "cell_type": "code",
   "execution_count": 32,
   "outputs": [
    {
     "data": {
      "text/plain": "'01101.csv'"
     },
     "execution_count": 32,
     "metadata": {},
     "output_type": "execute_result"
    }
   ],
   "source": [],
   "metadata": {
    "collapsed": false,
    "ExecuteTime": {
     "end_time": "2024-10-29T07:49:29.282245500Z",
     "start_time": "2024-10-29T07:49:29.237089800Z"
    }
   },
   "id": "568f8c72af789c73"
  },
  {
   "cell_type": "code",
   "execution_count": 58,
   "outputs": [],
   "source": [
    "conn = sqlite3.connect(\"./tile.db\")\n",
    "cursor = conn.cursor()\n",
    "# cursor.execute(\"\"\"\n",
    "#     SELECT * FROM tile\n",
    "# \"\"\")\n",
    "# for r in cursor.fetchall():\n",
    "#     print(r)\n",
    "df_tile = pd.read_sql(\"SELECT * FROM tile\", conn)\n",
    "conn.close()"
   ],
   "metadata": {
    "collapsed": false,
    "ExecuteTime": {
     "end_time": "2024-10-29T08:47:17.172356600Z",
     "start_time": "2024-10-29T08:47:17.154172400Z"
    }
   },
   "id": "577e196173661b93"
  },
  {
   "cell_type": "code",
   "execution_count": 59,
   "outputs": [
    {
     "data": {
      "text/plain": "    zoom       x      y  x_rel  y_rel  \\\n0     17  116357  51727      0      0   \n1     17  116357  51728      0      1   \n2     17  116357  51729      0      2   \n3     17  116357  51730      0      3   \n4     17  116357  51731      0      4   \n..   ...     ...    ...    ...    ...   \n95    17  116366  51732      9      5   \n96    17  116366  51733      9      6   \n97    17  116366  51734      9      7   \n98    17  116366  51735      9      8   \n99    17  116366  51736      9      9   \n\n                                             geometry  label  \n0   POLYGON ((139.584045 35.427106, 139.586792 35....      0  \n1   POLYGON ((139.584045 35.424868, 139.586792 35....      0  \n2   POLYGON ((139.584045 35.42263, 139.586792 35.4...      0  \n3   POLYGON ((139.584045 35.420392, 139.586792 35....      0  \n4   POLYGON ((139.584045 35.418153, 139.586792 35....      0  \n..                                                ...    ...  \n95  POLYGON ((139.608765 35.415915, 139.611511 35....      0  \n96  POLYGON ((139.608765 35.413677, 139.611511 35....      0  \n97  POLYGON ((139.608765 35.411438, 139.611511 35....      0  \n98  POLYGON ((139.608765 35.4092, 139.611511 35.40...      0  \n99  POLYGON ((139.608765 35.406961, 139.611511 35....      0  \n\n[100 rows x 7 columns]",
      "text/html": "<div>\n<style scoped>\n    .dataframe tbody tr th:only-of-type {\n        vertical-align: middle;\n    }\n\n    .dataframe tbody tr th {\n        vertical-align: top;\n    }\n\n    .dataframe thead th {\n        text-align: right;\n    }\n</style>\n<table border=\"1\" class=\"dataframe\">\n  <thead>\n    <tr style=\"text-align: right;\">\n      <th></th>\n      <th>zoom</th>\n      <th>x</th>\n      <th>y</th>\n      <th>x_rel</th>\n      <th>y_rel</th>\n      <th>geometry</th>\n      <th>label</th>\n    </tr>\n  </thead>\n  <tbody>\n    <tr>\n      <th>0</th>\n      <td>17</td>\n      <td>116357</td>\n      <td>51727</td>\n      <td>0</td>\n      <td>0</td>\n      <td>POLYGON ((139.584045 35.427106, 139.586792 35....</td>\n      <td>0</td>\n    </tr>\n    <tr>\n      <th>1</th>\n      <td>17</td>\n      <td>116357</td>\n      <td>51728</td>\n      <td>0</td>\n      <td>1</td>\n      <td>POLYGON ((139.584045 35.424868, 139.586792 35....</td>\n      <td>0</td>\n    </tr>\n    <tr>\n      <th>2</th>\n      <td>17</td>\n      <td>116357</td>\n      <td>51729</td>\n      <td>0</td>\n      <td>2</td>\n      <td>POLYGON ((139.584045 35.42263, 139.586792 35.4...</td>\n      <td>0</td>\n    </tr>\n    <tr>\n      <th>3</th>\n      <td>17</td>\n      <td>116357</td>\n      <td>51730</td>\n      <td>0</td>\n      <td>3</td>\n      <td>POLYGON ((139.584045 35.420392, 139.586792 35....</td>\n      <td>0</td>\n    </tr>\n    <tr>\n      <th>4</th>\n      <td>17</td>\n      <td>116357</td>\n      <td>51731</td>\n      <td>0</td>\n      <td>4</td>\n      <td>POLYGON ((139.584045 35.418153, 139.586792 35....</td>\n      <td>0</td>\n    </tr>\n    <tr>\n      <th>...</th>\n      <td>...</td>\n      <td>...</td>\n      <td>...</td>\n      <td>...</td>\n      <td>...</td>\n      <td>...</td>\n      <td>...</td>\n    </tr>\n    <tr>\n      <th>95</th>\n      <td>17</td>\n      <td>116366</td>\n      <td>51732</td>\n      <td>9</td>\n      <td>5</td>\n      <td>POLYGON ((139.608765 35.415915, 139.611511 35....</td>\n      <td>0</td>\n    </tr>\n    <tr>\n      <th>96</th>\n      <td>17</td>\n      <td>116366</td>\n      <td>51733</td>\n      <td>9</td>\n      <td>6</td>\n      <td>POLYGON ((139.608765 35.413677, 139.611511 35....</td>\n      <td>0</td>\n    </tr>\n    <tr>\n      <th>97</th>\n      <td>17</td>\n      <td>116366</td>\n      <td>51734</td>\n      <td>9</td>\n      <td>7</td>\n      <td>POLYGON ((139.608765 35.411438, 139.611511 35....</td>\n      <td>0</td>\n    </tr>\n    <tr>\n      <th>98</th>\n      <td>17</td>\n      <td>116366</td>\n      <td>51735</td>\n      <td>9</td>\n      <td>8</td>\n      <td>POLYGON ((139.608765 35.4092, 139.611511 35.40...</td>\n      <td>0</td>\n    </tr>\n    <tr>\n      <th>99</th>\n      <td>17</td>\n      <td>116366</td>\n      <td>51736</td>\n      <td>9</td>\n      <td>9</td>\n      <td>POLYGON ((139.608765 35.406961, 139.611511 35....</td>\n      <td>0</td>\n    </tr>\n  </tbody>\n</table>\n<p>100 rows × 7 columns</p>\n</div>"
     },
     "execution_count": 59,
     "metadata": {},
     "output_type": "execute_result"
    }
   ],
   "source": [
    "df_tile"
   ],
   "metadata": {
    "collapsed": false,
    "ExecuteTime": {
     "end_time": "2024-10-29T08:47:17.629528500Z",
     "start_time": "2024-10-29T08:47:17.611568300Z"
    }
   },
   "id": "156b53b0b5958a9f"
  },
  {
   "cell_type": "code",
   "execution_count": 60,
   "outputs": [
    {
     "name": "stderr",
     "output_type": "stream",
     "text": [
      "C:\\Users\\tora2\\AppData\\Local\\Temp\\ipykernel_4560\\2624089633.py:5: UserWarning: CRS mismatch between the CRS of left geometries and the CRS of right geometries.\n",
      "Use `to_crs()` to reproject one of the input geometries to match the CRS of the other.\n",
      "\n",
      "Left CRS: EPSG:6668\n",
      "Right CRS: None\n",
      "\n",
      "  gpd.sjoin(gdf_pop,gdf_tile,predicate=\"intersects\")\n"
     ]
    },
    {
     "data": {
      "text/plain": "      jcode  jinko   latitude   longitude                    geometry  \\\n644   14105    116  35.427063  139.610087  POINT (139.61009 35.42706)   \n645   14105     87  35.426660  139.611444  POINT (139.61144 35.42666)   \n664   14105     80  35.426303  139.611448   POINT (139.61145 35.4263)   \n665   14105     44  35.425426  139.611257  POINT (139.61126 35.42543)   \n666   14105     36  35.425651  139.610368  POINT (139.61037 35.42565)   \n...     ...    ...        ...         ...                         ...   \n3327  14111    155  35.405733  139.588956  POINT (139.58896 35.40573)   \n3328  14111     32  35.405025  139.588659  POINT (139.58866 35.40502)   \n3329  14111     14  35.404790  139.588882  POINT (139.58888 35.40479)   \n3331  14111    109  35.404923  139.589786  POINT (139.58979 35.40492)   \n3332  14111     84  35.405202  139.589406   POINT (139.58941 35.4052)   \n\n      index_right  zoom       x      y  x_rel  y_rel  label  \n644            90    17  116366  51727      9      0      0  \n645            90    17  116366  51727      9      0      0  \n664            90    17  116366  51727      9      0      0  \n665            90    17  116366  51727      9      0      0  \n666            90    17  116366  51727      9      0      0  \n...           ...   ...     ...    ...    ...    ...    ...  \n3327           19    17  116358  51736      1      9      0  \n3328           19    17  116358  51736      1      9      0  \n3329           19    17  116358  51736      1      9      0  \n3331           29    17  116359  51736      2      9      0  \n3332           19    17  116358  51736      1      9      0  \n\n[1202 rows x 12 columns]",
      "text/html": "<div>\n<style scoped>\n    .dataframe tbody tr th:only-of-type {\n        vertical-align: middle;\n    }\n\n    .dataframe tbody tr th {\n        vertical-align: top;\n    }\n\n    .dataframe thead th {\n        text-align: right;\n    }\n</style>\n<table border=\"1\" class=\"dataframe\">\n  <thead>\n    <tr style=\"text-align: right;\">\n      <th></th>\n      <th>jcode</th>\n      <th>jinko</th>\n      <th>latitude</th>\n      <th>longitude</th>\n      <th>geometry</th>\n      <th>index_right</th>\n      <th>zoom</th>\n      <th>x</th>\n      <th>y</th>\n      <th>x_rel</th>\n      <th>y_rel</th>\n      <th>label</th>\n    </tr>\n  </thead>\n  <tbody>\n    <tr>\n      <th>644</th>\n      <td>14105</td>\n      <td>116</td>\n      <td>35.427063</td>\n      <td>139.610087</td>\n      <td>POINT (139.61009 35.42706)</td>\n      <td>90</td>\n      <td>17</td>\n      <td>116366</td>\n      <td>51727</td>\n      <td>9</td>\n      <td>0</td>\n      <td>0</td>\n    </tr>\n    <tr>\n      <th>645</th>\n      <td>14105</td>\n      <td>87</td>\n      <td>35.426660</td>\n      <td>139.611444</td>\n      <td>POINT (139.61144 35.42666)</td>\n      <td>90</td>\n      <td>17</td>\n      <td>116366</td>\n      <td>51727</td>\n      <td>9</td>\n      <td>0</td>\n      <td>0</td>\n    </tr>\n    <tr>\n      <th>664</th>\n      <td>14105</td>\n      <td>80</td>\n      <td>35.426303</td>\n      <td>139.611448</td>\n      <td>POINT (139.61145 35.4263)</td>\n      <td>90</td>\n      <td>17</td>\n      <td>116366</td>\n      <td>51727</td>\n      <td>9</td>\n      <td>0</td>\n      <td>0</td>\n    </tr>\n    <tr>\n      <th>665</th>\n      <td>14105</td>\n      <td>44</td>\n      <td>35.425426</td>\n      <td>139.611257</td>\n      <td>POINT (139.61126 35.42543)</td>\n      <td>90</td>\n      <td>17</td>\n      <td>116366</td>\n      <td>51727</td>\n      <td>9</td>\n      <td>0</td>\n      <td>0</td>\n    </tr>\n    <tr>\n      <th>666</th>\n      <td>14105</td>\n      <td>36</td>\n      <td>35.425651</td>\n      <td>139.610368</td>\n      <td>POINT (139.61037 35.42565)</td>\n      <td>90</td>\n      <td>17</td>\n      <td>116366</td>\n      <td>51727</td>\n      <td>9</td>\n      <td>0</td>\n      <td>0</td>\n    </tr>\n    <tr>\n      <th>...</th>\n      <td>...</td>\n      <td>...</td>\n      <td>...</td>\n      <td>...</td>\n      <td>...</td>\n      <td>...</td>\n      <td>...</td>\n      <td>...</td>\n      <td>...</td>\n      <td>...</td>\n      <td>...</td>\n      <td>...</td>\n    </tr>\n    <tr>\n      <th>3327</th>\n      <td>14111</td>\n      <td>155</td>\n      <td>35.405733</td>\n      <td>139.588956</td>\n      <td>POINT (139.58896 35.40573)</td>\n      <td>19</td>\n      <td>17</td>\n      <td>116358</td>\n      <td>51736</td>\n      <td>1</td>\n      <td>9</td>\n      <td>0</td>\n    </tr>\n    <tr>\n      <th>3328</th>\n      <td>14111</td>\n      <td>32</td>\n      <td>35.405025</td>\n      <td>139.588659</td>\n      <td>POINT (139.58866 35.40502)</td>\n      <td>19</td>\n      <td>17</td>\n      <td>116358</td>\n      <td>51736</td>\n      <td>1</td>\n      <td>9</td>\n      <td>0</td>\n    </tr>\n    <tr>\n      <th>3329</th>\n      <td>14111</td>\n      <td>14</td>\n      <td>35.404790</td>\n      <td>139.588882</td>\n      <td>POINT (139.58888 35.40479)</td>\n      <td>19</td>\n      <td>17</td>\n      <td>116358</td>\n      <td>51736</td>\n      <td>1</td>\n      <td>9</td>\n      <td>0</td>\n    </tr>\n    <tr>\n      <th>3331</th>\n      <td>14111</td>\n      <td>109</td>\n      <td>35.404923</td>\n      <td>139.589786</td>\n      <td>POINT (139.58979 35.40492)</td>\n      <td>29</td>\n      <td>17</td>\n      <td>116359</td>\n      <td>51736</td>\n      <td>2</td>\n      <td>9</td>\n      <td>0</td>\n    </tr>\n    <tr>\n      <th>3332</th>\n      <td>14111</td>\n      <td>84</td>\n      <td>35.405202</td>\n      <td>139.589406</td>\n      <td>POINT (139.58941 35.4052)</td>\n      <td>19</td>\n      <td>17</td>\n      <td>116358</td>\n      <td>51736</td>\n      <td>1</td>\n      <td>9</td>\n      <td>0</td>\n    </tr>\n  </tbody>\n</table>\n<p>1202 rows × 12 columns</p>\n</div>"
     },
     "execution_count": 60,
     "metadata": {},
     "output_type": "execute_result"
    }
   ],
   "source": [
    "# tileで基本単位区からclip\n",
    "gdf_pop = latlonTable2GDF(df_pop,\"latitude\",\"longitude\")\n",
    "df_tile['geometry'] = df_tile['geometry'].apply(wkt.loads)\n",
    "gdf_tile = gpd.GeoDataFrame(df_tile,geometry=\"geometry\")\n",
    "gpd.sjoin(gdf_pop,gdf_tile,predicate=\"intersects\")"
   ],
   "metadata": {
    "collapsed": false,
    "ExecuteTime": {
     "end_time": "2024-10-29T08:47:18.642189400Z",
     "start_time": "2024-10-29T08:47:18.578589400Z"
    }
   },
   "id": "c85a4b29af763598"
  },
  {
   "cell_type": "code",
   "execution_count": 55,
   "outputs": [
    {
     "data": {
      "text/plain": "      jcode  jinko   latitude   longitude                    geometry\n0     14101     66  35.509479  139.681196   POINT (139.6812 35.50948)\n1     14101    108  35.509366  139.680832  POINT (139.68083 35.50937)\n2     14101    105  35.509113  139.681050  POINT (139.68105 35.50911)\n3     14101    122  35.509112  139.681781  POINT (139.68178 35.50911)\n4     14101    104  35.509611  139.680961  POINT (139.68096 35.50961)\n...     ...    ...        ...         ...                         ...\n3278  14118      8  35.533873  139.583445  POINT (139.58344 35.53387)\n3279  14118     34  35.559950  139.591413  POINT (139.59141 35.55995)\n3280  14118     69  35.552902  139.610380   POINT (139.61038 35.5529)\n3281  14118     34  35.520656  139.557058  POINT (139.55706 35.52066)\n3282  14118     55  35.520488  139.556633  POINT (139.55663 35.52049)\n\n[53497 rows x 5 columns]",
      "text/html": "<div>\n<style scoped>\n    .dataframe tbody tr th:only-of-type {\n        vertical-align: middle;\n    }\n\n    .dataframe tbody tr th {\n        vertical-align: top;\n    }\n\n    .dataframe thead th {\n        text-align: right;\n    }\n</style>\n<table border=\"1\" class=\"dataframe\">\n  <thead>\n    <tr style=\"text-align: right;\">\n      <th></th>\n      <th>jcode</th>\n      <th>jinko</th>\n      <th>latitude</th>\n      <th>longitude</th>\n      <th>geometry</th>\n    </tr>\n  </thead>\n  <tbody>\n    <tr>\n      <th>0</th>\n      <td>14101</td>\n      <td>66</td>\n      <td>35.509479</td>\n      <td>139.681196</td>\n      <td>POINT (139.6812 35.50948)</td>\n    </tr>\n    <tr>\n      <th>1</th>\n      <td>14101</td>\n      <td>108</td>\n      <td>35.509366</td>\n      <td>139.680832</td>\n      <td>POINT (139.68083 35.50937)</td>\n    </tr>\n    <tr>\n      <th>2</th>\n      <td>14101</td>\n      <td>105</td>\n      <td>35.509113</td>\n      <td>139.681050</td>\n      <td>POINT (139.68105 35.50911)</td>\n    </tr>\n    <tr>\n      <th>3</th>\n      <td>14101</td>\n      <td>122</td>\n      <td>35.509112</td>\n      <td>139.681781</td>\n      <td>POINT (139.68178 35.50911)</td>\n    </tr>\n    <tr>\n      <th>4</th>\n      <td>14101</td>\n      <td>104</td>\n      <td>35.509611</td>\n      <td>139.680961</td>\n      <td>POINT (139.68096 35.50961)</td>\n    </tr>\n    <tr>\n      <th>...</th>\n      <td>...</td>\n      <td>...</td>\n      <td>...</td>\n      <td>...</td>\n      <td>...</td>\n    </tr>\n    <tr>\n      <th>3278</th>\n      <td>14118</td>\n      <td>8</td>\n      <td>35.533873</td>\n      <td>139.583445</td>\n      <td>POINT (139.58344 35.53387)</td>\n    </tr>\n    <tr>\n      <th>3279</th>\n      <td>14118</td>\n      <td>34</td>\n      <td>35.559950</td>\n      <td>139.591413</td>\n      <td>POINT (139.59141 35.55995)</td>\n    </tr>\n    <tr>\n      <th>3280</th>\n      <td>14118</td>\n      <td>69</td>\n      <td>35.552902</td>\n      <td>139.610380</td>\n      <td>POINT (139.61038 35.5529)</td>\n    </tr>\n    <tr>\n      <th>3281</th>\n      <td>14118</td>\n      <td>34</td>\n      <td>35.520656</td>\n      <td>139.557058</td>\n      <td>POINT (139.55706 35.52066)</td>\n    </tr>\n    <tr>\n      <th>3282</th>\n      <td>14118</td>\n      <td>55</td>\n      <td>35.520488</td>\n      <td>139.556633</td>\n      <td>POINT (139.55663 35.52049)</td>\n    </tr>\n  </tbody>\n</table>\n<p>53497 rows × 5 columns</p>\n</div>"
     },
     "execution_count": 55,
     "metadata": {},
     "output_type": "execute_result"
    }
   ],
   "source": [
    "gdf_pop"
   ],
   "metadata": {
    "collapsed": false,
    "ExecuteTime": {
     "end_time": "2024-10-29T08:38:51.540663200Z",
     "start_time": "2024-10-29T08:38:51.481547200Z"
    }
   },
   "id": "4b5085c4e46b70a9"
  },
  {
   "cell_type": "code",
   "execution_count": 56,
   "outputs": [
    {
     "data": {
      "text/plain": "    zoom       x      y  x_rel  y_rel  \\\n0     17  116357  51727      0      0   \n1     17  116357  51728      0      1   \n2     17  116357  51729      0      2   \n3     17  116357  51730      0      3   \n4     17  116357  51731      0      4   \n..   ...     ...    ...    ...    ...   \n95    17  116366  51732      9      5   \n96    17  116366  51733      9      6   \n97    17  116366  51734      9      7   \n98    17  116366  51735      9      8   \n99    17  116366  51736      9      9   \n\n                                             geometry  label  \n0   POLYGON ((139.58404 35.42711, 139.58679 35.427...      0  \n1   POLYGON ((139.58404 35.42487, 139.58679 35.424...      0  \n2   POLYGON ((139.58404 35.42263, 139.58679 35.422...      0  \n3   POLYGON ((139.58404 35.42039, 139.58679 35.420...      0  \n4   POLYGON ((139.58404 35.41815, 139.58679 35.418...      0  \n..                                                ...    ...  \n95  POLYGON ((139.60876 35.41592, 139.61151 35.415...      0  \n96  POLYGON ((139.60876 35.41368, 139.61151 35.413...      0  \n97  POLYGON ((139.60876 35.41144, 139.61151 35.411...      0  \n98  POLYGON ((139.60876 35.4092, 139.61151 35.4092...      0  \n99  POLYGON ((139.60876 35.40696, 139.61151 35.406...      0  \n\n[100 rows x 7 columns]",
      "text/html": "<div>\n<style scoped>\n    .dataframe tbody tr th:only-of-type {\n        vertical-align: middle;\n    }\n\n    .dataframe tbody tr th {\n        vertical-align: top;\n    }\n\n    .dataframe thead th {\n        text-align: right;\n    }\n</style>\n<table border=\"1\" class=\"dataframe\">\n  <thead>\n    <tr style=\"text-align: right;\">\n      <th></th>\n      <th>zoom</th>\n      <th>x</th>\n      <th>y</th>\n      <th>x_rel</th>\n      <th>y_rel</th>\n      <th>geometry</th>\n      <th>label</th>\n    </tr>\n  </thead>\n  <tbody>\n    <tr>\n      <th>0</th>\n      <td>17</td>\n      <td>116357</td>\n      <td>51727</td>\n      <td>0</td>\n      <td>0</td>\n      <td>POLYGON ((139.58404 35.42711, 139.58679 35.427...</td>\n      <td>0</td>\n    </tr>\n    <tr>\n      <th>1</th>\n      <td>17</td>\n      <td>116357</td>\n      <td>51728</td>\n      <td>0</td>\n      <td>1</td>\n      <td>POLYGON ((139.58404 35.42487, 139.58679 35.424...</td>\n      <td>0</td>\n    </tr>\n    <tr>\n      <th>2</th>\n      <td>17</td>\n      <td>116357</td>\n      <td>51729</td>\n      <td>0</td>\n      <td>2</td>\n      <td>POLYGON ((139.58404 35.42263, 139.58679 35.422...</td>\n      <td>0</td>\n    </tr>\n    <tr>\n      <th>3</th>\n      <td>17</td>\n      <td>116357</td>\n      <td>51730</td>\n      <td>0</td>\n      <td>3</td>\n      <td>POLYGON ((139.58404 35.42039, 139.58679 35.420...</td>\n      <td>0</td>\n    </tr>\n    <tr>\n      <th>4</th>\n      <td>17</td>\n      <td>116357</td>\n      <td>51731</td>\n      <td>0</td>\n      <td>4</td>\n      <td>POLYGON ((139.58404 35.41815, 139.58679 35.418...</td>\n      <td>0</td>\n    </tr>\n    <tr>\n      <th>...</th>\n      <td>...</td>\n      <td>...</td>\n      <td>...</td>\n      <td>...</td>\n      <td>...</td>\n      <td>...</td>\n      <td>...</td>\n    </tr>\n    <tr>\n      <th>95</th>\n      <td>17</td>\n      <td>116366</td>\n      <td>51732</td>\n      <td>9</td>\n      <td>5</td>\n      <td>POLYGON ((139.60876 35.41592, 139.61151 35.415...</td>\n      <td>0</td>\n    </tr>\n    <tr>\n      <th>96</th>\n      <td>17</td>\n      <td>116366</td>\n      <td>51733</td>\n      <td>9</td>\n      <td>6</td>\n      <td>POLYGON ((139.60876 35.41368, 139.61151 35.413...</td>\n      <td>0</td>\n    </tr>\n    <tr>\n      <th>97</th>\n      <td>17</td>\n      <td>116366</td>\n      <td>51734</td>\n      <td>9</td>\n      <td>7</td>\n      <td>POLYGON ((139.60876 35.41144, 139.61151 35.411...</td>\n      <td>0</td>\n    </tr>\n    <tr>\n      <th>98</th>\n      <td>17</td>\n      <td>116366</td>\n      <td>51735</td>\n      <td>9</td>\n      <td>8</td>\n      <td>POLYGON ((139.60876 35.4092, 139.61151 35.4092...</td>\n      <td>0</td>\n    </tr>\n    <tr>\n      <th>99</th>\n      <td>17</td>\n      <td>116366</td>\n      <td>51736</td>\n      <td>9</td>\n      <td>9</td>\n      <td>POLYGON ((139.60876 35.40696, 139.61151 35.406...</td>\n      <td>0</td>\n    </tr>\n  </tbody>\n</table>\n<p>100 rows × 7 columns</p>\n</div>"
     },
     "execution_count": 56,
     "metadata": {},
     "output_type": "execute_result"
    }
   ],
   "source": [
    "gdf_tile"
   ],
   "metadata": {
    "collapsed": false,
    "ExecuteTime": {
     "end_time": "2024-10-29T08:39:01.370267100Z",
     "start_time": "2024-10-29T08:39:01.313746600Z"
    }
   },
   "id": "d9a7fcf1673b71f8"
  },
  {
   "cell_type": "code",
   "execution_count": 61,
   "outputs": [
    {
     "ename": "ImportError",
     "evalue": "The matplotlib package is required for plotting in geopandas. You can install it using 'conda install -c conda-forge matplotlib' or 'pip install matplotlib'.",
     "output_type": "error",
     "traceback": [
      "\u001B[1;31m---------------------------------------------------------------------------\u001B[0m",
      "\u001B[1;31mModuleNotFoundError\u001B[0m                       Traceback (most recent call last)",
      "File \u001B[1;32m~\\AppData\\Local\\pypoetry\\Cache\\virtualenvs\\cityscope-_uBGoIca-py3.12\\Lib\\site-packages\\geopandas\\plotting.py:647\u001B[0m, in \u001B[0;36mplot_dataframe\u001B[1;34m(df, column, cmap, color, ax, cax, categorical, legend, scheme, k, vmin, vmax, markersize, figsize, legend_kwds, categories, classification_kwds, missing_kwds, aspect, autolim, **style_kwds)\u001B[0m\n\u001B[0;32m    646\u001B[0m \u001B[38;5;28;01mtry\u001B[39;00m:\n\u001B[1;32m--> 647\u001B[0m     \u001B[38;5;28;01mimport\u001B[39;00m \u001B[38;5;21;01mmatplotlib\u001B[39;00m\u001B[38;5;21;01m.\u001B[39;00m\u001B[38;5;21;01mpyplot\u001B[39;00m \u001B[38;5;28;01mas\u001B[39;00m \u001B[38;5;21;01mplt\u001B[39;00m\n\u001B[0;32m    648\u001B[0m \u001B[38;5;28;01mexcept\u001B[39;00m \u001B[38;5;167;01mImportError\u001B[39;00m:\n",
      "\u001B[1;31mModuleNotFoundError\u001B[0m: No module named 'matplotlib'",
      "\nDuring handling of the above exception, another exception occurred:\n",
      "\u001B[1;31mImportError\u001B[0m                               Traceback (most recent call last)",
      "Cell \u001B[1;32mIn[61], line 1\u001B[0m\n\u001B[1;32m----> 1\u001B[0m \u001B[43mgdf_tile\u001B[49m\u001B[38;5;241;43m.\u001B[39;49m\u001B[43mplot\u001B[49m\u001B[43m(\u001B[49m\u001B[43m)\u001B[49m\n",
      "File \u001B[1;32m~\\AppData\\Local\\pypoetry\\Cache\\virtualenvs\\cityscope-_uBGoIca-py3.12\\Lib\\site-packages\\geopandas\\plotting.py:968\u001B[0m, in \u001B[0;36mGeoplotAccessor.__call__\u001B[1;34m(self, *args, **kwargs)\u001B[0m\n\u001B[0;32m    966\u001B[0m kind \u001B[38;5;241m=\u001B[39m kwargs\u001B[38;5;241m.\u001B[39mpop(\u001B[38;5;124m\"\u001B[39m\u001B[38;5;124mkind\u001B[39m\u001B[38;5;124m\"\u001B[39m, \u001B[38;5;124m\"\u001B[39m\u001B[38;5;124mgeo\u001B[39m\u001B[38;5;124m\"\u001B[39m)\n\u001B[0;32m    967\u001B[0m \u001B[38;5;28;01mif\u001B[39;00m kind \u001B[38;5;241m==\u001B[39m \u001B[38;5;124m\"\u001B[39m\u001B[38;5;124mgeo\u001B[39m\u001B[38;5;124m\"\u001B[39m:\n\u001B[1;32m--> 968\u001B[0m     \u001B[38;5;28;01mreturn\u001B[39;00m \u001B[43mplot_dataframe\u001B[49m\u001B[43m(\u001B[49m\u001B[43mdata\u001B[49m\u001B[43m,\u001B[49m\u001B[43m \u001B[49m\u001B[38;5;241;43m*\u001B[39;49m\u001B[43margs\u001B[49m\u001B[43m,\u001B[49m\u001B[43m \u001B[49m\u001B[38;5;241;43m*\u001B[39;49m\u001B[38;5;241;43m*\u001B[39;49m\u001B[43mkwargs\u001B[49m\u001B[43m)\u001B[49m\n\u001B[0;32m    969\u001B[0m \u001B[38;5;28;01mif\u001B[39;00m kind \u001B[38;5;129;01min\u001B[39;00m \u001B[38;5;28mself\u001B[39m\u001B[38;5;241m.\u001B[39m_pandas_kinds:\n\u001B[0;32m    970\u001B[0m     \u001B[38;5;66;03m# Access pandas plots\u001B[39;00m\n\u001B[0;32m    971\u001B[0m     \u001B[38;5;28;01mreturn\u001B[39;00m PlotAccessor(data)(kind\u001B[38;5;241m=\u001B[39mkind, \u001B[38;5;241m*\u001B[39m\u001B[38;5;241m*\u001B[39mkwargs)\n",
      "File \u001B[1;32m~\\AppData\\Local\\pypoetry\\Cache\\virtualenvs\\cityscope-_uBGoIca-py3.12\\Lib\\site-packages\\geopandas\\plotting.py:649\u001B[0m, in \u001B[0;36mplot_dataframe\u001B[1;34m(df, column, cmap, color, ax, cax, categorical, legend, scheme, k, vmin, vmax, markersize, figsize, legend_kwds, categories, classification_kwds, missing_kwds, aspect, autolim, **style_kwds)\u001B[0m\n\u001B[0;32m    647\u001B[0m     \u001B[38;5;28;01mimport\u001B[39;00m \u001B[38;5;21;01mmatplotlib\u001B[39;00m\u001B[38;5;21;01m.\u001B[39;00m\u001B[38;5;21;01mpyplot\u001B[39;00m \u001B[38;5;28;01mas\u001B[39;00m \u001B[38;5;21;01mplt\u001B[39;00m\n\u001B[0;32m    648\u001B[0m \u001B[38;5;28;01mexcept\u001B[39;00m \u001B[38;5;167;01mImportError\u001B[39;00m:\n\u001B[1;32m--> 649\u001B[0m     \u001B[38;5;28;01mraise\u001B[39;00m \u001B[38;5;167;01mImportError\u001B[39;00m(\n\u001B[0;32m    650\u001B[0m         \u001B[38;5;124m\"\u001B[39m\u001B[38;5;124mThe matplotlib package is required for plotting in geopandas. \u001B[39m\u001B[38;5;124m\"\u001B[39m\n\u001B[0;32m    651\u001B[0m         \u001B[38;5;124m\"\u001B[39m\u001B[38;5;124mYou can install it using \u001B[39m\u001B[38;5;124m'\u001B[39m\u001B[38;5;124mconda install -c conda-forge matplotlib\u001B[39m\u001B[38;5;124m'\u001B[39m\u001B[38;5;124m or \u001B[39m\u001B[38;5;124m\"\u001B[39m\n\u001B[0;32m    652\u001B[0m         \u001B[38;5;124m\"\u001B[39m\u001B[38;5;124m'\u001B[39m\u001B[38;5;124mpip install matplotlib\u001B[39m\u001B[38;5;124m'\u001B[39m\u001B[38;5;124m.\u001B[39m\u001B[38;5;124m\"\u001B[39m\n\u001B[0;32m    653\u001B[0m     )\n\u001B[0;32m    655\u001B[0m \u001B[38;5;28;01mif\u001B[39;00m ax \u001B[38;5;129;01mis\u001B[39;00m \u001B[38;5;28;01mNone\u001B[39;00m:\n\u001B[0;32m    656\u001B[0m     \u001B[38;5;28;01mif\u001B[39;00m cax \u001B[38;5;129;01mis\u001B[39;00m \u001B[38;5;129;01mnot\u001B[39;00m \u001B[38;5;28;01mNone\u001B[39;00m:\n",
      "\u001B[1;31mImportError\u001B[0m: The matplotlib package is required for plotting in geopandas. You can install it using 'conda install -c conda-forge matplotlib' or 'pip install matplotlib'."
     ]
    }
   ],
   "source": [],
   "metadata": {
    "collapsed": false,
    "ExecuteTime": {
     "end_time": "2024-10-29T08:47:39.791033600Z",
     "start_time": "2024-10-29T08:47:39.672030400Z"
    }
   },
   "id": "8f0ea2857aa5377f"
  },
  {
   "cell_type": "code",
   "execution_count": null,
   "outputs": [],
   "source": [
    "# foliumマップの作成\n",
    "m = folium.Map(location=[35.427106, 139.584045], zoom_start=13)\n",
    "\n",
    "# GeoDataFrameをGeoJsonとして追加\n",
    "folium.GeoJson(\n",
    "    gdf,\n",
    "    name='geojson',\n",
    "    style_function=lambda x: {\n",
    "        'color': 'blue',\n",
    "        'weight': 2,\n",
    "        'fillColor': 'cyan',\n",
    "        'fillOpacity': 0.3\n",
    "    }\n",
    ").add_to(m)\n",
    "\n",
    "# マップの表示\n",
    "m"
   ],
   "metadata": {
    "collapsed": false
   },
   "id": "f1d17916d6fb61b3"
  }
 ],
 "metadata": {
  "kernelspec": {
   "display_name": "Python 3",
   "language": "python",
   "name": "python3"
  },
  "language_info": {
   "codemirror_mode": {
    "name": "ipython",
    "version": 2
   },
   "file_extension": ".py",
   "mimetype": "text/x-python",
   "name": "python",
   "nbconvert_exporter": "python",
   "pygments_lexer": "ipython2",
   "version": "2.7.6"
  }
 },
 "nbformat": 4,
 "nbformat_minor": 5
}
