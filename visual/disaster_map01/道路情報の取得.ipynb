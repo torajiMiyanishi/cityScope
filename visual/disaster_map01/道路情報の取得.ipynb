{
 "cells": [
  {
   "cell_type": "code",
   "execution_count": 5,
   "outputs": [],
   "source": [
    "import folium\n",
    "import requests\n",
    "import json\n",
    "import math\n",
    "import time\n",
    "from PIL import Image\n",
    "from io import BytesIO"
   ],
   "metadata": {
    "collapsed": false,
    "ExecuteTime": {
     "end_time": "2024-10-29T04:26:56.244923600Z",
     "start_time": "2024-10-29T04:26:56.222697900Z"
    }
   },
   "id": "61ff0a42f3e0057e"
  },
  {
   "cell_type": "code",
   "execution_count": 6,
   "outputs": [],
   "source": [
    "def get_json_data(url):\n",
    "    # JSONデータの取得\n",
    "    response = requests.get(url)\n",
    "    if response.status_code == 200:\n",
    "        return response.json()\n",
    "    else:\n",
    "        print(f\"Failed to get data from {url}: {response.status_code}\")\n",
    "        return None"
   ],
   "metadata": {
    "collapsed": false,
    "ExecuteTime": {
     "end_time": "2024-10-29T04:27:28.405573100Z",
     "start_time": "2024-10-29T04:27:28.391750Z"
    }
   },
   "id": "c4ab285e7b2dd028"
  },
  {
   "cell_type": "code",
   "execution_count": 7,
   "id": "initial_id",
   "metadata": {
    "collapsed": true,
    "ExecuteTime": {
     "end_time": "2024-10-29T04:27:45.226229300Z",
     "start_time": "2024-10-29T04:27:45.141746900Z"
    }
   },
   "outputs": [],
   "source": [
    "# 最新情報の取得\n",
    "target_url = \"https://www.jartic.or.jp/d/traffic_info/r1/target.json\"\n",
    "target_data = get_json_data(target_url)"
   ]
  },
  {
   "cell_type": "code",
   "execution_count": 8,
   "outputs": [
    {
     "data": {
      "text/plain": "{'target': '202410291322'}"
     },
     "execution_count": 8,
     "metadata": {},
     "output_type": "execute_result"
    }
   ],
   "source": [
    "target_data"
   ],
   "metadata": {
    "collapsed": false,
    "ExecuteTime": {
     "end_time": "2024-10-29T04:27:48.511786500Z",
     "start_time": "2024-10-29T04:27:48.476689700Z"
    }
   },
   "id": "f5147afaf20d9082"
  },
  {
   "cell_type": "code",
   "execution_count": 51,
   "outputs": [],
   "source": [
    " # 各交通情報の取得\n",
    "target = target_data.get(\"target\", \"\")\n",
    "infos = [\"R13\", \"C01\", \"A03\"]\n",
    "for route in infos:\n",
    "    traffic_url = \"https://www.jartic.or.jp/d/traffic_info/r2/202410291411/d/900/R20.json\"\n",
    "    traffic_data = get_json_data(traffic_url)"
   ],
   "metadata": {
    "collapsed": false,
    "ExecuteTime": {
     "end_time": "2024-10-29T05:30:35.099152700Z",
     "start_time": "2024-10-29T05:30:34.972197200Z"
    }
   },
   "id": "b7ea10119129b624"
  },
  {
   "cell_type": "code",
   "execution_count": 52,
   "outputs": [
    {
     "data": {
      "text/plain": "{'type': 'FeatureCollection',\n 'features': [{'type': 'Feature',\n   'id': 1,\n   'properties': {'ii': '972007000030',\n    'r': '国道１８号',\n    'ad': '長野県北佐久郡軽井沢町大字追分',\n    'ot': '2024年10月29日 13:55',\n    'ci': True,\n    'pi': '972007000030_20241029_1355.jpg',\n    'sn': False,\n    'vs': '軽井沢追分\\u3000上田方向'},\n   'geometry': {'type': 'Point',\n    'crs': {'type': 'name', 'properties': {'name': 'EPSG:4612'}},\n    'coordinates': [138.55578, 36.34239]}},\n  {'type': 'Feature',\n   'id': 2,\n   'properties': {'ii': '972007000010',\n    'r': '国道１８号',\n    'ad': '長野県北佐久郡軽井沢町大字長倉',\n    'ot': '2024年10月29日 14:00',\n    'ci': True,\n    'pi': '972007000010_20241029_1400.jpg',\n    'sn': False,\n    'vs': '軽井沢町長倉\\u3000上田方向'},\n   'geometry': {'type': 'Point',\n    'crs': {'type': 'name', 'properties': {'name': 'EPSG:4612'}},\n    'coordinates': [138.62719, 36.32367]}},\n  {'type': 'Feature',\n   'id': 3,\n   'properties': {'ii': '972004000070',\n    'r': '国道１８号',\n    'ad': '長野県北佐久郡軽井沢町軽井沢',\n    'ot': '2024年10月29日 14:05',\n    'ci': True,\n    'pi': '972004000070_20241029_1405.jpg',\n    'sn': False,\n    'vs': '国道１８号碓氷バイパス軽井沢橋'},\n   'geometry': {'type': 'Point',\n    'crs': {'type': 'name', 'properties': {'name': 'EPSG:4612'}},\n    'coordinates': [138.64833, 36.32556]}},\n  {'type': 'Feature',\n   'id': 4,\n   'properties': {'ii': '972007000330',\n    'r': '国道１９号',\n    'ad': '長野県長野市篠ノ井山布施',\n    'ot': '2024年10月29日 14:00',\n    'ci': True,\n    'pi': '972007000330_20241029_1400.jpg',\n    'sn': False,\n    'vs': '長野市篠ノ井山布施'},\n   'geometry': {'type': 'Point',\n    'crs': {'type': 'name', 'properties': {'name': 'EPSG:4612'}},\n    'coordinates': [138.10508, 36.62133]}},\n  {'type': 'Feature',\n   'id': 5,\n   'properties': {'ii': '974007100170',\n    'r': '国道１９号',\n    'ad': '長野県塩尻市奈良井',\n    'ot': '2024年10月29日 13:57',\n    'ci': True,\n    'pi': '974007100170_20241029_1357.jpg',\n    'sn': False,\n    'vs': '奈良井交差点'},\n   'geometry': {'type': 'Point',\n    'crs': {'type': 'name', 'properties': {'name': 'EPSG:4612'}},\n    'coordinates': [137.80944, 35.96194]}},\n  {'type': 'Feature',\n   'id': 6,\n   'properties': {'ii': '974007100140',\n    'r': '国道１９号',\n    'ad': '長野県木曽郡木祖村薮原',\n    'ot': '2024年10月29日 13:58',\n    'ci': True,\n    'pi': '974007100140_20241029_1358.jpg',\n    'sn': False,\n    'vs': '薮原登坂'},\n   'geometry': {'type': 'Point',\n    'crs': {'type': 'name', 'properties': {'name': 'EPSG:4612'}},\n    'coordinates': [137.78694, 35.93528]}},\n  {'type': 'Feature',\n   'id': 7,\n   'properties': {'ii': '974007100030',\n    'r': '国道１９号',\n    'ad': '長野県木曽郡南木曽町読書',\n    'ot': '2024年10月29日 13:57',\n    'ci': True,\n    'pi': '974007100030_20241029_1357.jpg',\n    'sn': False,\n    'vs': '十二兼登坂'},\n   'geometry': {'type': 'Point',\n    'crs': {'type': 'name', 'properties': {'name': 'EPSG:4612'}},\n    'coordinates': [137.61597, 35.64264]}},\n  {'type': 'Feature',\n   'id': 8,\n   'properties': {'ii': '974007100320',\n    'r': '国道１５３号',\n    'ad': '長野県下伊那郡阿智村智里',\n    'ot': '2024年10月29日 13:57',\n    'ci': True,\n    'pi': '974007100320_20241029_1357.jpg',\n    'sn': False,\n    'vs': 'Ｒ２５６分岐'},\n   'geometry': {'type': 'Point',\n    'crs': {'type': 'name', 'properties': {'name': 'EPSG:4612'}},\n    'coordinates': [137.72417, 35.45222]}},\n  {'type': 'Feature',\n   'id': 9,\n   'properties': {'ii': '972007000380',\n    'r': '国道２０号',\n    'ad': '長野県塩尻市旧塩尻字東山',\n    'ot': '2024年10月29日 14:00',\n    'ci': True,\n    'pi': '972007000380_20241029_1400.jpg',\n    'sn': False,\n    'vs': '塩尻市旧塩尻東山\\u3000旋回'},\n   'geometry': {'type': 'Point',\n    'crs': {'type': 'name', 'properties': {'name': 'EPSG:4612'}},\n    'coordinates': [138.02883, 36.086]}},\n  {'type': 'Feature',\n   'id': 10,\n   'properties': {'ii': '972007000420',\n    'r': '国道２０号',\n    'ad': '長野県諏訪市四賀武津',\n    'ot': '2024年10月29日 14:00',\n    'ci': True,\n    'pi': '972007000420_20241029_1400.jpg',\n    'sn': False,\n    'vs': '諏訪市四賀武津\\u3000松本方向'},\n   'geometry': {'type': 'Point',\n    'crs': {'type': 'name', 'properties': {'name': 'EPSG:4612'}},\n    'coordinates': [138.1255, 36.02975]}},\n  {'type': 'Feature',\n   'id': 11,\n   'properties': {'ii': '920031000100',\n    'r': '国道１４８号',\n    'ad': '大町市平',\n    'ot': '2024年10月29日 13:58',\n    'ci': True,\n    'pi': '920031000100_20241029_1358.jpg',\n    'sn': False,\n    'vs': '簗場'},\n   'geometry': {'type': 'Point',\n    'crs': {'type': 'name', 'properties': {'name': 'EPSG:4612'}},\n    'coordinates': [137.84269, 36.59002]}},\n  {'type': 'Feature',\n   'id': 12,\n   'properties': {'ii': '920030800070',\n    'r': '国道１５８号',\n    'ad': '松本市安曇',\n    'ot': '2024年10月29日 13:56',\n    'ci': True,\n    'pi': '920030800070_20241029_1356.jpg',\n    'sn': False,\n    'vs': '中ノ湯２'},\n   'geometry': {'type': 'Point',\n    'crs': {'type': 'name', 'properties': {'name': 'EPSG:4612'}},\n    'coordinates': [137.6047, 36.20787]}},\n  {'type': 'Feature',\n   'id': 13,\n   'properties': {'ii': '920030100030',\n    'r': '国道１４６号',\n    'ad': '北佐久郡軽井沢町長倉',\n    'ot': '2024年10月29日 13:59',\n    'ci': True,\n    'pi': '920030100030_20241029_1359.jpg',\n    'sn': False,\n    'vs': '峰の茶屋'},\n   'geometry': {'type': 'Point',\n    'crs': {'type': 'name', 'properties': {'name': 'EPSG:4612'}},\n    'coordinates': [138.56944, 36.40488]}},\n  {'type': 'Feature',\n   'id': 14,\n   'properties': {'ii': '920030300020',\n    'r': '国道１５２号',\n    'ad': '小県郡長和町大門',\n    'ot': '2024年10月29日 13:59',\n    'ci': True,\n    'pi': '920030300020_20241029_1359.jpg',\n    'sn': False,\n    'vs': '大門峠'},\n   'geometry': {'type': 'Point',\n    'crs': {'type': 'name', 'properties': {'name': 'EPSG:4612'}},\n    'coordinates': [138.23393, 36.11098]}},\n  {'type': 'Feature',\n   'id': 15,\n   'properties': {'ii': '920030100040',\n    'r': '国道２５４号',\n    'ad': '佐久市内山',\n    'ot': '2024年10月29日 13:59',\n    'ci': True,\n    'pi': '920030100040_20241029_1359.jpg',\n    'sn': False,\n    'vs': '内山トンネル'},\n   'geometry': {'type': 'Point',\n    'crs': {'type': 'name', 'properties': {'name': 'EPSG:4612'}},\n    'coordinates': [138.60806, 36.2136]}},\n  {'type': 'Feature',\n   'id': 16,\n   'properties': {'ii': '920030800140',\n    'r': '国道２５４号',\n    'ad': '上田市西内',\n    'ot': '2024年10月29日 13:56',\n    'ci': True,\n    'pi': '920030800140_20241029_1356.jpg',\n    'sn': False,\n    'vs': '鹿教湯大橋'},\n   'geometry': {'type': 'Point',\n    'crs': {'type': 'name', 'properties': {'name': 'EPSG:4612'}},\n    'coordinates': [138.08417, 36.28979]}},\n  {'type': 'Feature',\n   'id': 17,\n   'properties': {'ii': '920030800110',\n    'r': '国道２５４号',\n    'ad': '松本市三才山',\n    'ot': '2024年10月29日 13:56',\n    'ci': True,\n    'pi': '920030800110_20241029_1356.jpg',\n    'sn': False,\n    'vs': '三才山ＴＮ松本側'},\n   'geometry': {'type': 'Point',\n    'crs': {'type': 'name', 'properties': {'name': 'EPSG:4612'}},\n    'coordinates': [138.05417, 36.28]}},\n  {'type': 'Feature',\n   'id': 18,\n   'properties': {'ii': '920030500020',\n    'r': '国道１４２号',\n    'ad': '諏訪郡下諏訪町字丁子',\n    'ot': '2024年10月29日 13:57',\n    'ci': True,\n    'pi': '920030500020_20241029_1357.jpg',\n    'sn': False,\n    'vs': '新和田トンネル諏訪側坑口'},\n   'geometry': {'type': 'Point',\n    'crs': {'type': 'name', 'properties': {'name': 'EPSG:4612'}},\n    'coordinates': [138.13816, 36.13489]}}]}"
     },
     "execution_count": 52,
     "metadata": {},
     "output_type": "execute_result"
    }
   ],
   "source": [
    "traffic_data"
   ],
   "metadata": {
    "collapsed": false,
    "ExecuteTime": {
     "end_time": "2024-10-29T05:30:36.796267900Z",
     "start_time": "2024-10-29T05:30:36.767173100Z"
    }
   },
   "id": "b02582e3f42c3166"
  },
  {
   "cell_type": "code",
   "execution_count": 13,
   "outputs": [],
   "source": [
    "# foliumマップを作成\n",
    "center_lon, center_lat = 139.75492, 35.70252\n",
    "m = folium.Map(location=[center_lat, center_lon], zoom_start=12)\n",
    "folium.TileLayer('cartodbpositron')\n",
    "# フィーチャのジオメトリを描画\n",
    "for feature in traffic_data['features']:\n",
    "    geometry = feature['geometry']\n",
    "    if geometry['type'] == 'MultiLineString':\n",
    "        # 各ラインを描画\n",
    "        for line_coords in geometry['coordinates']:\n",
    "            # 座標の順序を逆にする（foliumは[lat, lon]の順で指定）\n",
    "            lat_lon_coords = [[coord[1], coord[0]] for coord in line_coords]\n",
    "            # PolyLineでラインを追加\n",
    "            folium.PolyLine(\n",
    "                locations=lat_lon_coords,\n",
    "                color='red',\n",
    "                weight=3,\n",
    "                opacity=0.8\n",
    "            ).add_to(m)\n",
    "\n",
    "# マップを保存\n",
    "m.save(\"C:/Users/tora2/downloads/traffic_map.html\")"
   ],
   "metadata": {
    "collapsed": false,
    "ExecuteTime": {
     "end_time": "2024-10-29T04:34:03.686310200Z",
     "start_time": "2024-10-29T04:34:03.638928Z"
    }
   },
   "id": "d8c3540b10bf63c9"
  },
  {
   "cell_type": "code",
   "execution_count": 16,
   "outputs": [],
   "source": [
    "# foliumマップを作成\n",
    "center_lon, center_lat = 139.75492, 35.70252\n",
    "m = folium.Map(location=[center_lat, center_lon], zoom_start=12)\n",
    "# フィーチャのジオメトリを描画\n",
    "for feature in traffic_data['features']:\n",
    "    geometry = feature['geometry']\n",
    "    if geometry['type'] == 'MultiLineString':\n",
    "        for line_coords in geometry['coordinates']:\n",
    "            # 座標の順序を逆にする（foliumは[lat, lon]の順で指定）\n",
    "            lat_lon_coords = [[coord[1], coord[0]] for coord in line_coords]\n",
    "\n",
    "            # PolyLineでラインを追加\n",
    "            folium.PolyLine(\n",
    "                locations=lat_lon_coords,\n",
    "                color='red',\n",
    "                weight=3,\n",
    "                opacity=0.8,\n",
    "                dash_array='5, 5',  # 破線を使う場合\n",
    "                tooltip='Line Segment'\n",
    "            ).add_to(m)\n",
    "\n",
    "            # 矢印（中間点に追加）\n",
    "            middle_point = lat_lon_coords[len(lat_lon_coords) // 2]\n",
    "            folium.RegularPolygonMarker(\n",
    "                location=middle_point,\n",
    "                fill_color='red',\n",
    "                number_of_sides=3,\n",
    "                radius=8,\n",
    "                rotation=0\n",
    "            ).add_to(m)\n",
    "\n",
    "            # 始点にマーカーを追加\n",
    "            start_point = lat_lon_coords[0]\n",
    "            folium.Marker(\n",
    "                location=start_point,\n",
    "                icon=folium.Icon(color='green', icon='play', prefix='fa'),\n",
    "                tooltip='Start Point'\n",
    "            ).add_to(m)\n",
    "\n",
    "            # 終点にマーカーを追加\n",
    "            end_point = lat_lon_coords[-1]\n",
    "            folium.Marker(\n",
    "                location=end_point,\n",
    "                icon=folium.Icon(color='red', icon='stop', prefix='fa'),\n",
    "                tooltip='End Point'\n",
    "            ).add_to(m)\n",
    "\n",
    "# マップを保存\n",
    "m.save(\"C:/Users/tora2/downloads/enhanced_traffic_map.html\")"
   ],
   "metadata": {
    "collapsed": false,
    "ExecuteTime": {
     "end_time": "2024-10-29T04:35:47.648214100Z",
     "start_time": "2024-10-29T04:35:47.608832600Z"
    }
   },
   "id": "378ca5e570175d98"
  },
  {
   "cell_type": "code",
   "execution_count": 22,
   "outputs": [],
   "source": [
    "# マップの中心座標（例として東京付近）\n",
    "center_lon, center_lat = 139.37917, 35.71065\n",
    "\n",
    "# foliumマップの作成\n",
    "m = folium.Map(location=[center_lat, center_lon], zoom_start=20)\n",
    "\n",
    "# ラインデータ（緯度経度のリスト）\n",
    "line_coords = [[139.37917, 35.71065],\n",
    "               [139.37898, 35.7102],\n",
    "               [139.37893, 35.70995],\n",
    "               [139.37893, 35.70995],\n",
    "               [139.37876, 35.70907],\n",
    "               [139.37863, 35.70833],\n",
    "               [139.37863, 35.70833],\n",
    "               [139.37842, 35.7072],\n",
    "               [139.37842, 35.70716],\n",
    "               [139.37834, 35.70671],\n",
    "               [139.37875, 35.70729]]\n",
    "\n",
    "# ラインを地図上に追加\n",
    "folium.PolyLine(\n",
    "    locations=[[line_coord[1], line_coord[0]] for line_coord in line_coords],  # 座標リスト（緯度, 経度の順）\n",
    "    color='blue',           # ラインの色\n",
    "    weight=5,               # ラインの太さ\n",
    "    opacity=1             # ラインの透明度\n",
    ").add_to(m)\n",
    "\n",
    "# 地図を保存\n",
    "m.save(\"C:/Users/tora2/downloads/simple_line_map.html\")"
   ],
   "metadata": {
    "collapsed": false,
    "ExecuteTime": {
     "end_time": "2024-10-29T04:43:02.636490700Z",
     "start_time": "2024-10-29T04:43:02.602303100Z"
    }
   },
   "id": "551cee8b9e395068"
  },
  {
   "cell_type": "code",
   "execution_count": 53,
   "outputs": [
    {
     "name": "stdout",
     "output_type": "stream",
     "text": [
      "エラー: 404\n"
     ]
    }
   ],
   "source": [
    "# エンドポイントのURL\n",
    "url = 'https://resas.go.jp/api/v1/cities/13'\n",
    "\n",
    "# リクエストヘッダーの設定\n",
    "headers = {\n",
    "    'User-Agent': 'Mozilla/5.0',\n",
    "    'Accept': 'application/json',\n",
    "}\n",
    "\n",
    "# GETリクエストの送信\n",
    "response = requests.get(url, headers=headers)\n",
    "\n",
    "# レスポンスの解析\n",
    "if response.status_code == 200:\n",
    "    data = response.json()\n",
    "    # データを表示\n",
    "    print(data)\n",
    "else:\n",
    "    print(f\"エラー: {response.status_code}\")\n",
    "\n",
    "fo"
   ],
   "metadata": {
    "collapsed": false,
    "ExecuteTime": {
     "end_time": "2024-10-29T06:01:08.136916900Z",
     "start_time": "2024-10-29T06:01:07.942277Z"
    }
   },
   "id": "6d4f8cc2953d4a71"
  },
  {
   "cell_type": "code",
   "execution_count": null,
   "outputs": [],
   "source": [],
   "metadata": {
    "collapsed": false
   },
   "id": "50db5234b3d37964"
  }
 ],
 "metadata": {
  "kernelspec": {
   "display_name": "Python 3",
   "language": "python",
   "name": "python3"
  },
  "language_info": {
   "codemirror_mode": {
    "name": "ipython",
    "version": 2
   },
   "file_extension": ".py",
   "mimetype": "text/x-python",
   "name": "python",
   "nbconvert_exporter": "python",
   "pygments_lexer": "ipython2",
   "version": "2.7.6"
  }
 },
 "nbformat": 4,
 "nbformat_minor": 5
}
