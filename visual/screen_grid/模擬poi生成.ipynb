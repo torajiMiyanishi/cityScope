{
 "cells": [
  {
   "cell_type": "code",
   "execution_count": 91,
   "id": "initial_id",
   "metadata": {
    "collapsed": true,
    "ExecuteTime": {
     "end_time": "2024-11-02T21:01:43.988435500Z",
     "start_time": "2024-11-02T21:01:43.972011Z"
    }
   },
   "outputs": [],
   "source": [
    "import sqlite3\n",
    "import random\n",
    "import uuid\n",
    "\n",
    "def generate_random_coordinates(num_points, lat_range, lng_range):\n",
    "    \"\"\"\n",
    "    指定範囲内で任意個数の緯度経度をランダムに生成する関数\n",
    "\n",
    "    Parameters:\n",
    "        num_points (int): 生成する緯度経度ペアの個数\n",
    "        lat_range (tuple): 緯度の範囲 (min_lat, max_lat)\n",
    "        lng_range (tuple): 経度の範囲 (min_lng, max_lng)\n",
    "\n",
    "    Returns:\n",
    "        list: (緯度, 経度) のリスト\n",
    "    \"\"\"\n",
    "    coordinates = [\n",
    "        (\n",
    "            str(uuid.uuid4()),\n",
    "            random.uniform(lat_range[0], lat_range[1]),\n",
    "            random.uniform(lng_range[0], lng_range[1]),\n",
    "            1\n",
    "        )\n",
    "        for _ in range(num_points)\n",
    "    ]\n",
    "    return coordinates"
   ]
  },
  {
   "cell_type": "code",
   "execution_count": 127,
   "outputs": [],
   "source": [
    "# 模擬poi生成\n",
    "conn = sqlite3.connect(\"./POI.db\")\n",
    "cursor = conn.cursor()\n",
    "cursor.execute(\"\"\"DROP TABLE IF EXISTS poi\"\"\")\n",
    "cursor.execute(\"\"\"CREATE TABLE poi(uuid TEXT, lat REAL, lon REAL, accessibility REAL)\"\"\")\n",
    "conn.commit()\n",
    "conn.close()"
   ],
   "metadata": {
    "collapsed": false,
    "ExecuteTime": {
     "end_time": "2024-11-02T22:37:40.015523500Z",
     "start_time": "2024-11-02T22:37:39.660599800Z"
    }
   },
   "id": "abe6db1400494007"
  },
  {
   "cell_type": "code",
   "execution_count": 131,
   "outputs": [
    {
     "name": "stdout",
     "output_type": "stream",
     "text": [
      "0\n"
     ]
    }
   ],
   "source": [
    "conn = sqlite3.connect(\"./MARKER_POSITION.db\")\n",
    "cursor = conn.cursor()\n",
    "cursor.execute(\"\"\"SELECT * FROM map_bounds\"\"\")\n",
    "latitudes = []\n",
    "longitudes = []\n",
    "record = list(cursor.fetchall())\n",
    "for i in range(len(record)):\n",
    "    print(i)\n",
    "    if i != 0:\n",
    "        if i % 2 == 1: #奇数\n",
    "            latitudes.append(record[i])\n",
    "        else: # 偶数\n",
    "            longitudes.append(record[i])\n",
    "    ++i\n",
    "conn.close()"
   ],
   "metadata": {
    "collapsed": false,
    "ExecuteTime": {
     "end_time": "2024-11-02T22:38:04.879049300Z",
     "start_time": "2024-11-02T22:38:04.192093900Z"
    }
   },
   "id": "1776b3bd46351da"
  },
  {
   "cell_type": "code",
   "execution_count": 132,
   "outputs": [],
   "source": [
    "conn = sqlite3.connect(\"./MARKER_POSITION.db\")\n",
    "cursor = conn.cursor()\n",
    "cursor.execute(\"\"\"SELECT * FROM map_bounds\"\"\")\n",
    "latitudes = []\n",
    "longitudes = []\n",
    "record = list(cursor.fetchall())[0]\n",
    "for i in range(len(record)):\n",
    "    if i != 0:\n",
    "        if i % 2 == 1: #奇数\n",
    "            latitudes.append(record[i])\n",
    "        else: # 偶数\n",
    "            longitudes.append(record[i])\n",
    "    ++i\n",
    "conn.close()"
   ],
   "metadata": {
    "collapsed": false,
    "ExecuteTime": {
     "end_time": "2024-11-02T22:38:05.400505300Z",
     "start_time": "2024-11-02T22:38:05.285624400Z"
    }
   },
   "id": "ec301bd60f5fb666"
  },
  {
   "cell_type": "code",
   "execution_count": 133,
   "outputs": [],
   "source": [
    "poi_data = generate_random_coordinates(100, (min(latitudes),max(latitudes)), (min(longitudes),max(longitudes)))"
   ],
   "metadata": {
    "collapsed": false,
    "ExecuteTime": {
     "end_time": "2024-11-02T22:38:06.358138100Z",
     "start_time": "2024-11-02T22:38:06.137400500Z"
    }
   },
   "id": "1d061aaa2a6e9c4"
  },
  {
   "cell_type": "code",
   "execution_count": 134,
   "outputs": [],
   "source": [
    "# 模擬poi生成\n",
    "conn = sqlite3.connect(\"./POI.db\")\n",
    "cursor = conn.cursor()\n",
    "cursor.executemany(\"INSERT INTO poi (uuid, lat, lon, accessibility) VALUES (?, ?, ?, ?)\", poi_data)\n",
    "conn.commit()\n",
    "conn.close()"
   ],
   "metadata": {
    "collapsed": false,
    "ExecuteTime": {
     "end_time": "2024-11-02T22:38:11.948217200Z",
     "start_time": "2024-11-02T22:38:11.750723500Z"
    }
   },
   "id": "c2a6b1184ed77978"
  },
  {
   "cell_type": "code",
   "execution_count": 118,
   "outputs": [
    {
     "name": "stdout",
     "output_type": "stream",
     "text": [
      "(0, 40.80680470203247, -73.97363742925744, 40.80680470203247, -73.9555450592365, 40.79319460031401, -73.97363742925744, 40.79319460031401, -73.9555450592365)\n"
     ]
    }
   ],
   "source": [
    "# 模擬poi生成\n",
    "conn = sqlite3.connect(\"./MARKER_POSITION.db\")\n",
    "cursor = conn.cursor()\n",
    "cursor.execute(\"SELECT * FROM map_bounds\")\n",
    "for r in cursor.fetchall():\n",
    "    print(r)\n",
    "# cursor.execute(\"CREATE TABLE block_latlon(lat REAL, lon REAL)\")\n",
    "# conn.commit()\n",
    "conn.close()"
   ],
   "metadata": {
    "collapsed": false,
    "ExecuteTime": {
     "end_time": "2024-11-02T22:26:55.566149200Z",
     "start_time": "2024-11-02T22:26:55.267694Z"
    }
   },
   "id": "72216e0130564f00"
  },
  {
   "cell_type": "code",
   "execution_count": null,
   "outputs": [],
   "source": [],
   "metadata": {
    "collapsed": false
   },
   "id": "99078859a5478205"
  }
 ],
 "metadata": {
  "kernelspec": {
   "display_name": "Python 3",
   "language": "python",
   "name": "python3"
  },
  "language_info": {
   "codemirror_mode": {
    "name": "ipython",
    "version": 2
   },
   "file_extension": ".py",
   "mimetype": "text/x-python",
   "name": "python",
   "nbconvert_exporter": "python",
   "pygments_lexer": "ipython2",
   "version": "2.7.6"
  }
 },
 "nbformat": 4,
 "nbformat_minor": 5
}
