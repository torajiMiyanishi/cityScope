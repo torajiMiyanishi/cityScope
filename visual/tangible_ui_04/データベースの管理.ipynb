{
 "cells": [
  {
   "cell_type": "code",
   "execution_count": 9,
   "id": "initial_id",
   "metadata": {
    "collapsed": true,
    "ExecuteTime": {
     "end_time": "2024-10-16T03:15:59.318330500Z",
     "start_time": "2024-10-16T03:15:59.303650200Z"
    }
   },
   "outputs": [],
   "source": [
    "import sqlite3\n",
    "import random"
   ]
  },
  {
   "cell_type": "code",
   "execution_count": 2,
   "outputs": [],
   "source": [
    "path_to_db = \"./CityData.db\""
   ],
   "metadata": {
    "collapsed": false,
    "ExecuteTime": {
     "end_time": "2024-10-16T02:58:18.858379700Z",
     "start_time": "2024-10-16T02:58:18.826560400Z"
    }
   },
   "id": "69db5c3af0f0e241"
  },
  {
   "cell_type": "code",
   "execution_count": 82,
   "outputs": [],
   "source": [
    "conn = sqlite3.connect(path_to_db)\n",
    "cursor = conn.cursor()\n",
    "cursor.execute(\"DROP TABLE IF EXISTS agent_locations\")\n",
    "cursor.execute(\"\"\"CREATE TABLE IF NOT EXISTS agent_locations ( \n",
    "                timestamp INTEGER,\n",
    "                person_name TEXT,\n",
    "                gender TEXT,\n",
    "                age INTEGER,\n",
    "                latitude REAL,\n",
    "                longitude REAL\n",
    "                )\"\"\")\n",
    "conn.commit()\n",
    "conn.close()"
   ],
   "metadata": {
    "collapsed": false,
    "ExecuteTime": {
     "end_time": "2024-10-17T00:17:37.039108900Z",
     "start_time": "2024-10-17T00:17:36.975053Z"
    }
   },
   "id": "7a265b45e3eb41b8"
  },
  {
   "cell_type": "code",
   "execution_count": 66,
   "outputs": [],
   "source": [
    "from datetime import datetime, timezone, timedelta\n",
    "import pandas as pd\n",
    "lat1,lon1 = 35.41999406094201, 139.59293676550791\n",
    "lat2,lon2 = 35.40920081805633, 139.5977526075131"
   ],
   "metadata": {
    "collapsed": false,
    "ExecuteTime": {
     "end_time": "2024-10-16T08:30:20.804452300Z",
     "start_time": "2024-10-16T08:30:20.793082600Z"
    }
   },
   "id": "7645c690132e8b5e"
  },
  {
   "cell_type": "code",
   "execution_count": 67,
   "outputs": [],
   "source": [
    "# JSTはUTC+9時間なので、タイムゾーンを設定\n",
    "jst = timezone(timedelta(hours=9))\n",
    "data = {\"timestamp\":[],\"person_name\":[],\"gender\":[],\"age\":[],\"latitude\":[],\"longitude\":[]}\n",
    "for m in range(1):\n",
    "    for s in range(60):\n",
    "        # 日本標準時（JST）の日時を設定\n",
    "        jst_date_time = datetime(2023, 10, 16, 0, m, s, tzinfo=jst)\n",
    "        # エポックタイム（Unixタイムスタンプ）に変換\n",
    "        timestamp = int(jst_date_time.timestamp()*1000)\n",
    "        for n in range(2):\n",
    "            agent_name = f\"person_{str(n)}\"\n",
    "            lat,lon = random.uniform(lat1,lat2), random.uniform(lon1,lon2)\n",
    "            data[\"timestamp\"] += [timestamp]\n",
    "            data[\"person_name\"] += [agent_name]\n",
    "            data[\"gender\"] += [\"MALE\"]\n",
    "            data[\"age\"] += [20]\n",
    "            data[\"latitude\"] += [lat]\n",
    "            data[\"longitude\"] += [lon]\n",
    "            \n",
    "data = pd.DataFrame(data)"
   ],
   "metadata": {
    "collapsed": false,
    "ExecuteTime": {
     "end_time": "2024-10-16T08:30:21.342230100Z",
     "start_time": "2024-10-16T08:30:21.330902400Z"
    }
   },
   "id": "335c94c7b51228de"
  },
  {
   "cell_type": "code",
   "execution_count": 68,
   "outputs": [],
   "source": [
    "conn = sqlite3.connect(path_to_db)\n",
    "data.to_sql(name=\"agent_locations\",con=conn,if_exists=\"append\",index=False)\n",
    "conn.commit()\n",
    "conn.close()"
   ],
   "metadata": {
    "collapsed": false,
    "ExecuteTime": {
     "end_time": "2024-10-16T08:30:21.867226800Z",
     "start_time": "2024-10-16T08:30:21.854892100Z"
    }
   },
   "id": "dc7ad60cf78cdf2b"
  },
  {
   "cell_type": "code",
   "execution_count": 79,
   "outputs": [],
   "source": [
    "conn = sqlite3.connect(path_to_db)\n",
    "cursor = conn.cursor()\n",
    "cursor.execute(\"SELECT * FROM agent_locations\")\n",
    "for r in cursor.fetchall():\n",
    "    print(r)\n",
    "conn.close()"
   ],
   "metadata": {
    "collapsed": false,
    "ExecuteTime": {
     "end_time": "2024-10-16T12:07:04.042676600Z",
     "start_time": "2024-10-16T12:07:04.031443100Z"
    }
   },
   "id": "9221dbbc0f1d3bae"
  },
  {
   "cell_type": "code",
   "execution_count": null,
   "outputs": [],
   "source": [],
   "metadata": {
    "collapsed": false
   },
   "id": "3de6a833da271c61"
  }
 ],
 "metadata": {
  "kernelspec": {
   "display_name": "Python 3",
   "language": "python",
   "name": "python3"
  },
  "language_info": {
   "codemirror_mode": {
    "name": "ipython",
    "version": 2
   },
   "file_extension": ".py",
   "mimetype": "text/x-python",
   "name": "python",
   "nbconvert_exporter": "python",
   "pygments_lexer": "ipython2",
   "version": "2.7.6"
  }
 },
 "nbformat": 4,
 "nbformat_minor": 5
}
