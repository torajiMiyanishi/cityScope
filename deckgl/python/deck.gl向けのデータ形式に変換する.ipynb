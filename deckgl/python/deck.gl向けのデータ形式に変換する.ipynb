{
 "cells": [
  {
   "cell_type": "code",
   "execution_count": 17,
   "id": "initial_id",
   "metadata": {
    "collapsed": true,
    "ExecuteTime": {
     "end_time": "2024-10-04T09:37:35.289801500Z",
     "start_time": "2024-10-04T09:37:35.286157900Z"
    }
   },
   "outputs": [],
   "source": [
    "import pandas as pd\n",
    "import json\n",
    "from datetime import datetime,timedelta"
   ]
  },
  {
   "cell_type": "code",
   "execution_count": 2,
   "outputs": [],
   "source": [
    "path_location_log = \"C:\\\\Users\\\\tora2\\\\IdeaProjects\\\\cityScope\\\\logs\\\\seed_10400_no_100_location_log.csv\""
   ],
   "metadata": {
    "collapsed": false,
    "ExecuteTime": {
     "end_time": "2024-10-04T09:29:34.895839500Z",
     "start_time": "2024-10-04T09:29:34.873027800Z"
    }
   },
   "id": "6b45aafa8590f7da"
  },
  {
   "cell_type": "code",
   "execution_count": 22,
   "outputs": [],
   "source": [
    "def cast_time(time_str):\n",
    "    # 入力フォーマット 'D/HH:MM:SS'\n",
    "    days, time = time_str.split('/')\n",
    "    hours, minutes, seconds = map(int, time.split(':'))\n",
    "    # 基準となる日付（ここでは仮に2024年10月1日を使用）\n",
    "    base_date = datetime(2024, 10, 1)\n",
    "    # 日数と時間を加算\n",
    "    result_date = base_date + timedelta(days=int(days), hours=hours, minutes=minutes, seconds=seconds)\n",
    "    # ISO 8601 形式に変換\n",
    "    return result_date.strftime('%Y-%m-%dT%H:%M:%SZ')\n",
    "    "
   ],
   "metadata": {
    "collapsed": false,
    "ExecuteTime": {
     "end_time": "2024-10-04T10:04:12.219928200Z",
     "start_time": "2024-10-04T10:04:12.214680Z"
    }
   },
   "id": "663e0c3f60cec16"
  },
  {
   "cell_type": "code",
   "execution_count": 23,
   "outputs": [],
   "source": [
    "df = pd.read_csv(path_location_log,usecols=[\"CurrentTime\",\"Latitude\",\"Longitude\"])"
   ],
   "metadata": {
    "collapsed": false,
    "ExecuteTime": {
     "end_time": "2024-10-04T10:04:13.171996200Z",
     "start_time": "2024-10-04T10:04:13.094962500Z"
    }
   },
   "id": "dc9b3a7d13b020b3"
  },
  {
   "cell_type": "code",
   "execution_count": 24,
   "outputs": [],
   "source": [
    "df[\"CurrentTime\"] = df[\"CurrentTime\"].apply(cast_time)\n",
    "df[\"Weight\"] = 1\n",
    "# DataFrameをJSONに変換\n",
    "json_data = df.to_json(orient='values')"
   ],
   "metadata": {
    "collapsed": false,
    "ExecuteTime": {
     "end_time": "2024-10-04T10:04:14.812806600Z",
     "start_time": "2024-10-04T10:04:13.570664600Z"
    }
   },
   "id": "7d76e405127d5e9d"
  },
  {
   "cell_type": "code",
   "execution_count": 26,
   "outputs": [],
   "source": [
    "with open('../data/data.json', 'w') as file:\n",
    "    file.write(json_data)"
   ],
   "metadata": {
    "collapsed": false,
    "ExecuteTime": {
     "end_time": "2024-10-04T10:04:44.267701900Z",
     "start_time": "2024-10-04T10:04:44.241533Z"
    }
   },
   "id": "a97be6dcaa45fd7a"
  },
  {
   "cell_type": "code",
   "execution_count": null,
   "outputs": [],
   "source": [],
   "metadata": {
    "collapsed": false
   },
   "id": "f64b3ccd85a16ff0"
  }
 ],
 "metadata": {
  "kernelspec": {
   "display_name": "Python 3",
   "language": "python",
   "name": "python3"
  },
  "language_info": {
   "codemirror_mode": {
    "name": "ipython",
    "version": 2
   },
   "file_extension": ".py",
   "mimetype": "text/x-python",
   "name": "python",
   "nbconvert_exporter": "python",
   "pygments_lexer": "ipython2",
   "version": "2.7.6"
  }
 },
 "nbformat": 4,
 "nbformat_minor": 5
}
