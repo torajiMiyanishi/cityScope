{
 "cells": [
  {
   "cell_type": "code",
   "execution_count": 3,
   "id": "initial_id",
   "metadata": {
    "collapsed": true,
    "ExecuteTime": {
     "end_time": "2024-10-03T05:24:43.748059900Z",
     "start_time": "2024-10-03T05:24:42.342636700Z"
    }
   },
   "outputs": [],
   "source": [
    "import geopandas as gpd\n",
    "import pandas as pd\n",
    "import matplotlib.pyplot as plt\n",
    "from shapely.geometry import MultiPolygon, Polygon\n",
    "import os\n",
    "import sqlite3\n",
    "\n",
    "import subprocess\n",
    "from tqdm import tqdm"
   ]
  },
  {
   "cell_type": "markdown",
   "source": [
    "対象範囲を切り出すために，まず外接多角形の.polyを作成"
   ],
   "metadata": {
    "collapsed": false
   },
   "id": "5d629646e59565a1"
  },
  {
   "cell_type": "code",
   "execution_count": 23,
   "outputs": [],
   "source": [
    "# 都道府県名と地方名の対応辞書\n",
    "region_mapping = {\n",
    "    \"北海道\": \"北海道地方\",\n",
    "    \"青森県\": \"東北地方\",\n",
    "    \"岩手県\": \"東北地方\",\n",
    "    \"宮城県\": \"東北地方\",\n",
    "    \"秋田県\": \"東北地方\",\n",
    "    \"山形県\": \"東北地方\",\n",
    "    \"福島県\": \"東北地方\",\n",
    "    \"茨城県\": \"関東地方\",\n",
    "    \"栃木県\": \"関東地方\",\n",
    "    \"群馬県\": \"関東地方\",\n",
    "    \"埼玉県\": \"関東地方\",\n",
    "    \"千葉県\": \"関東地方\",\n",
    "    \"東京都\": \"関東地方\",\n",
    "    \"神奈川県\": \"関東地方\",\n",
    "    \"新潟県\": \"中部地方\",\n",
    "    \"富山県\": \"中部地方\",\n",
    "    \"石川県\": \"中部地方\",\n",
    "    \"福井県\": \"中部地方\",\n",
    "    \"山梨県\": \"中部地方\",\n",
    "    \"長野県\": \"中部地方\",\n",
    "    \"岐阜県\": \"中部地方\",\n",
    "    \"静岡県\": \"中部地方\",\n",
    "    \"愛知県\": \"中部地方\",\n",
    "    \"三重県\": \"近畿地方\",\n",
    "    \"滋賀県\": \"近畿地方\",\n",
    "    \"京都府\": \"近畿地方\",\n",
    "    \"大阪府\": \"近畿地方\",\n",
    "    \"兵庫県\": \"近畿地方\",\n",
    "    \"奈良県\": \"近畿地方\",\n",
    "    \"和歌山県\": \"近畿地方\",\n",
    "    \"鳥取県\": \"中国地方\",\n",
    "    \"島根県\": \"中国地方\",\n",
    "    \"岡山県\": \"中国地方\",\n",
    "    \"広島県\": \"中国地方\",\n",
    "    \"山口県\": \"中国地方\",\n",
    "    \"徳島県\": \"四国地方\",\n",
    "    \"香川県\": \"四国地方\",\n",
    "    \"愛媛県\": \"四国地方\",\n",
    "    \"高知県\": \"四国地方\",\n",
    "    \"福岡県\": \"九州地方\",\n",
    "    \"佐賀県\": \"九州地方\",\n",
    "    \"長崎県\": \"九州地方\",\n",
    "    \"熊本県\": \"九州地方\",\n",
    "    \"大分県\": \"九州地方\",\n",
    "    \"宮崎県\": \"九州地方\",\n",
    "    \"鹿児島県\": \"九州地方\",\n",
    "    \"沖縄県\": \"九州地方\"\n",
    "}\n",
    "def geodataframe_to_poly_files(gdf, output_directory):\n",
    "    for index, row in gdf.iterrows():\n",
    "        geometry = row['geometry']\n",
    "        jcode = row[\"JCODE\"]\n",
    "        filename = f\"{output_directory}/{jcode}.poly\"\n",
    "\n",
    "        with open(filename, 'w') as poly_file:\n",
    "            if geometry.geom_type == 'Polygon':\n",
    "                poly_file.write(f\"polygon_{index}\\n\")\n",
    "                exterior_coords = list(geometry.exterior.coords)\n",
    "                for coord in exterior_coords:\n",
    "                    poly_file.write(f\"    {coord[0]} {coord[1]}\\n\")\n",
    "                poly_file.write(\"END\\n\\n\")\n",
    "            elif geometry.geom_type == 'MultiPolygon':\n",
    "                for i, polygon in enumerate(geometry.geoms):\n",
    "                    poly_file.write(f\"polygon_{index}_{i}\\n\")\n",
    "                    exterior_coords = list(polygon.exterior.coords)\n",
    "                    for coord in exterior_coords:\n",
    "                        poly_file.write(f\"    {coord[0]} {coord[1]}\\n\")\n",
    "                    poly_file.write(\"END\\n\\n\")\n",
    "DIR = \"c:/lab/accessibility/\""
   ],
   "metadata": {
    "collapsed": false,
    "ExecuteTime": {
     "end_time": "2024-10-03T05:38:48.337093500Z",
     "start_time": "2024-10-03T05:38:48.319970700Z"
    }
   },
   "id": "3b3bfcee9521ecd8"
  },
  {
   "cell_type": "code",
   "execution_count": 10,
   "outputs": [],
   "source": [
    "\"\"\"市区町村向け\"\"\"\n",
    "path_to_edge = DIR+\"japan_ver84/japan_ver84.shp\"\n",
    "path_to_output_poly = DIR+\"gov_poly\"\n",
    "raw_gdf = gpd.read_file(path_to_edge)\n",
    "gdf = raw_gdf.copy()"
   ],
   "metadata": {
    "collapsed": false,
    "ExecuteTime": {
     "end_time": "2024-10-03T05:27:22.151286700Z",
     "start_time": "2024-10-03T05:27:20.328364900Z"
    }
   },
   "id": "b88694b0ff76aec9"
  },
  {
   "cell_type": "code",
   "execution_count": 17,
   "outputs": [],
   "source": [
    "\"\"\"任意の範囲にクエリ\"\"\"\n",
    "target_jcode = \"14100\"\n",
    "target = gdf.query(\"SEIREI == '横浜市'\").dissolve(by='SEIREI',as_index=False)\n",
    "target[\"JCODE\"] = pd.Series([target_jcode])\n",
    "gdf = target.filter(items=[\"JCODE\", \"geometry\"])\n",
    "gdf_convex = gdf.copy()\n",
    "gdf_convex['geometry'] = gdf_convex['geometry'].apply(lambda geom: geom.convex_hull) # 外接多角形に置換"
   ],
   "metadata": {
    "collapsed": false,
    "ExecuteTime": {
     "end_time": "2024-10-03T05:36:38.700774700Z",
     "start_time": "2024-10-03T05:36:38.627196400Z"
    }
   },
   "id": "a4a269125636fb71"
  },
  {
   "cell_type": "code",
   "execution_count": 24,
   "outputs": [],
   "source": [
    "out_path = \"C:/Users/tora2/downloads/\"\n",
    "geodataframe_to_poly_files(gdf_convex,out_path)"
   ],
   "metadata": {
    "collapsed": false,
    "ExecuteTime": {
     "end_time": "2024-10-03T05:39:36.583857Z",
     "start_time": "2024-10-03T05:39:36.540152200Z"
    }
   },
   "id": "a7a9a7a226b2be1b"
  },
  {
   "cell_type": "markdown",
   "source": [
    ".polyをもとに，pbfを切り抜く"
   ],
   "metadata": {
    "collapsed": false
   },
   "id": "f2f3403c8bce453"
  },
  {
   "cell_type": "code",
   "execution_count": 26,
   "outputs": [],
   "source": [
    "pbf_file = f\"/mnt/c/lab/accessibility/separate_road_pbf_drop_pf/14-road.osm.pbf\"\n",
    "poly_file = f\"/mnt/c/lab/accessibility/gov_poly/additional/{target_jcode}.poly\"\n",
    "output_file = f\"/mnt/c/lab/accessibility/separate_road_pbf_drop_pf/additional/{target_jcode}-road.osm.pbf\"\n",
    "\n",
    "# osmconvertコマンドの作成\n",
    "osmconvert_path = \"/usr/bin/osmconvert\"  # osmconvertのパス\n",
    "# command = f\"{osmconvert_path} {pbf_file} -B={poly_file} --complete-ways -o={output_file}\"\n",
    "command = f\"{osmconvert_path} {pbf_file} -B={poly_file} -o={output_file}\"\n",
    "result = subprocess.run([\"wsl\", \"bash\", \"-c\", command], capture_output=True, text=True)\n",
    "if result.returncode != 0:\n",
    "    print(f\"Error @ {pbf_file} \\n {poly_file}\")"
   ],
   "metadata": {
    "collapsed": false,
    "ExecuteTime": {
     "end_time": "2024-10-03T05:48:31.471426600Z",
     "start_time": "2024-10-03T05:48:12.540391100Z"
    }
   },
   "id": "13b1f3b5240c3e8f"
  }
 ],
 "metadata": {
  "kernelspec": {
   "display_name": "Python 3",
   "language": "python",
   "name": "python3"
  },
  "language_info": {
   "codemirror_mode": {
    "name": "ipython",
    "version": 2
   },
   "file_extension": ".py",
   "mimetype": "text/x-python",
   "name": "python",
   "nbconvert_exporter": "python",
   "pygments_lexer": "ipython2",
   "version": "2.7.6"
  }
 },
 "nbformat": 4,
 "nbformat_minor": 5
}
