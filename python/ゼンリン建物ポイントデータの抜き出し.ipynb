{
 "cells": [
  {
   "cell_type": "code",
   "execution_count": null,
   "id": "initial_id",
   "metadata": {
    "collapsed": true
   },
   "outputs": [],
   "source": [
    "import pandas as pd\n",
    "import numpy as np\n",
    "import geopandas as gpd\n",
    "import glob\n",
    "from tqdm import tqdm\n",
    "import math\n",
    "from sklearn.neighbors import KernelDensity\n",
    "from scipy.signal import find_peaks\n",
    "import matplotlib.pyplot as plt\n",
    "import folium"
   ]
  },
  {
   "cell_type": "code",
   "execution_count": null,
   "outputs": [],
   "source": [
    "def latlonTable2GDF(table: pd.DataFrame, colName_lat: str, colName_lon: str):\n",
    "    return gpd.GeoDataFrame(table, geometry=gpd.points_from_xy(table[colName_lon], table[colName_lat])).set_crs(6668)\n",
    "def haversine_distance(coord1, coord2):\n",
    "    \"\"\"\n",
    "    緯度・経度の2点間の直線距離（ハバーサインの公式）\n",
    "    :param coord1: (lat1, lon1) - 点1の緯度・経度\n",
    "    :param coord2: (lat2, lon2) - 点2の緯度・経度\n",
    "    :return: 2点間の距離（単位：メートル）\n",
    "    \"\"\"\n",
    "    R = 6371.0 * 1000  # 地球の半径（メートル）\n",
    "\n",
    "    lat1, lon1 = map(math.radians, coord1)\n",
    "    lat2, lon2 = map(math.radians, coord2)\n",
    "\n",
    "    dlat = lat2 - lat1\n",
    "    dlon = lon2 - lon1\n",
    "\n",
    "    a = math.sin(dlat / 2) ** 2 + math.cos(lat1) * math.cos(lat2) * math.sin(dlon / 2) ** 2\n",
    "    c = 2 * math.atan2(math.sqrt(a), math.sqrt(1 - a))\n",
    "\n",
    "    return R * c"
   ],
   "metadata": {
    "collapsed": false
   },
   "id": "932df85dc841b547"
  },
  {
   "cell_type": "code",
   "execution_count": null,
   "outputs": [],
   "source": [
    "perf_no = \"14\"\n",
    "pref_name = \"神奈川県\"\n",
    "# 対象地区（横浜市）\n",
    "target_jcodes = [\n",
    "    \"14101\",\n",
    "    \"14102\",\n",
    "    \"14103\",\n",
    "    \"14104\",\n",
    "    \"14105\",\n",
    "    \"14106\",\n",
    "    \"14107\",\n",
    "    \"14108\",\n",
    "    \"14109\",\n",
    "    \"14110\",\n",
    "    \"14111\",\n",
    "    \"14112\",\n",
    "    \"14113\",\n",
    "    \"14114\",\n",
    "    \"14115\",\n",
    "    \"14116\",\n",
    "    \"14117\",\n",
    "    \"14118\"\n",
    "]\n",
    "path = f\"Y:\\\\GIS\\\\ゼンリンデータ\\\\建物ポイント\\\\*\\\\*\""
   ],
   "metadata": {
    "collapsed": false
   },
   "id": "cecc875156e967ca"
  },
  {
   "cell_type": "code",
   "execution_count": null,
   "outputs": [],
   "source": [
    "target_paths = []\n",
    "for p in tqdm(glob.glob(path)):\n",
    "    jcode = p.split(\"\\\\\")[-1][3:8]\n",
    "    if jcode in target_jcodes:\n",
    "        target_paths.append(p)"
   ],
   "metadata": {
    "collapsed": false
   },
   "id": "ef514952e0e5a327"
  },
  {
   "cell_type": "code",
   "execution_count": null,
   "outputs": [],
   "source": [
    "dfs = []\n",
    "for p in tqdm(target_paths):\n",
    "    dfs.append(pd.read_csv(p,usecols=[\"市区町村名\",\"大字名\",\"字丁目名\",\"街区\",\"地番・戸番\",\"建物名\",\"階数\",\"建物分類\",\"面積\",\"緯度\",\"経度\"],encoding=\"shift_jis\"))\n",
    "dfs = pd.concat(dfs)"
   ],
   "metadata": {
    "collapsed": false
   },
   "id": "6b6a205749caa1aa"
  },
  {
   "cell_type": "code",
   "execution_count": null,
   "outputs": [],
   "source": [
    "dfs[\"address\"] = (\n",
    "        dfs[\"市区町村名\"].fillna('') + \"_\" +\n",
    "        dfs[\"大字名\"].fillna('') + \"_\" +\n",
    "        dfs[\"字丁目名\"].fillna('') + \"_\" +\n",
    "        dfs[\"街区\"].fillna('') + \"_\" +\n",
    "        dfs[\"地番・戸番\"].fillna('') + \"_\" +\n",
    "        dfs[\"建物名\"].fillna('') + \"_\" +\n",
    "        dfs[\"階数\"].fillna('').astype(str)\n",
    ")\n",
    "dfs = dfs.filter(items=[\"建物分類\",\"面積\",\"緯度\",\"経度\",\"address\"]).set_axis([\"genre\",\"area\",\"latitude\",\"longitude\",\"address\"],axis=1)\n",
    "house = [1001,1002,1003,1004,1005,1006,1007,1008,9999]\n",
    "non_house = dfs.query(\"genre not in @house\")"
   ],
   "metadata": {
    "collapsed": false
   },
   "id": "e6ddcd08289352c3"
  },
  {
   "cell_type": "code",
   "execution_count": null,
   "outputs": [],
   "source": [
    "JCODE = \"14100\"\n",
    "genre_master = pd.read_csv(\"C:\\\\Users\\\\tora2\\\\IdeaProjects\\\\cityScope\\\\data\\\\zenrin_genre_master.csv\",usecols=[\"建物分類\",\"産業大分類\",\"モデル用定義\"]).set_axis([\"genre\",\"industry_type\",\"behavior_type\"],axis=1)\n",
    "pd.merge(non_house,genre_master,on=\"genre\",how=\"left\").filter(items=[\"genre\",\"area\",\"latitude\",\"longitude\",\"address\",\"industry_type\",\"behavior_type\"]).to_csv(f\"C:\\\\Users\\\\tora2\\\\IdeaProjects\\\\cityScope\\\\data\\\\zenrin_{JCODE}.csv\",index=False)"
   ],
   "metadata": {
    "collapsed": false
   },
   "id": "a2400c3a2597c9e4"
  },
  {
   "cell_type": "code",
   "execution_count": null,
   "outputs": [],
   "source": [
    "# non_house.to_csv(\"C:\\\\Users\\\\tora2\\\\IdeaProjects\\\\cityScope\\\\data\\\\zenrin_14100.csv\")\n",
    "non_house = pd.read_csv(\"C:\\\\Users\\\\tora2\\\\IdeaProjects\\\\cityScope\\\\data\\\\zenrin_14100.csv\")"
   ],
   "metadata": {
    "collapsed": false
   },
   "id": "462036e5ce7cc242"
  },
  {
   "cell_type": "markdown",
   "source": [
    "対象範囲にclip"
   ],
   "metadata": {
    "collapsed": false
   },
   "id": "e9c29e7cf29a5aaf"
  },
  {
   "cell_type": "code",
   "execution_count": null,
   "outputs": [],
   "source": [
    "mesh_poly = gpd.read_file(\"C:\\\\Users\\\\tora2\\\\IdeaProjects\\\\cityScope\\\\data\\\\mesh\\\\mesh_geom.shp\")"
   ],
   "metadata": {
    "collapsed": false
   },
   "id": "b05054d7bd0e414b"
  },
  {
   "cell_type": "code",
   "execution_count": null,
   "outputs": [],
   "source": [
    "sjoined = latlonTable2GDF(non_house,\"latitude\",\"longitude\").sjoin(mesh_poly.to_crs(6668),how=\"left\",predicate=\"intersects\").filter(items=[\"genre\",\"area\",\"latitude\",\"longitude\",\"address\",\"mesh_code\",\"industry_type\",\"behavior_type\"])"
   ],
   "metadata": {
    "collapsed": false
   },
   "id": "c0ca2af6d2c0381"
  },
  {
   "cell_type": "code",
   "execution_count": null,
   "outputs": [],
   "source": [
    "# 対象地域内\n",
    "sjoined.query(\"mesh_code == mesh_code\").to_csv(\"C:\\\\Users\\\\tora2\\\\IdeaProjects\\\\cityScope\\\\data\\\\poi\\\\zenrin_building.csv\",index=False)"
   ],
   "metadata": {
    "collapsed": false
   },
   "id": "11c33e79533e2979"
  },
  {
   "cell_type": "code",
   "execution_count": null,
   "outputs": [],
   "source": [],
   "metadata": {
    "collapsed": false
   },
   "id": "c550f2c2d03b9dc9"
  },
  {
   "cell_type": "code",
   "execution_count": null,
   "outputs": [],
   "source": [
    "sjoined"
   ],
   "metadata": {
    "collapsed": false
   },
   "id": "532090963b8d1e80"
  },
  {
   "cell_type": "code",
   "execution_count": null,
   "outputs": [],
   "source": [
    "# 対象地域外\n",
    "out_area = sjoined.query(\"mesh_code != mesh_code\").copy()\n",
    "out_area[\"eval\"] = out_area.apply(\n",
    "    lambda row: row[\"area\"]/haversine_distance((centLat,centLon),(row[\"latitude\"],row[\"longitude\"])),axis=1)"
   ],
   "metadata": {
    "collapsed": false
   },
   "id": "6b1d31fc300652e3"
  },
  {
   "cell_type": "code",
   "execution_count": null,
   "outputs": [],
   "source": [
    "cs = out_area.query(\"genre == 2010\").copy()"
   ],
   "metadata": {
    "collapsed": false
   },
   "id": "1366a0599908156a"
  },
  {
   "cell_type": "code",
   "execution_count": null,
   "outputs": [],
   "source": [
    "# データの読み込み\n",
    "latlon = np.vstack([cs.latitude, cs.longitude]).T\n",
    "values = cs[\"eval\"]  # 評価値を格納しているカラム\n",
    "\n",
    "# カーネル密度推定の実行\n",
    "kde = KernelDensity(bandwidth=0.01, kernel='gaussian')\n",
    "kde.fit(latlon, sample_weight=values)  # 評価値をサンプルウェイトとして使用\n",
    "x_d = np.linspace(latlon[:, 0].min(), latlon[:, 0].max(), 100)\n",
    "y_d = np.linspace(latlon[:, 1].min(), latlon[:, 1].max(), 100)\n",
    "xv, yv = np.meshgrid(x_d, y_d)\n",
    "xy_sample = np.vstack([xv.ravel(), yv.ravel()]).T\n",
    "density = np.exp(kde.score_samples(xy_sample)).reshape(100, 100)\n",
    "\n",
    "# 密度分布の可視化\n",
    "plt.imshow(density, extent=(x_d.min(), x_d.max(), y_d.min(), y_d.max()), origin='lower')\n",
    "plt.colorbar(label='Density')\n",
    "plt.show()\n",
    "\n",
    "# ローカルピークの検出\n",
    "peaks, _ = find_peaks(density.ravel(), prominence=0.8)  # prominenceは調整可能\n",
    "peak_positions = np.unravel_index(peaks, density.shape)\n",
    "\n",
    "# ローカルピークに対応する緯度経度\n",
    "peak_latlon = np.vstack([x_d[peak_positions[1]], y_d[peak_positions[0]]]).T\n",
    "print(peak_latlon)"
   ],
   "metadata": {
    "collapsed": false
   },
   "id": "f3267830b103b792"
  },
  {
   "cell_type": "code",
   "execution_count": null,
   "outputs": [],
   "source": [
    "# foliumの地図作成（最初のピーク地点を中心に設定）\n",
    "m = folium.Map(location=[peak_latlon[0][0], peak_latlon[0][1]], zoom_start=12)\n",
    "\n",
    "# ローカルピークを地図に追加\n",
    "for lat, lon in peak_latlon:\n",
    "    folium.Marker([lat, lon], popup=f'Peak: ({lat}, {lon})').add_to(m)\n",
    "\n",
    "# 地図を表示\n",
    "m"
   ],
   "metadata": {
    "collapsed": false
   },
   "id": "54f5d08ddc51a311"
  },
  {
   "cell_type": "code",
   "execution_count": null,
   "outputs": [],
   "source": [],
   "metadata": {
    "collapsed": false
   },
   "id": "9967ccf4384d25bd"
  }
 ],
 "metadata": {
  "kernelspec": {
   "display_name": "Python 3",
   "language": "python",
   "name": "python3"
  },
  "language_info": {
   "codemirror_mode": {
    "name": "ipython",
    "version": 2
   },
   "file_extension": ".py",
   "mimetype": "text/x-python",
   "name": "python",
   "nbconvert_exporter": "python",
   "pygments_lexer": "ipython2",
   "version": "2.7.6"
  }
 },
 "nbformat": 4,
 "nbformat_minor": 5
}
